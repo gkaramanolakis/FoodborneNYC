{
 "cells": [
  {
   "cell_type": "code",
   "execution_count": 523,
   "metadata": {
    "collapsed": false
   },
   "outputs": [
    {
     "name": "stdout",
     "output_type": "stream",
     "text": [
      "Populating the interactive namespace from numpy and matplotlib\n"
     ]
    },
    {
     "name": "stderr",
     "output_type": "stream",
     "text": [
      "WARNING: pylab import has clobbered these variables: ['f']\n",
      "`%matplotlib` prevents importing * from pylab and numpy\n"
     ]
    }
   ],
   "source": [
    "%pylab inline\n",
    "import numpy as np\n",
    "import matplotlib.pyplot as plt\n",
    "import csv\n",
    "import openpyxl\n",
    "from sklearn import cross_validation\n",
    "from sklearn import grid_search\n",
    "from sklearn import metrics\n",
    "from sklearn import tree\n",
    "from sklearn import ensemble\n",
    "\n",
    "plt.rcParams['figure.figsize'] = (10.0, 8.0)"
   ]
  },
  {
   "cell_type": "markdown",
   "metadata": {},
   "source": [
    "#### This data has some weird encoding issues... need a helper function"
   ]
  },
  {
   "cell_type": "code",
   "execution_count": 524,
   "metadata": {
    "collapsed": true
   },
   "outputs": [],
   "source": [
    "def xuni(s):\n",
    "    if not s:\n",
    "        return u''\n",
    "    elif type(s) == unicode:\n",
    "        return s.encode('utf-8')\n",
    "    elif type(s) == str:\n",
    "        return unicode(s, 'utf-8')\n",
    "    else: return ''\n",
    "    "
   ]
  },
  {
   "cell_type": "markdown",
   "metadata": {},
   "source": [
    "### Convert xlsx to csv, dealing with encoding issues\n",
    "Notes: \n",
    "* made a file with just three columns, date, reviews and 2_or_more_ill\n",
    "* also dropped '3' and '9' labels because they can't help (and there's only like 5 total)\n"
   ]
  },
  {
   "cell_type": "code",
   "execution_count": 535,
   "metadata": {
    "collapsed": false,
    "scrolled": true
   },
   "outputs": [],
   "source": [
    "#Original regression values + annotations\n",
    "wb = openpyxl.load_workbook('mult_data.xlsx')\n",
    "sh = wb.active\n",
    "with open('mult_data.csv', 'wb') as f:\n",
    "    c = csv.writer(f)\n",
    "    for r in sh.rows:\n",
    "        c.writerow([cell.value for cell in r])"
   ]
  },
  {
   "cell_type": "code",
   "execution_count": 536,
   "metadata": {
    "collapsed": true
   },
   "outputs": [],
   "source": [
    "##Annotated Reviews\n",
    "wb = openpyxl.load_workbook('yelp_mult_data.xlsx')\n",
    "sh = wb.active\n",
    "with open('yelp_mult_data.csv', 'wb') as f:\n",
    "    c = csv.writer(f)\n",
    "    for r in sh.rows:\n",
    "        c.writerow([xuni(cell.value) for cell in r])"
   ]
  },
  {
   "cell_type": "markdown",
   "metadata": {},
   "source": [
    "### Now let's write out the data we care about (but only the first 1/3) "
   ]
  },
  {
   "cell_type": "code",
   "execution_count": 537,
   "metadata": {
    "collapsed": false
   },
   "outputs": [
    {
     "name": "stdout",
     "output_type": "stream",
     "text": [
      "Keeping the first 2966 records\n",
      "3 ::  ['Date_Review', 'Review', '2_Or_More_Ill']\n",
      "\n"
     ]
    }
   ],
   "source": [
    "num_records = len([i for i,_ in enumerate(csv.reader(open('yelp_mult_data.csv', 'rU'), dialect='excel'))])\n",
    "stop = num_records/3\n",
    "print \"Keeping the first %i records\" % stop\n",
    "with open('yelp_mult_data.csv', 'rU') as f:\n",
    "    reader = csv.reader(f, dialect='excel')\n",
    "    with open('yelp_mult_data_small.csv', 'w') as w:\n",
    "        writer = csv.writer(w)\n",
    "        seenlen = []\n",
    "        for l, row in enumerate(reader):\n",
    "            # get indices we care about\n",
    "#             print l\n",
    "            if len(row) not in seenlen:\n",
    "                print len(row), ':: ', row\n",
    "                print\n",
    "                seenlen.append(len(row))\n",
    "            if l == 0:\n",
    "                rev_i = row.index('Review')\n",
    "                mult_i = row.index('2_Or_More_Ill')\n",
    "                writer.writerow(['data', 'label'])\n",
    "            elif row[rev_i] and row[mult_i] and row[mult_i] != '3' and row[mult_i] != '9': # skip blank rows\n",
    "                if row[mult_i] == '2':\n",
    "                    writer.writerow([row[rev_i], '0'])\n",
    "                elif row[mult_i] == '1':\n",
    "                    writer.writerow([row[rev_i], '1'])\n",
    "                else:continue\n",
    "            else: continue\n",
    "            if l >= stop: break"
   ]
  },
  {
   "cell_type": "markdown",
   "metadata": {},
   "source": [
    "#### And check that it looks good"
   ]
  },
  {
   "cell_type": "code",
   "execution_count": 538,
   "metadata": {
    "collapsed": false,
    "scrolled": true
   },
   "outputs": [
    {
     "name": "stdout",
     "output_type": "stream",
     "text": [
      "0:: ['data', 'label']\n",
      "\n",
      "1:: ['My friends and I ordered 3 burgers and a pitcher of sangria. Everything tasted good. Later on in the day we all got a stomach ache then 1 by 1 we all had to use the restroom several times before the days end. I love this place, but something there made us sick. \\n\\nIf I go back, I&#39;m going to stick with bottled beer.', '1']\n",
      "\n",
      "2:: ['Went here yesterday with a friend.  We both got food poisoning, most likely from the cajun chicken. Resulted in a pretty rough night last night and for my friend, a rough day today (will spare the details, but you can imagine).\\n\\nWould recommend steering clear unless you&#39;re looking to ruin about 24 hours of your life.\\n\\nGood happy hour special though after the last 24 hours I&#39;d stick to bottled beverages, trust factor on anything prepared there is low.\\n\\nAs an aside, during a previous trip, we were required to order at our tables rather than the counter, this caused the length of our visit to nearly double since they were understaffed to offer waiter service.\\n\\nManagement needs to take a look in the mirror and re-evaluate quality and process.', '1']\n",
      "\n",
      "3:: ['If I was writing this review for Choice Market one year ago, it would have been a solid 4 stars. Today, it pains me to have to leave a 1-star feedback for this Clinton Hill staple. \\n\\nI frequent Choice Market approximately once a week for lunch - usually have it delivered via Seamless or pick it up from there. While the service has always been abysmal, yesterday&#39;s Choice experience left me vowing never to return. \\n\\nMy co-workers and I placed an order via Seamless for pickup. The first mark on them was that when we got there they alerted me that one of the items we had ordered was one they didn&#39;t have. I don&#39;t know why they couldn&#39;t be bothered to call and tell me that before they charged my card AND proceeded to make the rest of the order. I have ordered from other places who happened to have something on their menu that was not in stock and received a call to alert me of this every. single. time. Upon asking them, &#34;Well, what are my options?&#34; The guy rudely said &#34;Um. A refund?&#34; Well, as I mentioned, the refund never came and I had to call Seamless, who very quickly resolved the matter.\\n\\nNow, as far as the food itself...it was off. My co-worker and I both ordered the steak panini and the steak in it tasted really REALLY off. We both noticed this and ended up removing the meat from the sandwich, but not until after we ate the first half of it. It tasted like old meat. I can&#39;t really describe it, but it was terrible. I always order the steak panini there and have never had this experience before. I also know how the sandwich and meat is supposed to taste. Well, as cliche as it may be, both of us ended up sick with severe stomach cramps from it!\\n\\nI can&#39;t in good conscience ever order from here again. At least before, their food was actually worth the headache it is to have to deal with them. Now, its completely not. I know this place gets a lot of love because on the surface they seem super awesome and have lots of varieties of food and drinks, but its completely not worth it, anymore. Total fail.', '1']\n",
      "\n",
      "4:: ['First, let me just say I have had El Rey numerous times. My order is always the same, a steak burrito and a chicken taco. On my recent visit, my girlfriend and I both got FOOD POISONING.  Both of us have been sick with the same exact symptoms for the past two days. I am not one to bash El Rey considering I love their food but considering my latest experience I am unsure if I will be a returning customer any more.', '1']\n",
      "\n",
      "5:: ['Disappointment: the tapas taste quite well and are original. But they are so overpriced: around $15 per each tiny plate, with taxes. We paid $57 per person and were still so hungry! Moreover, at least three of my seven friends including me were sick after that dinner. It might have been the scallop. \\n\\nI found the decoration a bit weird, too loaded. And the references to Spain are difficult to grasp. \\n\\nAlthough the tapas are original, i dont think i will go again.', '1']\n",
      "\n",
      "6:: ['I haven&#39;t been on yelp to write a review in a while, but I felt a need after my experience here.  \\n\\nI had brunch here on Saturday and my fiance got food poisoning.  I would assume it was from the sangria that apepars to just sit out throughout brunch (and from some of the review below, although I cannot vouch for it, appears to sit in pretty unsanitary conditions) in teh hot sun.  \\n\\nI would discourage anyone from going here unless they are interested in getting sick.', '0']\n",
      "\n",
      "7:: ['I&#39;m French, and this is not French cuisine.  It&#39;s not even good cuisine.\\n\\nAlso, I got food poisoning from that place.  I was really upset and spoke with the manager (Alain) who was obnoxious about it.  I would never go back.  My god, there are so many much better and CLEANER places in Manhattan.', '0']\n",
      "\n",
      "8:: ['My scallops tasted delicious, but they gave me food poisoning! :( \\nAlso, I thought the arroz de pato was just OK.', '0']\n",
      "\n",
      "9:: ['this is the response I got from them after 4 days and 2 emails.......they called me and my family LIARS..........\\n\\n\\nRobert,\\nWe appreciate your loyalty and how you like millions of guets a week visit and \\nenjoy the high quality tremendous value of Dallas BBQ food and beverage \\nofferings.\\n\\nI have looked into your alleged claim and while nobody wants anyone to get \\nsick,we served thousands of guests that day and we have not one additional \\nreport from Rego Park or any of our other units in reference to any food issues.\\n\\nWe have the highest standards of demanding food quality and cleanliness at all \\nour Dallas BBQ units. We certify by State and City standards rigid cleanliness \\nstandards and insist all Managers and key kitchen employees are certified to \\noperate a Restaurant by guildlines set up by Health Department.\\n\\nAll that being said ,we take no responsibility based on the facts that you or \\nanyone got sick at Dallas BBQ,but as a good will gesture please let me send you \\na 50$ Gift Card for you to enjoy future positive experiences.\\n\\nWe will track and follow up with the store for future monitoring but we are \\nconfident our standards and commitment to safety and food handling exceeds \\nstandards\\n\\nRespectfully\\nEric Levine\\nDirector\\nDallas BBQ', '0']\n",
      "\n",
      "10:: ['Worst. Food poisoning. Ever.\\n\\nNow, I&#39;ve eaten at M Noodle several times without an issue, mainly because they stay open really late. But after this most recent trip I&#39;m never going back. I know I was sick from the dumplings I ate here and not from something else, because 1) I ate/drank nothing for 12 hours prior 2) I felt a little &#34;off&#34; right after I ate them, then 2-3 hours later... BAM! I see I&#39;m not the first Yelp user to report getting sick here, so if you too are thinking of heeding the siren song of late-night dumplings, just make yourself a bowl of cereal instead. It&#39;s not worth it.', '0']\n",
      "\n"
     ]
    }
   ],
   "source": [
    "with open('yelp_mult_data_small.csv', 'rU') as f:\n",
    "    reader = csv.reader(f)\n",
    "    for i, row in enumerate(reader):\n",
    "        if i <=10: \n",
    "            print \"%i:: %r\" % (i, row)\n",
    "            print"
   ]
  },
  {
   "cell_type": "markdown",
   "metadata": {},
   "source": [
    "## Cool.  So let's start messing with classification"
   ]
  },
  {
   "cell_type": "markdown",
   "metadata": {},
   "source": [
    "### Define our (very basic) classifier pipeline"
   ]
  },
  {
   "cell_type": "code",
   "execution_count": 685,
   "metadata": {
    "collapsed": false
   },
   "outputs": [],
   "source": [
    "from sklearn.pipeline import Pipeline\n",
    "\n",
    "# Feature Extractors\n",
    "from sklearn.feature_extraction.text import CountVectorizer\n",
    "f1 = CountVectorizer(\n",
    "        input=u'content', \n",
    "        encoding=u'utf-8', \n",
    "        decode_error=u'strict', \n",
    "        strip_accents=None, \n",
    "        lowercase=True, \n",
    "        preprocessor=None, \n",
    "        tokenizer=None, \n",
    "        stop_words=None, \n",
    "        #token_pattern=u'(?u)\\\\b\\w\\w+\\b', # one alphanumeric is a token\n",
    "        ngram_range=(1, 1), \n",
    "        analyzer=u'word', \n",
    "        max_df=1.0, \n",
    "        min_df=1, \n",
    "        max_features=None, \n",
    "        vocabulary=None, \n",
    "        binary=False, \n",
    "        #dtype=type 'numpy.int64'>\n",
    "        )\n",
    "\n",
    "from sklearn.feature_extraction.text import TfidfTransformer\n",
    "tfidf = TfidfTransformer()\n",
    "rf = ensemble.RandomForestRegressor(\n",
    "    oob_score = True,\n",
    "    random_state =0\n",
    ")\n",
    "from sklearn import svm\n",
    "svr = svm.SVR()\n",
    "#Decision Tree Pipeline\n",
    "pipeline = Pipeline([\n",
    "        ('count', f1),\n",
    "        ('tfidf', tfidf),\n",
    "        ('svr', svr)\n",
    "    ])"
   ]
  },
  {
   "cell_type": "markdown",
   "metadata": {},
   "source": [
    "In general, we are most interested in a classifier that positively labels as many true positives as possible. \n",
    "This is equivalent to maximizing the Positive label recall, so define that scoring function"
   ]
  },
  {
   "cell_type": "code",
   "execution_count": 653,
   "metadata": {
    "collapsed": false
   },
   "outputs": [],
   "source": [
    "from sklearn.metrics import make_scorer\n",
    "\n",
    "\n",
    "def ms_error(ground_truth, predictions):\n",
    "    ## Calculate rmse for reviews that have real label of 'yes'\n",
    "    ground_truth = np.array(ground_truth)\n",
    "    predictions = np.array(predictions)\n",
    "    real_yes = ground_truth[np.where(ground_truth == 1)]\n",
    "    pred_for_yes = predictions[np.where(ground_truth == 1)] ## predicted value for 'yes' reviews'\n",
    "    y_error = metrics.mean_squared_error(real_yes, pred_for_yes) **.5 ## rmse for 'yes' reviews\n",
    "    \n",
    "    ## Calculate rmse for reviews that have real label of 'yes'\n",
    "    real_no = ground_truth[np.where(ground_truth == 0)]\n",
    "    pred_for_no = predictions[np.where(ground_truth == 0)] ## predicted value for 'no' reviews\n",
    "    n_error = metrics.mean_squared_error(real_no, pred_for_no) **.5 ## rmse for 'no' reviews\n",
    "    \n",
    "    print y_error\n",
    "    print n_error\n",
    "    ## F2 score, weighted to favor y_error\n",
    "    ##error = ( (2**2 + 1) * y_error * n_error) / (y_error + (2**2) * n_error) \n",
    "    error = (2.0/3.0) * y_error + (1.0/3.0) * n_error\n",
    "    return error\n",
    "    #return metrics.mean_squared_error(ground_truth, predictions)\n",
    "\n",
    "    \n",
    "def pos_recall(ground_truth, predictions, pos_label='yes'):\n",
    "    ground_truth = np.array(ground_truth)\n",
    "    predictions = np.array(predictions)\n",
    "    true_preds = predictions[np.where(ground_truth == pos_label)]\n",
    "    true_pos = ground_truth[np.where(ground_truth == pos_label)]\n",
    "    return float(len(true_preds[np.where(true_preds == true_pos)]))/len(true_pos)\n",
    "\n",
    "ms_error_scorer = make_scorer(ms_error, greater_is_better=True)\n",
    "pos_recall_scorer = make_scorer(pos_recall, greater_is_better=True)"
   ]
  },
  {
   "cell_type": "markdown",
   "metadata": {},
   "source": [
    "### Here are two functions to generate plots"
   ]
  },
  {
   "cell_type": "code",
   "execution_count": 541,
   "metadata": {
    "collapsed": false
   },
   "outputs": [],
   "source": [
    "def plot_confusion_matrix(cm, label_names, title='Confusion matrix', cmap=plt.cm.Blues):\n",
    "    fig, ax = plt.subplots()\n",
    "    \n",
    "    min_val, max_val, diff = 0., len(cm.astype('float')[:,0]), 1.\n",
    "\n",
    "    #text portion\n",
    "    x, y = np.meshgrid(range(cm.shape[0]), range(cm.shape[1]))\n",
    "    cm_normalized = cm.astype('float') / cm.sum(axis=1)[:, np.newaxis]\n",
    "    for x_val, y_val in zip(x.flatten(), y.flatten()):\n",
    "        c = \"%i = %0.2f\" % (cm.astype('int')[x_val, y_val], cm_normalized[x_val, y_val])\n",
    "        ax.text(y_val, x_val, c, va='center', ha='center')\n",
    "\n",
    "    #set tick marks for grid\n",
    "    ax.set_xticks(np.arange(min_val-diff/2, max_val-diff/2))\n",
    "    ax.set_yticks(np.arange(min_val-diff/2, max_val-diff/2))\n",
    "    ax.set_xticklabels([])\n",
    "    ax.set_yticklabels([])\n",
    "    ax.set_xlim(min_val-diff/2, max_val-diff/2)\n",
    "    ax.set_ylim(min_val-diff/2, max_val-diff/2)\n",
    "    plt.imshow(cm, interpolation='nearest', cmap=cmap)\n",
    "    plt.title(title)\n",
    "#     plt.colorbar()\n",
    "    tick_marks = np.arange(len(label_names))\n",
    "    plt.xticks(tick_marks, label_names)#, rotation=45)\n",
    "    plt.yticks(tick_marks, label_names)\n",
    "    plt.tight_layout()\n",
    "    plt.ylabel('True label')\n",
    "    plt.xlabel('Predicted label')\n",
    "\n",
    "def plot_histo(values, nbins=50, xlabel=\"Value\", ylabel=\"Frequency\", title=\"Histogram\"):\n",
    "    plt.hist(values, nbins, color='cadetblue')\n",
    "    plt.title(title)     \n",
    "    plt.xlabel(xlabel)\n",
    "    plt.ylabel(ylabel)\n",
    "    plt.grid()"
   ]
  },
  {
   "cell_type": "markdown",
   "metadata": {},
   "source": [
    "### These three functions split up the basic initial steps of an experiment"
   ]
  },
  {
   "cell_type": "code",
   "execution_count": 577,
   "metadata": {
    "collapsed": false
   },
   "outputs": [],
   "source": [
    "from sklearn import preprocessing\n",
    "def load_data(csvfile, delim):\n",
    "    data = { 'x':[], 'y':[]}\n",
    "    with open(csvfile, 'r') as f:\n",
    "        reader = csv.reader(f, delimiter=delim)\n",
    "        print \"HEADERS: \", reader.next()\n",
    "        for row in reader:\n",
    "            data['x'].append(row[0])\n",
    "#             print row[1]\n",
    "            data['y'].append(row[1])\n",
    "    data['x'] = np.array(data['x'])\n",
    "    data['y'] = np.array(data['y'])\n",
    "    \n",
    "    for i in range (len(data['y'])):\n",
    "        if data['y'][i] == '0':\n",
    "            data['y'][i] = 0.0\n",
    "        else:\n",
    "            data['y'][i] = 1.0\n",
    "            \n",
    "    lb = preprocessing.LabelEncoder()\n",
    "    data['y'] = lb.fit_transform(data['y'])\n",
    "    \n",
    "    n = len(data['y'])\n",
    "    labels = sorted(list(set(data['y'])))\n",
    "    print \"Labels: \", labels\n",
    "    pos = [d for d in data['y'] if d==1] \n",
    "    print \"Positive Examples: %i = %0.2f\" % (len(pos), len(pos)/float(n))\n",
    "    neg = [d for d in data['y'] if d==0] \n",
    "    print \"Negative Examples: %i = %0.2f\" % (len(neg), len(neg)/float(n))\n",
    "    return data, labels\n",
    "\n",
    "def split_dev_test(data, test_size=.2):\n",
    "    train_data = {}\n",
    "    test_data = {}\n",
    "    for train, test in cross_validation.StratifiedShuffleSplit(data['y'], n_iter=1, test_size=test_size, random_state=0):\n",
    "        train_data['x'] = data['x'][train]\n",
    "        train_data['y'] = data['y'][train]\n",
    "        test_data['x'] = data['x'][test]\n",
    "        test_data['y'] = data['y'][test]\n",
    "        \n",
    "    print \"Training/Dev data shape: \", train_data['x'].shape, train_data['y'].shape\n",
    "    print \"Test data shape: \",test_data['x'].shape, test_data['y'].shape\n",
    "    return train_data, test_data\n",
    "\n",
    "def parameter_search(data, pipeline, paramgrid, n_folds=3, gscv_kwargs=None):\n",
    "    print \"SEARCHING PARAMETER SPACE:\"\n",
    "    folds = cross_validation.StratifiedKFold(data['x'], n_folds=n_folds, random_state=0,shuffle=True)\n",
    "    if not gscv_kwargs:\n",
    "        gscv_kwargs = {\n",
    "             'scoring':ms_error_scorer, \n",
    "             'fit_params':None, \n",
    "             'n_jobs':-1, \n",
    "             'iid':True, \n",
    "             'refit':True, \n",
    "             'cv':folds, \n",
    "             'verbose':2, \n",
    "    #                  pre_dispatch=None, \n",
    "             'error_score':'raise'\n",
    "        }\n",
    "    gscv = grid_search.GridSearchCV(pipeline, paramgrid, **gscv_kwargs)\n",
    "    gscv.fit(data['x'], data['y'])\n",
    "    return gscv\n",
    "\n"
   ]
  },
  {
   "cell_type": "markdown",
   "metadata": {},
   "source": [
    "### Load the data from the file we created above"
   ]
  },
  {
   "cell_type": "code",
   "execution_count": 543,
   "metadata": {
    "collapsed": false
   },
   "outputs": [
    {
     "name": "stdout",
     "output_type": "stream",
     "text": [
      "HEADERS:  ['Multiple', '2OrMoreAsBool (Health Dept. Val)']\n",
      "Labels:  [0, 1]\n",
      "Positive Examples: 779 = 0.12\n",
      "Negative Examples: 5497 = 0.88\n",
      "0.894810489578\n",
      "0.275240941282\n"
     ]
    },
    {
     "data": {
      "text/plain": [
       "0.68828730681255768"
      ]
     },
     "execution_count": 543,
     "metadata": {},
     "output_type": "execute_result"
    }
   ],
   "source": [
    "csvfile = 'mult_data.csv'\n",
    "delim=','\n",
    "old_data, old_labels = load_data(csvfile, delim)\n",
    "#print np.array(old_pred).shape, np.array(old_labels).shape\n",
    "ms_error(old_data['x'], old_data['y'])"
   ]
  },
  {
   "cell_type": "code",
   "execution_count": 548,
   "metadata": {
    "collapsed": false,
    "scrolled": true
   },
   "outputs": [
    {
     "name": "stdout",
     "output_type": "stream",
     "text": [
      "HEADERS:  ['data', 'label']\n",
      "Labels:  [0, 1]\n",
      "Positive Examples: 177 = 0.13\n",
      "Negative Examples: 1215 = 0.87\n"
     ]
    }
   ],
   "source": [
    "csvfile = 'yelp_mult_data_small.csv'\n",
    "delim=','\n",
    "data, labels = load_data(csvfile, delim)"
   ]
  },
  {
   "cell_type": "markdown",
   "metadata": {},
   "source": [
    "### Now split the data into a training/dev set and a final test set\n",
    "(It is poor practice to tune parameters and evaluate performance on the same 'test' dataset.\n",
    "\n",
    "So usually people actually split the data into 3 sets: train/development/test"
   ]
  },
  {
   "cell_type": "code",
   "execution_count": 549,
   "metadata": {
    "collapsed": false,
    "scrolled": false
   },
   "outputs": [
    {
     "name": "stdout",
     "output_type": "stream",
     "text": [
      "Training/Dev data shape:  (1113,) (1113,)\n",
      "Test data shape:  (279,) (279,)\n"
     ]
    }
   ],
   "source": [
    "train_data, test_data = split_dev_test(data)"
   ]
  },
  {
   "cell_type": "markdown",
   "metadata": {},
   "source": [
    "### This is an example of a parameter grid to exhaustively search. \n",
    "\n",
    "You can customize how the search is done by defining your own dictionary with the settings and passing that to parameter_search\n"
   ]
  },
  {
   "cell_type": "code",
   "execution_count": null,
   "metadata": {
    "collapsed": false,
    "scrolled": false
   },
   "outputs": [],
   "source": [
    "param_grid = {\n",
    "    'count__ngram_range': [(1,1), (1,2)],\n",
    "    'count__min_df': [1, 3, 10],\n",
    "    'count__max_df' : [.8, 1.0],\n",
    "    'count__stop_words': ['english', None],\n",
    "    'tfidf__use_idf' : [True, False],\n",
    "    'tfidf__norm': [('l1'), None],\n",
    "    'svr__C': [ 10, 50, 100],\n",
    "    'svr__kernel' : ['linear', 'rbf']\n",
    "    #'reg__n_estimators': [ 10, 20, 30, 35, 40, 50],\n",
    "    #'reg__max_features':['auto'],\n",
    "    #'reg__max_depth': [50, 75, 100]\n",
    "}\n",
    "tuning_results = parameter_search(train_data, pipeline, param_grid)"
   ]
  },
  {
   "cell_type": "markdown",
   "metadata": {},
   "source": [
    "With these results, we can see what the general distribution of classifcation results looked like"
   ]
  },
  {
   "cell_type": "code",
   "execution_count": null,
   "metadata": {
    "collapsed": false
   },
   "outputs": [],
   "source": []
  },
  {
   "cell_type": "code",
   "execution_count": null,
   "metadata": {
    "collapsed": true
   },
   "outputs": [],
   "source": []
  },
  {
   "cell_type": "code",
   "execution_count": 690,
   "metadata": {
    "collapsed": false,
    "scrolled": false
   },
   "outputs": [
    {
     "data": {
      "image/png": "[encoded data removed]",
      "text/plain": [
       "<matplotlib.figure.Figure at 0x10bdaf850>"
      ]
     },
     "metadata": {},
     "output_type": "display_data"
    }
   ],
   "source": [
    "scores = [r.mean_validation_score for r in tuning_results.grid_scores_]\n",
    "num_trees = [r.parameters['svr__C'] for r in tuning_results.grid_scores_]\n",
    "##for i in range(len(num_trees)):\n",
    " ##   if num_trees[i] == None:      \n",
    "    ##num_trees[i] = 0\n",
    "   ## else:\n",
    "     ##   num_trees[i] = 1\n",
    "        \n",
    "plot_histo(scores,\n",
    "           title=\"Cross Validated Parameter Search Scores by Max_depth\",\n",
    "           xlabel=\"Root Mean Squared Error\")\n",
    "\n"
   ]
  },
  {
   "cell_type": "code",
   "execution_count": 691,
   "metadata": {
    "collapsed": false,
    "scrolled": true
   },
   "outputs": [
    {
     "data": {
      "image/png": "[encoded data removed]",
      "text/plain": [
       "<matplotlib.figure.Figure at 0x10bab4a10>"
      ]
     },
     "metadata": {},
     "output_type": "display_data"
    }
   ],
   "source": [
    "plt.plot(num_trees, scores, 'ro')\n",
    "plt.axis([0, 100, 0, 1])\n",
    "plt.show()"
   ]
  },
  {
   "cell_type": "markdown",
   "metadata": {},
   "source": []
  },
  {
   "cell_type": "code",
   "execution_count": 692,
   "metadata": {
    "collapsed": false,
    "scrolled": false
   },
   "outputs": [
    {
     "name": "stdout",
     "output_type": "stream",
     "text": [
      "GRID SEARCH SCORE: 0.5821\n",
      "0.421993639826\n",
      "0.0878824264186\n",
      "TRAIN SCORE: 0.3106\n",
      "0.703829208024\n",
      "0.187921575691\n",
      "TEST SCORE: 0.5319\n",
      "PARAMS\n",
      "{'count__stop_words': None, 'count__max_df': 1.0, 'tfidf__norm': 'l1', 'count__min_df': 10, 'svr__kernel': 'linear', 'svr__C': 100, 'tfidf__use_idf': False, 'count__ngram_range': (1, 2)}\n",
      "GRID SEARCH SCORE: 0.5879\n",
      "0.457410924915\n",
      "0.0876453554251\n",
      "TRAIN SCORE: 0.3342\n",
      "0.716784980376\n",
      "0.198547197581\n",
      "TEST SCORE: 0.5440\n",
      "PARAMS\n",
      "{'count__stop_words': None, 'count__max_df': 1.0, 'tfidf__norm': 'l1', 'count__min_df': 15, 'svr__kernel': 'linear', 'svr__C': 100, 'tfidf__use_idf': False, 'count__ngram_range': (1, 2)}\n",
      "GRID SEARCH SCORE: 0.5979\n",
      "0.484911257583\n",
      "0.0895874670405\n",
      "TRAIN SCORE: 0.3531\n",
      "0.709178482505\n",
      "0.195379802783\n",
      "TEST SCORE: 0.5379\n",
      "PARAMS\n",
      "{'count__stop_words': None, 'count__max_df': 1.0, 'tfidf__norm': 'l1', 'count__min_df': 20, 'svr__kernel': 'linear', 'svr__C': 100, 'tfidf__use_idf': False, 'count__ngram_range': (1, 2)}\n"
     ]
    }
   ],
   "source": [
    "plt.rcParams['figure.figsize'] = (6,7)\n",
    "topk = 3\n",
    "ranked_results = sorted(tuning_results.grid_scores_, key=lambda x:x.mean_validation_score, reverse=False)\n",
    "best_score = 1 ## 1 is highest\n",
    "best_index = 0\n",
    "best_params = None\n",
    "for i, result in enumerate(ranked_results[:topk]):\n",
    "    params = result.parameters\n",
    "    pipeline.set_params(**params).fit(train_data['x'], train_data['y'])\n",
    "    train_preds = pipeline.predict(train_data['x'])\n",
    "    test_preds = pipeline.predict(test_data['x'])\n",
    "    print \"GRID SEARCH SCORE: %0.4f\" % result.mean_validation_score\n",
    "    print \"TRAIN SCORE: %0.4f\" % ms_error(train_data['y'], train_preds)\n",
    "    test_score = ms_error(test_data['y'], test_preds)\n",
    "    print \"TEST SCORE: %0.4f\" % test_score\n",
    "    print \"PARAMS\"\n",
    "    print params\n",
    "    if test_score < best_score: \n",
    "        best_score=test_score\n",
    "        best_index = i\n",
    "        best_params = params"
   ]
  },
  {
   "cell_type": "markdown",
   "metadata": {},
   "source": [
    "### Given the best test score, we can see what those parameters were, and save the model to a file if we want to use it later"
   ]
  },
  {
   "cell_type": "code",
   "execution_count": 599,
   "metadata": {
    "collapsed": false,
    "scrolled": true
   },
   "outputs": [
    {
     "name": "stdout",
     "output_type": "stream",
     "text": [
      "BEST TEST POSITIVE RECALL: 0.5125\n",
      "BEST MODEL PARAMS: {'count__stop_words': None, 'count__max_df': 1.0, 'count__min_df': 10, 'reg__max_depth': 50, 'reg__max_features': 'auto', 'count__ngram_range': (1, 2), 'reg__n_estimators': 10}\n"
     ]
    }
   ],
   "source": [
    "best = ranked_results[best_index]\n",
    "print \"BEST TEST POSITIVE RECALL: %0.4f\" % best_score\n",
    "print \"BEST MODEL PARAMS: %r\" % best_params\n",
    "model = pipeline.set_params(**best_params).fit(data['x'], data['y'])"
   ]
  },
  {
   "cell_type": "code",
   "execution_count": 444,
   "metadata": {
    "collapsed": false
   },
   "outputs": [
    {
     "data": {
      "text/plain": [
       "['multiple_rf.pkl',\n",
       " 'multiple_rf.pkl_01.npy',\n",
       " 'multiple_rf.pkl_02.npy',\n",
       " 'multiple_rf.pkl_03.npy',\n",
       " 'multiple_rf.pkl_04.npy',\n",
       " 'multiple_rf.pkl_05.npy',\n",
       " 'multiple_rf.pkl_06.npy',\n",
       " 'multiple_rf.pkl_07.npy',\n",
       " 'multiple_rf.pkl_08.npy',\n",
       " 'multiple_rf.pkl_09.npy',\n",
       " 'multiple_rf.pkl_10.npy',\n",
       " 'multiple_rf.pkl_11.npy',\n",
       " 'multiple_rf.pkl_12.npy',\n",
       " 'multiple_rf.pkl_13.npy',\n",
       " 'multiple_rf.pkl_14.npy',\n",
       " 'multiple_rf.pkl_15.npy',\n",
       " 'multiple_rf.pkl_16.npy',\n",
       " 'multiple_rf.pkl_17.npy',\n",
       " 'multiple_rf.pkl_18.npy',\n",
       " 'multiple_rf.pkl_19.npy',\n",
       " 'multiple_rf.pkl_20.npy',\n",
       " 'multiple_rf.pkl_21.npy',\n",
       " 'multiple_rf.pkl_22.npy',\n",
       " 'multiple_rf.pkl_23.npy',\n",
       " 'multiple_rf.pkl_24.npy',\n",
       " 'multiple_rf.pkl_25.npy',\n",
       " 'multiple_rf.pkl_26.npy',\n",
       " 'multiple_rf.pkl_27.npy',\n",
       " 'multiple_rf.pkl_28.npy',\n",
       " 'multiple_rf.pkl_29.npy',\n",
       " 'multiple_rf.pkl_30.npy']"
      ]
     },
     "execution_count": 444,
     "metadata": {},
     "output_type": "execute_result"
    }
   ],
   "source": [
    "from sklearn.externals import joblib\n",
    "joblib.dump(model, 'multiple_rf.pkl') "
   ]
  },
  {
   "cell_type": "markdown",
   "metadata": {},
   "source": [
    "Don't worry about why that has multiple files, just know to load the model later all of those files must be in the directory.\n",
    "\n",
    "But just refer to it with the original filename"
   ]
  },
  {
   "cell_type": "code",
   "execution_count": 404,
   "metadata": {
    "collapsed": false,
    "scrolled": true
   },
   "outputs": [],
   "source": [
    "multiple = joblib.load('best_multiple_clf.pkl') \n",
    "preds = multiple.predict(data['x'])"
   ]
  },
  {
   "cell_type": "markdown",
   "metadata": {},
   "source": [
    "## This should give you a good setup to continue improving the models!\n",
    "\n",
    "Almost all of the info you need for using sci-kitlearn is in the online documentation (as well as a ton of practical tips and examples for how to do good ML in general).\n",
    "\n",
    "When it comes to plotting stuff, generally I just google \"matplotlib _what kind of plot I want_\" and someone has usually sdone like 95% of the work already :)\n",
    "\n",
    "Feel free to send me any questions you have and enjoy your new life in the [wonderful world of python](https://xkcd.com/353/)"
   ]
  },
  {
   "cell_type": "code",
   "execution_count": null,
   "metadata": {
    "collapsed": true
   },
   "outputs": [],
   "source": []
  }
 ],
 "metadata": {
  "kernelspec": {
   "display_name": "Python 2",
   "language": "python",
   "name": "python2"
  },
  "language_info": {
   "codemirror_mode": {
    "name": "ipython",
    "version": 2
   },
   "file_extension": ".py",
   "mimetype": "text/x-python",
   "name": "python",
   "nbconvert_exporter": "python",
   "pygments_lexer": "ipython2",
   "version": "2.7.5"
  }
 },
 "nbformat": 4,
 "nbformat_minor": 0
}
