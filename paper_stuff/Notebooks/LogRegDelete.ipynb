{
 "cells": [
  {
   "cell_type": "code",
   "execution_count": 5,
   "metadata": {
    "collapsed": false
   },
   "outputs": [
    {
     "name": "stdout",
     "output_type": "stream",
     "text": [
      "Populating the interactive namespace from numpy and matplotlib\n"
     ]
    }
   ],
   "source": [
    "%pylab inline\n",
    "import numpy as np\n",
    "import matplotlib.pyplot as plt\n",
    "import csv\n",
    "import openpyxl\n",
    "from sklearn import cross_validation\n",
    "from sklearn import grid_search\n",
    "from sklearn import metrics\n",
    "from sklearn import tree\n",
    "from sklearn import ensemble\n",
    "\n",
    "plt.rcParams['figure.figsize'] = (10.0, 8.0)"
   ]
  },
  {
   "cell_type": "markdown",
   "metadata": {},
   "source": [
    "#### This data has some weird encoding issues... need a helper function"
   ]
  },
  {
   "cell_type": "code",
   "execution_count": 6,
   "metadata": {
    "collapsed": true
   },
   "outputs": [],
   "source": [
    "def xuni(s):\n",
    "    if not s:\n",
    "        return u''\n",
    "    elif type(s) == unicode:\n",
    "        return s.encode('utf-8')\n",
    "    elif type(s) == str:\n",
    "        return unicode(s, 'utf-8')\n",
    "    else: return ''\n",
    "    "
   ]
  },
  {
   "cell_type": "markdown",
   "metadata": {},
   "source": [
    "### Convert xlsx to csv, dealing with encoding issues\n",
    "Notes: \n",
    "* made a file with just three columns, date, reviews and 2_or_more_ill\n",
    "* also dropped '3' and '9' labels because they can't help (and there's only like 5 total)\n"
   ]
  },
  {
   "cell_type": "code",
   "execution_count": 7,
   "metadata": {
    "collapsed": false,
    "scrolled": true
   },
   "outputs": [
    {
     "name": "stderr",
     "output_type": "stream",
     "text": [
      "/Users/annalawson/.virtualenvs/health/lib/python2.7/site-packages/openpyxl/reader/worksheet.py:320: UserWarning: Unknown extension is not supported and will be removed\n",
      "  warn(msg)\n"
     ]
    }
   ],
   "source": [
    "#Original regression values + annotations\n",
    "wb = openpyxl.load_workbook('mult_data.xlsx')\n",
    "sh = wb.active\n",
    "with open('mult_data.csv', 'wb') as f:\n",
    "    c = csv.writer(f)\n",
    "    for r in sh.rows:\n",
    "        c.writerow([cell.value for cell in r])"
   ]
  },
  {
   "cell_type": "code",
   "execution_count": 8,
   "metadata": {
    "collapsed": true
   },
   "outputs": [],
   "source": [
    "##Annotated Reviews\n",
    "wb = openpyxl.load_workbook('yelp_mult_data.xlsx')\n",
    "sh = wb.active\n",
    "with open('yelp_mult_data.csv', 'wb') as f:\n",
    "    c = csv.writer(f)\n",
    "    for r in sh.rows:\n",
    "        c.writerow([xuni(cell.value) for cell in r])"
   ]
  },
  {
   "cell_type": "markdown",
   "metadata": {},
   "source": [
    "### Now let's write out the data we care about (but only the first 1/3) "
   ]
  },
  {
   "cell_type": "code",
   "execution_count": 9,
   "metadata": {
    "collapsed": false
   },
   "outputs": [
    {
     "name": "stdout",
     "output_type": "stream",
     "text": [
      "Keeping the first 2966 records\n",
      "3 ::  ['Date_Review', 'Review', '2_Or_More_Ill']\n",
      "\n"
     ]
    }
   ],
   "source": [
    "num_records = len([i for i,_ in enumerate(csv.reader(open('yelp_mult_data.csv', 'rU'), dialect='excel'))])\n",
    "stop = num_records/3\n",
    "print \"Keeping the first %i records\" % stop\n",
    "with open('yelp_mult_data.csv', 'rU') as f:\n",
    "    reader = csv.reader(f, dialect='excel')\n",
    "    with open('yelp_mult_data_small.csv', 'w') as w:\n",
    "        writer = csv.writer(w)\n",
    "        seenlen = []\n",
    "        for l, row in enumerate(reader):\n",
    "            # get indices we care about\n",
    "#             print l\n",
    "            if len(row) not in seenlen:\n",
    "                print len(row), ':: ', row\n",
    "                print\n",
    "                seenlen.append(len(row))\n",
    "            if l == 0:\n",
    "                rev_i = row.index('Review')\n",
    "                mult_i = row.index('2_Or_More_Ill')\n",
    "                writer.writerow(['data', 'label'])\n",
    "            elif row[rev_i] and row[mult_i] and row[mult_i] != '3' and row[mult_i] != '9': # skip blank rows\n",
    "                if row[mult_i] == '2':\n",
    "                    writer.writerow([row[rev_i], '0'])\n",
    "                elif row[mult_i] == '1':\n",
    "                    writer.writerow([row[rev_i], '1'])\n",
    "                else:continue\n",
    "            else: continue\n",
    "            if l >= stop: break"
   ]
  },
  {
   "cell_type": "markdown",
   "metadata": {},
   "source": [
    "#### And check that it looks good"
   ]
  },
  {
   "cell_type": "code",
   "execution_count": 10,
   "metadata": {
    "collapsed": false,
    "scrolled": true
   },
   "outputs": [
    {
     "name": "stdout",
     "output_type": "stream",
     "text": [
      "0:: ['data', 'label']\n",
      "\n",
      "1:: ['My friends and I ordered 3 burgers and a pitcher of sangria. Everything tasted good. Later on in the day we all got a stomach ache then 1 by 1 we all had to use the restroom several times before the days end. I love this place, but something there made us sick. \\n\\nIf I go back, I&#39;m going to stick with bottled beer.', '1']\n",
      "\n",
      "2:: ['Went here yesterday with a friend.  We both got food poisoning, most likely from the cajun chicken. Resulted in a pretty rough night last night and for my friend, a rough day today (will spare the details, but you can imagine).\\n\\nWould recommend steering clear unless you&#39;re looking to ruin about 24 hours of your life.\\n\\nGood happy hour special though after the last 24 hours I&#39;d stick to bottled beverages, trust factor on anything prepared there is low.\\n\\nAs an aside, during a previous trip, we were required to order at our tables rather than the counter, this caused the length of our visit to nearly double since they were understaffed to offer waiter service.\\n\\nManagement needs to take a look in the mirror and re-evaluate quality and process.', '1']\n",
      "\n",
      "3:: ['If I was writing this review for Choice Market one year ago, it would have been a solid 4 stars. Today, it pains me to have to leave a 1-star feedback for this Clinton Hill staple. \\n\\nI frequent Choice Market approximately once a week for lunch - usually have it delivered via Seamless or pick it up from there. While the service has always been abysmal, yesterday&#39;s Choice experience left me vowing never to return. \\n\\nMy co-workers and I placed an order via Seamless for pickup. The first mark on them was that when we got there they alerted me that one of the items we had ordered was one they didn&#39;t have. I don&#39;t know why they couldn&#39;t be bothered to call and tell me that before they charged my card AND proceeded to make the rest of the order. I have ordered from other places who happened to have something on their menu that was not in stock and received a call to alert me of this every. single. time. Upon asking them, &#34;Well, what are my options?&#34; The guy rudely said &#34;Um. A refund?&#34; Well, as I mentioned, the refund never came and I had to call Seamless, who very quickly resolved the matter.\\n\\nNow, as far as the food itself...it was off. My co-worker and I both ordered the steak panini and the steak in it tasted really REALLY off. We both noticed this and ended up removing the meat from the sandwich, but not until after we ate the first half of it. It tasted like old meat. I can&#39;t really describe it, but it was terrible. I always order the steak panini there and have never had this experience before. I also know how the sandwich and meat is supposed to taste. Well, as cliche as it may be, both of us ended up sick with severe stomach cramps from it!\\n\\nI can&#39;t in good conscience ever order from here again. At least before, their food was actually worth the headache it is to have to deal with them. Now, its completely not. I know this place gets a lot of love because on the surface they seem super awesome and have lots of varieties of food and drinks, but its completely not worth it, anymore. Total fail.', '1']\n",
      "\n",
      "4:: ['First, let me just say I have had El Rey numerous times. My order is always the same, a steak burrito and a chicken taco. On my recent visit, my girlfriend and I both got FOOD POISONING.  Both of us have been sick with the same exact symptoms for the past two days. I am not one to bash El Rey considering I love their food but considering my latest experience I am unsure if I will be a returning customer any more.', '1']\n",
      "\n",
      "5:: ['Disappointment: the tapas taste quite well and are original. But they are so overpriced: around $15 per each tiny plate, with taxes. We paid $57 per person and were still so hungry! Moreover, at least three of my seven friends including me were sick after that dinner. It might have been the scallop. \\n\\nI found the decoration a bit weird, too loaded. And the references to Spain are difficult to grasp. \\n\\nAlthough the tapas are original, i dont think i will go again.', '1']\n",
      "\n",
      "6:: ['I haven&#39;t been on yelp to write a review in a while, but I felt a need after my experience here.  \\n\\nI had brunch here on Saturday and my fiance got food poisoning.  I would assume it was from the sangria that apepars to just sit out throughout brunch (and from some of the review below, although I cannot vouch for it, appears to sit in pretty unsanitary conditions) in teh hot sun.  \\n\\nI would discourage anyone from going here unless they are interested in getting sick.', '0']\n",
      "\n",
      "7:: ['I&#39;m French, and this is not French cuisine.  It&#39;s not even good cuisine.\\n\\nAlso, I got food poisoning from that place.  I was really upset and spoke with the manager (Alain) who was obnoxious about it.  I would never go back.  My god, there are so many much better and CLEANER places in Manhattan.', '0']\n",
      "\n",
      "8:: ['My scallops tasted delicious, but they gave me food poisoning! :( \\nAlso, I thought the arroz de pato was just OK.', '0']\n",
      "\n",
      "9:: ['this is the response I got from them after 4 days and 2 emails.......they called me and my family LIARS..........\\n\\n\\nRobert,\\nWe appreciate your loyalty and how you like millions of guets a week visit and \\nenjoy the high quality tremendous value of Dallas BBQ food and beverage \\nofferings.\\n\\nI have looked into your alleged claim and while nobody wants anyone to get \\nsick,we served thousands of guests that day and we have not one additional \\nreport from Rego Park or any of our other units in reference to any food issues.\\n\\nWe have the highest standards of demanding food quality and cleanliness at all \\nour Dallas BBQ units. We certify by State and City standards rigid cleanliness \\nstandards and insist all Managers and key kitchen employees are certified to \\noperate a Restaurant by guildlines set up by Health Department.\\n\\nAll that being said ,we take no responsibility based on the facts that you or \\nanyone got sick at Dallas BBQ,but as a good will gesture please let me send you \\na 50$ Gift Card for you to enjoy future positive experiences.\\n\\nWe will track and follow up with the store for future monitoring but we are \\nconfident our standards and commitment to safety and food handling exceeds \\nstandards\\n\\nRespectfully\\nEric Levine\\nDirector\\nDallas BBQ', '0']\n",
      "\n",
      "10:: ['Worst. Food poisoning. Ever.\\n\\nNow, I&#39;ve eaten at M Noodle several times without an issue, mainly because they stay open really late. But after this most recent trip I&#39;m never going back. I know I was sick from the dumplings I ate here and not from something else, because 1) I ate/drank nothing for 12 hours prior 2) I felt a little &#34;off&#34; right after I ate them, then 2-3 hours later... BAM! I see I&#39;m not the first Yelp user to report getting sick here, so if you too are thinking of heeding the siren song of late-night dumplings, just make yourself a bowl of cereal instead. It&#39;s not worth it.', '0']\n",
      "\n"
     ]
    }
   ],
   "source": [
    "with open('yelp_mult_data_small.csv', 'rU') as f:\n",
    "    reader = csv.reader(f)\n",
    "    for i, row in enumerate(reader):\n",
    "        if i <=10: \n",
    "            print \"%i:: %r\" % (i, row)\n",
    "            print"
   ]
  },
  {
   "cell_type": "markdown",
   "metadata": {},
   "source": [
    "## Cool.  So let's start messing with classification"
   ]
  },
  {
   "cell_type": "markdown",
   "metadata": {},
   "source": [
    "### Define our (very basic) classifier pipeline"
   ]
  },
  {
   "cell_type": "code",
   "execution_count": 11,
   "metadata": {
    "collapsed": false
   },
   "outputs": [],
   "source": [
    "from sklearn.pipeline import Pipeline\n",
    "\n",
    "# Feature Extractors\n",
    "from sklearn.feature_extraction.text import CountVectorizer\n",
    "f1 = CountVectorizer(\n",
    "        input=u'content', \n",
    "        encoding=u'utf-8', \n",
    "        decode_error=u'strict', \n",
    "        strip_accents=None, \n",
    "        lowercase=True, \n",
    "        preprocessor=None, \n",
    "        tokenizer=None, \n",
    "        stop_words=None, \n",
    "        #token_pattern=u'(?u)\\\\b\\w\\w+\\b', # one alphanumeric is a token\n",
    "        ngram_range=(1, 1), \n",
    "        analyzer=u'word', \n",
    "        max_df=1.0, \n",
    "        min_df=1, \n",
    "        max_features=None, \n",
    "        vocabulary=None, \n",
    "        binary=False, \n",
    "        #dtype=type 'numpy.int64'>\n",
    "        )\n",
    "\n",
    "from sklearn.feature_extraction.text import TfidfTransformer\n",
    "tfidf = TfidfTransformer()\n",
    "rf = ensemble.RandomForestRegressor(\n",
    "    oob_score = True,\n",
    "    random_state =0\n",
    ")\n",
    "from sklearn import linear_model\n",
    "log = linear_model.LogisticRegression()\n",
    "#Pipeline\n",
    "pipeline = Pipeline([\n",
    "        ('count', f1),\n",
    "        ('tfidf', tfidf),\n",
    "        ('log', log)\n",
    "    ])"
   ]
  },
  {
   "cell_type": "markdown",
   "metadata": {},
   "source": [
    "In general, we are most interested in a classifier that positively labels as many true positives as possible. \n",
    "This is equivalent to maximizing the Positive label recall, so define that scoring function"
   ]
  },
  {
   "cell_type": "code",
   "execution_count": 12,
   "metadata": {
    "collapsed": false
   },
   "outputs": [],
   "source": [
    "from sklearn.metrics import make_scorer\n",
    "\n",
    "from sklearn.metrics import roc_auc_score\n",
    "def my_roc_auc(estimator, ground_truth, predictions) :\n",
    "    ground_truth = np.array(ground_truth)\n",
    "    print ground_truth\n",
    "    predictions = np.array(predictions)\n",
    "    print predictions\n",
    "    return roc_auc_score(ground_truth, predictions)\n",
    "\n",
    "def ms_error(ground_truth, predictions):\n",
    "    ## Calculate rmse for reviews that have real label of 'yes'\n",
    "    ground_truth = np.array(ground_truth)\n",
    "    predictions = np.array(predictions)\n",
    "    real_yes = ground_truth[np.where(ground_truth == 1)]\n",
    "    pred_for_yes = predictions[np.where(ground_truth == 1)] ## predicted value for 'yes' reviews'\n",
    "    y_error = metrics.mean_squared_error(real_yes, pred_for_yes) **.5 ## rmse for 'yes' reviews\n",
    "    \n",
    "    ## Calculate rmse for reviews that have real label of 'yes'\n",
    "    real_no = ground_truth[np.where(ground_truth == 0)]\n",
    "    pred_for_no = predictions[np.where(ground_truth == 0)] ## predicted value for 'no' reviews\n",
    "    n_error = metrics.mean_squared_error(real_no, pred_for_no) **.5 ## rmse for 'no' reviews\n",
    "    \n",
    "    print y_error\n",
    "    print n_error\n",
    "    ## F2 score, weighted to favor y_error\n",
    "    ##error = ( (2**2 + 1) * y_error * n_error) / (y_error + (2**2) * n_error) \n",
    "    error = (2.0/3.0) * y_error + (1.0/3.0) * n_error\n",
    "    return error\n",
    "    #return metrics.mean_squared_error(ground_truth, predictions)\n",
    "\n",
    "    \n",
    "def pos_recall(ground_truth, predictions, pos_label='yes'):\n",
    "    ground_truth = np.array(ground_truth)\n",
    "    predictions = np.array(predictions)\n",
    "    true_preds = predictions[np.where(ground_truth == pos_label)]\n",
    "    true_pos = ground_truth[np.where(ground_truth == pos_label)]\n",
    "    return float(len(true_preds[np.where(true_preds == true_pos)]))/len(true_pos)\n",
    "\n",
    "ms_error_scorer = make_scorer(ms_error, greater_is_better=True)\n",
    "pos_recall_scorer = make_scorer(pos_recall, greater_is_better=True)\n",
    "my_roc_auc_scorer = make_scorer(my_roc_auc, greater_is_better=True)"
   ]
  },
  {
   "cell_type": "markdown",
   "metadata": {},
   "source": [
    "### Here are two functions to generate plots"
   ]
  },
  {
   "cell_type": "code",
   "execution_count": 13,
   "metadata": {
    "collapsed": false
   },
   "outputs": [],
   "source": [
    "def plot_confusion_matrix(cm, label_names, title='Confusion matrix', cmap=plt.cm.Blues):\n",
    "    fig, ax = plt.subplots()\n",
    "    \n",
    "    min_val, max_val, diff = 0., len(cm.astype('float')[:,0]), 1.\n",
    "\n",
    "    #text portion\n",
    "    x, y = np.meshgrid(range(cm.shape[0]), range(cm.shape[1]))\n",
    "    cm_normalized = cm.astype('float') / cm.sum(axis=1)[:, np.newaxis]\n",
    "    for x_val, y_val in zip(x.flatten(), y.flatten()):\n",
    "        c = \"%i = %0.2f\" % (cm.astype('int')[x_val, y_val], cm_normalized[x_val, y_val])\n",
    "        ax.text(y_val, x_val, c, va='center', ha='center')\n",
    "\n",
    "    #set tick marks for grid\n",
    "    ax.set_xticks(np.arange(min_val-diff/2, max_val-diff/2))\n",
    "    ax.set_yticks(np.arange(min_val-diff/2, max_val-diff/2))\n",
    "    ax.set_xticklabels([])\n",
    "    ax.set_yticklabels([])\n",
    "    ax.set_xlim(min_val-diff/2, max_val-diff/2)\n",
    "    ax.set_ylim(min_val-diff/2, max_val-diff/2)\n",
    "    plt.imshow(cm, interpolation='nearest', cmap=cmap)\n",
    "    plt.title(title)\n",
    "#     plt.colorbar()\n",
    "    tick_marks = np.arange(len(label_names))\n",
    "    plt.xticks(tick_marks, label_names)#, rotation=45)\n",
    "    plt.yticks(tick_marks, label_names)\n",
    "    plt.tight_layout()\n",
    "    plt.ylabel('True label')\n",
    "    plt.xlabel('Predicted label')\n",
    "\n",
    "def plot_histo(values, nbins=50, xlabel=\"Value\", ylabel=\"Frequency\", title=\"Histogram\"):\n",
    "    plt.hist(values, nbins, color='cadetblue')\n",
    "    plt.title(title)     \n",
    "    plt.xlabel(xlabel)\n",
    "    plt.ylabel(ylabel)\n",
    "    plt.grid()"
   ]
  },
  {
   "cell_type": "markdown",
   "metadata": {},
   "source": [
    "### These three functions split up the basic initial steps of an experiment"
   ]
  },
  {
   "cell_type": "code",
   "execution_count": 14,
   "metadata": {
    "collapsed": false
   },
   "outputs": [],
   "source": [
    "from sklearn import preprocessing\n",
    "def load_data(csvfile, delim):\n",
    "    data = { 'x':[], 'y':[]}\n",
    "    with open(csvfile, 'r') as f:\n",
    "        reader = csv.reader(f, delimiter=delim)\n",
    "        print \"HEADERS: \", reader.next()\n",
    "        for row in reader:\n",
    "            data['x'].append(row[0])\n",
    "#             print row[1]\n",
    "            data['y'].append(row[1])\n",
    "    data['x'] = np.array(data['x']) #.astype(np.float) #astype only for loading old data\n",
    "    data['y'] = np.array(data['y'])\n",
    "    \n",
    "    for i in range (len(data['y'])):\n",
    "        if data['y'][i] == '0':\n",
    "            data['y'][i] = 0.0\n",
    "        else:\n",
    "            data['y'][i] = 1.0\n",
    "            \n",
    "    lb = preprocessing.LabelEncoder()\n",
    "    data['y'] = lb.fit_transform(data['y'])\n",
    "    \n",
    "    n = len(data['y'])\n",
    "    labels = sorted(list(set(data['y'])))\n",
    "    print \"Labels: \", labels\n",
    "    pos = [d for d in data['y'] if d==1] \n",
    "    print \"Positive Examples: %i = %0.2f\" % (len(pos), len(pos)/float(n))\n",
    "    neg = [d for d in data['y'] if d==0] \n",
    "    print \"Negative Examples: %i = %0.2f\" % (len(neg), len(neg)/float(n))\n",
    "    return data, labels\n",
    "\n",
    "def split_dev_test(data, test_size=.2):\n",
    "    train_data = {}\n",
    "    test_data = {}\n",
    "    for train, test in cross_validation.StratifiedShuffleSplit(data['y'], n_iter=1, test_size=test_size, random_state=0):\n",
    "        train_data['x'] = data['x'][train]\n",
    "        train_data['y'] = data['y'][train]\n",
    "        test_data['x'] = data['x'][test]\n",
    "        test_data['y'] = data['y'][test]\n",
    "        \n",
    "    print \"Training/Dev data shape: \", train_data['x'].shape, train_data['y'].shape\n",
    "    print \"Test data shape: \",test_data['x'].shape, test_data['y'].shape\n",
    "    return train_data, test_data\n",
    "\n",
    "from sklearn.metrics import roc_auc_score\n",
    "def parameter_search(data, pipeline, paramgrid, n_folds=3, gscv_kwargs=None):\n",
    "    print \"SEARCHING PARAMETER SPACE:\"\n",
    "    folds = cross_validation.StratifiedKFold(data['x'], n_folds=n_folds, random_state=0,shuffle=True)\n",
    "    if not gscv_kwargs:\n",
    "        gscv_kwargs = {\n",
    "             'scoring':ms_error, \n",
    "             'fit_params':None, \n",
    "             'n_jobs':-1, \n",
    "             'iid':True, \n",
    "             'refit':True, \n",
    "             'cv':folds, \n",
    "             'verbose':2, \n",
    "    #                  pre_dispatch=None, \n",
    "             'error_score':'raise'\n",
    "        }\n",
    "    gscv = grid_search.GridSearchCV(pipeline, paramgrid, **gscv_kwargs)\n",
    "    gscv.fit(data['x'], data['y'])\n",
    "    return gscv\n",
    "\n"
   ]
  },
  {
   "cell_type": "markdown",
   "metadata": {},
   "source": [
    "### Load the data from the file we created above"
   ]
  },
  {
   "cell_type": "code",
   "execution_count": 15,
   "metadata": {
    "collapsed": false
   },
   "outputs": [
    {
     "name": "stdout",
     "output_type": "stream",
     "text": [
      "HEADERS:  ['Multiple', '2OrMoreAsBool (Health Dept. Val)']\n",
      "Labels:  [0, 1]\n",
      "Positive Examples: 779 = 0.12\n",
      "Negative Examples: 5497 = 0.88\n",
      "0.650942993062\n"
     ]
    }
   ],
   "source": [
    "csvfile = 'mult_data.csv'\n",
    "delim=','\n",
    "old_data, old_labels = load_data(csvfile, delim)\n",
    "#print np.array(old_pred).shape, np.array(old_labels).shape\n",
    "print metrics.roc_auc_score(old_data['y'], old_data['x']) #true values, then scores"
   ]
  },
  {
   "cell_type": "code",
   "execution_count": 15,
   "metadata": {
    "collapsed": false,
    "scrolled": true
   },
   "outputs": [
    {
     "name": "stdout",
     "output_type": "stream",
     "text": [
      "HEADERS:  ['data', 'label']\n",
      "Labels:  [0, 1]\n",
      "Positive Examples: 177 = 0.13\n",
      "Negative Examples: 1215 = 0.87\n"
     ]
    }
   ],
   "source": [
    "csvfile = 'yelp_mult_data_small.csv'\n",
    "delim=','\n",
    "data, labels = load_data(csvfile, delim)"
   ]
  },
  {
   "cell_type": "markdown",
   "metadata": {},
   "source": [
    "### Now split the data into a training/dev set and a final test set\n",
    "(It is poor practice to tune parameters and evaluate performance on the same 'test' dataset.\n",
    "\n",
    "So usually people actually split the data into 3 sets: train/development/test"
   ]
  },
  {
   "cell_type": "code",
   "execution_count": 16,
   "metadata": {
    "collapsed": false,
    "scrolled": false
   },
   "outputs": [
    {
     "name": "stdout",
     "output_type": "stream",
     "text": [
      "Training/Dev data shape:  (1113,) (1113,)\n",
      "Test data shape:  (279,) (279,)\n"
     ]
    }
   ],
   "source": [
    "train_data, test_data = split_dev_test(data)"
   ]
  },
  {
   "cell_type": "code",
   "execution_count": 28,
   "metadata": {
    "collapsed": false
   },
   "outputs": [
    {
     "name": "stdout",
     "output_type": "stream",
     "text": [
      "done\n"
     ]
    }
   ],
   "source": [
    "for i in range (0, 1113):\n",
    "    if (train_data['y'][i] != 0) & (train_data['y'][i] != 1) :\n",
    "        print train_data['y'][i]\n",
    "print \"done\""
   ]
  },
  {
   "cell_type": "markdown",
   "metadata": {},
   "source": [
    "### This is an example of a parameter grid to exhaustively search. \n",
    "\n",
    "You can customize how the search is done by defining your own dictionary with the settings and passing that to parameter_search\n"
   ]
  },
  {
   "cell_type": "code",
   "execution_count": 40,
   "metadata": {
    "collapsed": false,
    "scrolled": false
   },
   "outputs": [
    {
     "name": "stdout",
     "output_type": "stream",
     "text": [
      "SEARCHING PARAMETER SPACE:\n",
      "Fitting 3 folds for each of 112 candidates, totalling 336 fits\n",
      "[CV] count__stop_words=None, count__max_df=0.8, tfidf__norm=l1, count__min_df=1, log__C=0.01, tfidf__use_idf=True, count__ngram_range=(1, 2) \n",
      "[CV] count__stop_words=None, count__max_df=0.8, tfidf__norm=l1, count__min_df=1, log__C=0.01, tfidf__use_idf=True, count__ngram_range=(1, 2) \n",
      "[CV] count__stop_words=None, count__max_df=0.8, tfidf__norm=l1, count__min_df=1, log__C=0.01, tfidf__use_idf=True, count__ngram_range=(1, 2) \n",
      "[CV] count__stop_words=None, count__max_df=0.8, tfidf__norm=l1, count__min_df=1, log__C=0.01, tfidf__use_idf=False, count__ngram_range=(1, 2) \n",
      "[CV] count__stop_words=None, count__max_df=0.8, tfidf__norm=l1, count__min_df=1, log__C=0.01, tfidf__use_idf=False, count__ngram_range=(1, 2) \n",
      "[CV] count__stop_words=None, count__max_df=0.8, tfidf__norm=l1, count__min_df=1, log__C=0.01, tfidf__use_idf=False, count__ngram_range=(1, 2) \n",
      "[CV] count__stop_words=None, count__max_df=0.8, tfidf__norm=None, count__min_df=1, log__C=0.01, tfidf__use_idf=True, count__ngram_range=(1, 2) \n",
      "[CV] count__stop_words=None, count__max_df=0.8, tfidf__norm=None, count__min_df=1, log__C=0.01, tfidf__use_idf=True, count__ngram_range=(1, 2) \n",
      "[CV] count__stop_words=None, count__max_df=0.8, tfidf__norm=None, count__min_df=1, log__C=0.01, tfidf__use_idf=False, count__ngram_range=(1, 2) [CV] count__stop_words=None, count__max_df=0.8, tfidf__norm=None, count__min_df=1, log__C=0.01, tfidf__use_idf=False, count__ngram_range=(1, 2) [CV] count__stop_words=None, count__max_df=0.8, tfidf__norm=None, count__min_df=1, log__C=0.01, tfidf__use_idf=True, count__ngram_range=(1, 2) \n",
      "\n",
      "\n"
     ]
    },
    {
     "ename": "JoblibTypeError",
     "evalue": "JoblibTypeError\n___________________________________________________________________________\nMultiprocessing exception:\n...........................................................................\n/System/Library/Frameworks/Python.framework/Versions/2.7/lib/python2.7/runpy.py in _run_module_as_main(mod_name='ipykernel.__main__', alter_argv=1)\n    157     pkg_name = mod_name.rpartition('.')[0]\n    158     main_globals = sys.modules[\"__main__\"].__dict__\n    159     if alter_argv:\n    160         sys.argv[0] = fname\n    161     return _run_code(code, main_globals, None,\n--> 162                      \"__main__\", fname, loader, pkg_name)\n        fname = '/Users/annalawson/.virtualenvs/health/lib/python2.7/site-packages/ipykernel/__main__.py'\n        loader = <pkgutil.ImpLoader instance>\n        pkg_name = 'ipykernel'\n    163 \n    164 def run_module(mod_name, init_globals=None,\n    165                run_name=None, alter_sys=False):\n    166     \"\"\"Execute a module's code without importing it\n\n...........................................................................\n/System/Library/Frameworks/Python.framework/Versions/2.7/lib/python2.7/runpy.py in _run_code(code=<code object <module> at 0x10bb2df30, file \"/Use...2.7/site-packages/ipykernel/__main__.py\", line 1>, run_globals={'__builtins__': <module '__builtin__' (built-in)>, '__doc__': None, '__file__': '/Users/annalawson/.virtualenvs/health/lib/python2.7/site-packages/ipykernel/__main__.py', '__loader__': <pkgutil.ImpLoader instance>, '__name__': '__main__', '__package__': 'ipykernel', 'app': <module 'ipykernel.kernelapp' from '/Users/annal...python2.7/site-packages/ipykernel/kernelapp.pyc'>}, init_globals=None, mod_name='__main__', mod_fname='/Users/annalawson/.virtualenvs/health/lib/python2.7/site-packages/ipykernel/__main__.py', mod_loader=<pkgutil.ImpLoader instance>, pkg_name='ipykernel')\n     67         run_globals.update(init_globals)\n     68     run_globals.update(__name__ = mod_name,\n     69                        __file__ = mod_fname,\n     70                        __loader__ = mod_loader,\n     71                        __package__ = pkg_name)\n---> 72     exec code in run_globals\n        code = <code object <module> at 0x10bb2df30, file \"/Use...2.7/site-packages/ipykernel/__main__.py\", line 1>\n        run_globals = {'__builtins__': <module '__builtin__' (built-in)>, '__doc__': None, '__file__': '/Users/annalawson/.virtualenvs/health/lib/python2.7/site-packages/ipykernel/__main__.py', '__loader__': <pkgutil.ImpLoader instance>, '__name__': '__main__', '__package__': 'ipykernel', 'app': <module 'ipykernel.kernelapp' from '/Users/annal...python2.7/site-packages/ipykernel/kernelapp.pyc'>}\n     73     return run_globals\n     74 \n     75 def _run_module_code(code, init_globals=None,\n     76                     mod_name=None, mod_fname=None,\n\n...........................................................................\n/Users/annalawson/.virtualenvs/health/lib/python2.7/site-packages/ipykernel/__main__.py in <module>()\n      1 \n      2 \n----> 3 \n      4 if __name__ == '__main__':\n      5     from ipykernel import kernelapp as app\n      6     app.launch_new_instance()\n      7 \n      8 \n      9 \n     10 \n\n...........................................................................\n/Users/annalawson/.virtualenvs/health/lib/python2.7/site-packages/traitlets/config/application.py in launch_instance(cls=<class 'ipykernel.kernelapp.IPKernelApp'>, argv=None, **kwargs={})\n    587         \n    588         If a global instance already exists, this reinitializes and starts it\n    589         \"\"\"\n    590         app = cls.instance(**kwargs)\n    591         app.initialize(argv)\n--> 592         app.start()\n        app.start = <bound method IPKernelApp.start of <ipykernel.kernelapp.IPKernelApp object>>\n    593 \n    594 #-----------------------------------------------------------------------------\n    595 # utility functions, for convenience\n    596 #-----------------------------------------------------------------------------\n\n...........................................................................\n/Users/annalawson/.virtualenvs/health/lib/python2.7/site-packages/ipykernel/kernelapp.py in start(self=<ipykernel.kernelapp.IPKernelApp object>)\n    384     def start(self):\n    385         if self.poller is not None:\n    386             self.poller.start()\n    387         self.kernel.start()\n    388         try:\n--> 389             ioloop.IOLoop.instance().start()\n    390         except KeyboardInterrupt:\n    391             pass\n    392 \n    393 launch_new_instance = IPKernelApp.launch_instance\n\n...........................................................................\n/Users/annalawson/.virtualenvs/health/lib/python2.7/site-packages/zmq/eventloop/ioloop.py in start(self=<zmq.eventloop.ioloop.ZMQIOLoop object>)\n    146             PollIOLoop.configure(ZMQIOLoop)\n    147         return PollIOLoop.instance()\n    148     \n    149     def start(self):\n    150         try:\n--> 151             super(ZMQIOLoop, self).start()\n        self.start = <bound method ZMQIOLoop.start of <zmq.eventloop.ioloop.ZMQIOLoop object>>\n    152         except ZMQError as e:\n    153             if e.errno == ETERM:\n    154                 # quietly return on ETERM\n    155                 pass\n\n...........................................................................\n/Users/annalawson/.virtualenvs/health/lib/python2.7/site-packages/tornado/ioloop.py in start(self=<zmq.eventloop.ioloop.ZMQIOLoop object>)\n    861                 self._events.update(event_pairs)\n    862                 while self._events:\n    863                     fd, events = self._events.popitem()\n    864                     try:\n    865                         fd_obj, handler_func = self._handlers[fd]\n--> 866                         handler_func(fd_obj, events)\n        handler_func = <function null_wrapper>\n        fd_obj = <zmq.sugar.socket.Socket object>\n        events = 1\n    867                     except (OSError, IOError) as e:\n    868                         if errno_from_exception(e) == errno.EPIPE:\n    869                             # Happens when the client closes the connection\n    870                             pass\n\n...........................................................................\n/Users/annalawson/.virtualenvs/health/lib/python2.7/site-packages/tornado/stack_context.py in null_wrapper(*args=(<zmq.sugar.socket.Socket object>, 1), **kwargs={})\n    270         # Fast path when there are no active contexts.\n    271         def null_wrapper(*args, **kwargs):\n    272             try:\n    273                 current_state = _state.contexts\n    274                 _state.contexts = cap_contexts[0]\n--> 275                 return fn(*args, **kwargs)\n        args = (<zmq.sugar.socket.Socket object>, 1)\n        kwargs = {}\n    276             finally:\n    277                 _state.contexts = current_state\n    278         null_wrapper._wrapped = True\n    279         return null_wrapper\n\n...........................................................................\n/Users/annalawson/.virtualenvs/health/lib/python2.7/site-packages/zmq/eventloop/zmqstream.py in _handle_events(self=<zmq.eventloop.zmqstream.ZMQStream object>, fd=<zmq.sugar.socket.Socket object>, events=1)\n    428             # dispatch events:\n    429             if events & IOLoop.ERROR:\n    430                 gen_log.error(\"got POLLERR event on ZMQStream, which doesn't make sense\")\n    431                 return\n    432             if events & IOLoop.READ:\n--> 433                 self._handle_recv()\n        self._handle_recv = <bound method ZMQStream._handle_recv of <zmq.eventloop.zmqstream.ZMQStream object>>\n    434                 if not self.socket:\n    435                     return\n    436             if events & IOLoop.WRITE:\n    437                 self._handle_send()\n\n...........................................................................\n/Users/annalawson/.virtualenvs/health/lib/python2.7/site-packages/zmq/eventloop/zmqstream.py in _handle_recv(self=<zmq.eventloop.zmqstream.ZMQStream object>)\n    460                 gen_log.error(\"RECV Error: %s\"%zmq.strerror(e.errno))\n    461         else:\n    462             if self._recv_callback:\n    463                 callback = self._recv_callback\n    464                 # self._recv_callback = None\n--> 465                 self._run_callback(callback, msg)\n        self._run_callback = <bound method ZMQStream._run_callback of <zmq.eventloop.zmqstream.ZMQStream object>>\n        callback = <function null_wrapper>\n        msg = [<zmq.sugar.frame.Frame object>, <zmq.sugar.frame.Frame object>, <zmq.sugar.frame.Frame object>, <zmq.sugar.frame.Frame object>, <zmq.sugar.frame.Frame object>, <zmq.sugar.frame.Frame object>, <zmq.sugar.frame.Frame object>]\n    466                 \n    467         # self.update_state()\n    468         \n    469 \n\n...........................................................................\n/Users/annalawson/.virtualenvs/health/lib/python2.7/site-packages/zmq/eventloop/zmqstream.py in _run_callback(self=<zmq.eventloop.zmqstream.ZMQStream object>, callback=<function null_wrapper>, *args=([<zmq.sugar.frame.Frame object>, <zmq.sugar.frame.Frame object>, <zmq.sugar.frame.Frame object>, <zmq.sugar.frame.Frame object>, <zmq.sugar.frame.Frame object>, <zmq.sugar.frame.Frame object>, <zmq.sugar.frame.Frame object>],), **kwargs={})\n    402         close our socket.\"\"\"\n    403         try:\n    404             # Use a NullContext to ensure that all StackContexts are run\n    405             # inside our blanket exception handler rather than outside.\n    406             with stack_context.NullContext():\n--> 407                 callback(*args, **kwargs)\n        callback = <function null_wrapper>\n        args = ([<zmq.sugar.frame.Frame object>, <zmq.sugar.frame.Frame object>, <zmq.sugar.frame.Frame object>, <zmq.sugar.frame.Frame object>, <zmq.sugar.frame.Frame object>, <zmq.sugar.frame.Frame object>, <zmq.sugar.frame.Frame object>],)\n        kwargs = {}\n    408         except:\n    409             gen_log.error(\"Uncaught exception, closing connection.\",\n    410                           exc_info=True)\n    411             # Close the socket on an uncaught exception from a user callback\n\n...........................................................................\n/Users/annalawson/.virtualenvs/health/lib/python2.7/site-packages/tornado/stack_context.py in null_wrapper(*args=([<zmq.sugar.frame.Frame object>, <zmq.sugar.frame.Frame object>, <zmq.sugar.frame.Frame object>, <zmq.sugar.frame.Frame object>, <zmq.sugar.frame.Frame object>, <zmq.sugar.frame.Frame object>, <zmq.sugar.frame.Frame object>],), **kwargs={})\n    270         # Fast path when there are no active contexts.\n    271         def null_wrapper(*args, **kwargs):\n    272             try:\n    273                 current_state = _state.contexts\n    274                 _state.contexts = cap_contexts[0]\n--> 275                 return fn(*args, **kwargs)\n        args = ([<zmq.sugar.frame.Frame object>, <zmq.sugar.frame.Frame object>, <zmq.sugar.frame.Frame object>, <zmq.sugar.frame.Frame object>, <zmq.sugar.frame.Frame object>, <zmq.sugar.frame.Frame object>, <zmq.sugar.frame.Frame object>],)\n        kwargs = {}\n    276             finally:\n    277                 _state.contexts = current_state\n    278         null_wrapper._wrapped = True\n    279         return null_wrapper\n\n...........................................................................\n/Users/annalawson/.virtualenvs/health/lib/python2.7/site-packages/ipykernel/kernelbase.py in dispatcher(msg=[<zmq.sugar.frame.Frame object>, <zmq.sugar.frame.Frame object>, <zmq.sugar.frame.Frame object>, <zmq.sugar.frame.Frame object>, <zmq.sugar.frame.Frame object>, <zmq.sugar.frame.Frame object>, <zmq.sugar.frame.Frame object>])\n    247         if self.control_stream:\n    248             self.control_stream.on_recv(self.dispatch_control, copy=False)\n    249 \n    250         def make_dispatcher(stream):\n    251             def dispatcher(msg):\n--> 252                 return self.dispatch_shell(stream, msg)\n        msg = [<zmq.sugar.frame.Frame object>, <zmq.sugar.frame.Frame object>, <zmq.sugar.frame.Frame object>, <zmq.sugar.frame.Frame object>, <zmq.sugar.frame.Frame object>, <zmq.sugar.frame.Frame object>, <zmq.sugar.frame.Frame object>]\n    253             return dispatcher\n    254 \n    255         for s in self.shell_streams:\n    256             s.on_recv(make_dispatcher(s), copy=False)\n\n...........................................................................\n/Users/annalawson/.virtualenvs/health/lib/python2.7/site-packages/ipykernel/kernelbase.py in dispatch_shell(self=<ipykernel.ipkernel.IPythonKernel object>, stream=<zmq.eventloop.zmqstream.ZMQStream object>, msg={'buffers': [], 'content': {u'allow_stdin': True, u'code': u\"param_grid = {\\n    'count__ngram_range': [(1,...rameter_search(train_data, pipeline, param_grid)\", u'silent': False, u'stop_on_error': True, u'store_history': True, u'user_expressions': {}}, 'header': {u'msg_id': u'81D558CD9B5F40FD9F295F1F554D214E', u'msg_type': u'execute_request', u'session': u'8448D4D5706A48B788F747A7968BD255', u'username': u'username', u'version': u'5.0'}, 'metadata': {}, 'msg_id': u'81D558CD9B5F40FD9F295F1F554D214E', 'msg_type': u'execute_request', 'parent_header': {}})\n    208         else:\n    209             # ensure default_int_handler during handler call\n    210             sig = signal(SIGINT, default_int_handler)\n    211             self.log.debug(\"%s: %s\", msg_type, msg)\n    212             try:\n--> 213                 handler(stream, idents, msg)\n        handler = <bound method IPythonKernel.execute_request of <ipykernel.ipkernel.IPythonKernel object>>\n        stream = <zmq.eventloop.zmqstream.ZMQStream object>\n        idents = ['8448D4D5706A48B788F747A7968BD255']\n        msg = {'buffers': [], 'content': {u'allow_stdin': True, u'code': u\"param_grid = {\\n    'count__ngram_range': [(1,...rameter_search(train_data, pipeline, param_grid)\", u'silent': False, u'stop_on_error': True, u'store_history': True, u'user_expressions': {}}, 'header': {u'msg_id': u'81D558CD9B5F40FD9F295F1F554D214E', u'msg_type': u'execute_request', u'session': u'8448D4D5706A48B788F747A7968BD255', u'username': u'username', u'version': u'5.0'}, 'metadata': {}, 'msg_id': u'81D558CD9B5F40FD9F295F1F554D214E', 'msg_type': u'execute_request', 'parent_header': {}}\n    214             except Exception:\n    215                 self.log.error(\"Exception in message handler:\", exc_info=True)\n    216             finally:\n    217                 signal(SIGINT, sig)\n\n...........................................................................\n/Users/annalawson/.virtualenvs/health/lib/python2.7/site-packages/ipykernel/kernelbase.py in execute_request(self=<ipykernel.ipkernel.IPythonKernel object>, stream=<zmq.eventloop.zmqstream.ZMQStream object>, ident=['8448D4D5706A48B788F747A7968BD255'], parent={'buffers': [], 'content': {u'allow_stdin': True, u'code': u\"param_grid = {\\n    'count__ngram_range': [(1,...rameter_search(train_data, pipeline, param_grid)\", u'silent': False, u'stop_on_error': True, u'store_history': True, u'user_expressions': {}}, 'header': {u'msg_id': u'81D558CD9B5F40FD9F295F1F554D214E', u'msg_type': u'execute_request', u'session': u'8448D4D5706A48B788F747A7968BD255', u'username': u'username', u'version': u'5.0'}, 'metadata': {}, 'msg_id': u'81D558CD9B5F40FD9F295F1F554D214E', 'msg_type': u'execute_request', 'parent_header': {}})\n    357         if not silent:\n    358             self.execution_count += 1\n    359             self._publish_execute_input(code, parent, self.execution_count)\n    360 \n    361         reply_content = self.do_execute(code, silent, store_history,\n--> 362                                         user_expressions, allow_stdin)\n        user_expressions = {}\n        allow_stdin = True\n    363 \n    364         # Flush output before sending the reply.\n    365         sys.stdout.flush()\n    366         sys.stderr.flush()\n\n...........................................................................\n/Users/annalawson/.virtualenvs/health/lib/python2.7/site-packages/ipykernel/ipkernel.py in do_execute(self=<ipykernel.ipkernel.IPythonKernel object>, code=u\"param_grid = {\\n    'count__ngram_range': [(1,...rameter_search(train_data, pipeline, param_grid)\", silent=False, store_history=True, user_expressions={}, allow_stdin=True)\n    170 \n    171         reply_content = {}\n    172         # FIXME: the shell calls the exception handler itself.\n    173         shell._reply_content = None\n    174         try:\n--> 175             shell.run_cell(code, store_history=store_history, silent=silent)\n        shell.run_cell = <bound method ZMQInteractiveShell.run_cell of <ipykernel.zmqshell.ZMQInteractiveShell object>>\n        code = u\"param_grid = {\\n    'count__ngram_range': [(1,...rameter_search(train_data, pipeline, param_grid)\"\n        store_history = True\n        silent = False\n    176         except:\n    177             status = u'error'\n    178             # FIXME: this code right now isn't being used yet by default,\n    179             # because the run_cell() call above directly fires off exception\n\n...........................................................................\n/Users/annalawson/.virtualenvs/health/lib/python2.7/site-packages/IPython/core/interactiveshell.py in run_cell(self=<ipykernel.zmqshell.ZMQInteractiveShell object>, raw_cell=u\"param_grid = {\\n    'count__ngram_range': [(1,...rameter_search(train_data, pipeline, param_grid)\", store_history=True, silent=False, shell_futures=True)\n   2897                 self.displayhook.exec_result = result\n   2898 \n   2899                 # Execute the user code\n   2900                 interactivity = \"none\" if silent else self.ast_node_interactivity\n   2901                 self.run_ast_nodes(code_ast.body, cell_name,\n-> 2902                    interactivity=interactivity, compiler=compiler, result=result)\n        interactivity = 'last_expr'\n        compiler = <IPython.core.compilerop.CachingCompiler instance>\n   2903 \n   2904                 # Reset this so later displayed values do not modify the\n   2905                 # ExecutionResult\n   2906                 self.displayhook.exec_result = None\n\n...........................................................................\n/Users/annalawson/.virtualenvs/health/lib/python2.7/site-packages/IPython/core/interactiveshell.py in run_ast_nodes(self=<ipykernel.zmqshell.ZMQInteractiveShell object>, nodelist=[<_ast.Assign object>, <_ast.Assign object>], cell_name='<ipython-input-40-4b308c7d2dab>', interactivity='none', compiler=<IPython.core.compilerop.CachingCompiler instance>, result=<IPython.core.interactiveshell.ExecutionResult object>)\n   3001 \n   3002         try:\n   3003             for i, node in enumerate(to_run_exec):\n   3004                 mod = ast.Module([node])\n   3005                 code = compiler(mod, cell_name, \"exec\")\n-> 3006                 if self.run_code(code, result):\n        self.run_code = <bound method ZMQInteractiveShell.run_code of <ipykernel.zmqshell.ZMQInteractiveShell object>>\n        code = <code object <module> at 0x1116b36b0, file \"<ipython-input-40-4b308c7d2dab>\", line 13>\n        result = <IPython.core.interactiveshell.ExecutionResult object>\n   3007                     return True\n   3008 \n   3009             for i, node in enumerate(to_run_interactive):\n   3010                 mod = ast.Interactive([node])\n\n...........................................................................\n/Users/annalawson/.virtualenvs/health/lib/python2.7/site-packages/IPython/core/interactiveshell.py in run_code(self=<ipykernel.zmqshell.ZMQInteractiveShell object>, code_obj=<code object <module> at 0x1116b36b0, file \"<ipython-input-40-4b308c7d2dab>\", line 13>, result=<IPython.core.interactiveshell.ExecutionResult object>)\n   3061         outflag = 1  # happens in more places, so it's easier as default\n   3062         try:\n   3063             try:\n   3064                 self.hooks.pre_run_code_hook()\n   3065                 #rprint('Running code', repr(code_obj)) # dbg\n-> 3066                 exec(code_obj, self.user_global_ns, self.user_ns)\n        code_obj = <code object <module> at 0x1116b36b0, file \"<ipython-input-40-4b308c7d2dab>\", line 13>\n        self.user_global_ns = {'ALLOW_THREADS': 1, 'Annotation': <class 'matplotlib.text.Annotation'>, 'Arrow': <class 'matplotlib.patches.Arrow'>, 'Artist': <class 'matplotlib.artist.Artist'>, 'AutoLocator': <class 'matplotlib.ticker.AutoLocator'>, 'Axes': <class 'matplotlib.axes._axes.Axes'>, 'BUFSIZE': 8192, 'Button': <class 'matplotlib.widgets.Button'>, 'CLIP': 0, 'Circle': <class 'matplotlib.patches.Circle'>, ...}\n        self.user_ns = {'ALLOW_THREADS': 1, 'Annotation': <class 'matplotlib.text.Annotation'>, 'Arrow': <class 'matplotlib.patches.Arrow'>, 'Artist': <class 'matplotlib.artist.Artist'>, 'AutoLocator': <class 'matplotlib.ticker.AutoLocator'>, 'Axes': <class 'matplotlib.axes._axes.Axes'>, 'BUFSIZE': 8192, 'Button': <class 'matplotlib.widgets.Button'>, 'CLIP': 0, 'Circle': <class 'matplotlib.patches.Circle'>, ...}\n   3067             finally:\n   3068                 # Reset our crash handler in place\n   3069                 sys.excepthook = old_excepthook\n   3070         except SystemExit as e:\n\n...........................................................................\n/Users/annalawson/Documents/health_py/ml_example/<ipython-input-40-4b308c7d2dab> in <module>()\n      8     'log__C': [ 0.01, .1, 1, 10, 50, 100, 1000],\n      9     #'reg__n_estimators': [ 10, 20, 30, 35, 40, 50],\n     10     #'reg__max_features':['auto'],\n     11     #'reg__max_depth': [50, 75, 100]\n     12 }\n---> 13 tuning_results = parameter_search(train_data, pipeline, param_grid)\n     14 \n     15 \n     16 \n     17 \n\n...........................................................................\n/Users/annalawson/Documents/health_py/ml_example/<ipython-input-39-1b65683b676e> in parameter_search(data={'x': array([ 'I ordered Rosa Mexicano for delivery a ...ison only not as clean.\"], \n      dtype='|S4952'), 'y': array([0, 1, 0, ..., 0, 0, 0])}, pipeline=Pipeline(steps=[('count', CountVectorizer(analyz...0.0001,\n          verbose=0, warm_start=False))]), paramgrid={'count__max_df': [0.8, 1.0], 'count__min_df': [1, 10], 'count__ngram_range': [(1, 2)], 'count__stop_words': [None], 'log__C': [0.01, 0.1, 1, 10, 50, 100, 1000], 'tfidf__norm': ['l1', None], 'tfidf__use_idf': [True, False]}, n_folds=3, gscv_kwargs={'cv': sklearn.cross_validation.StratifiedKFold(labels=...lean.\"], n_folds=3, shuffle=True, random_state=0), 'error_score': 'raise', 'fit_params': None, 'iid': True, 'n_jobs': -1, 'refit': True, 'scoring': <function ms_error>, 'verbose': 2})\n     57              'verbose':2, \n     58     #                  pre_dispatch=None, \n     59              'error_score':'raise'\n     60         }\n     61     gscv = grid_search.GridSearchCV(pipeline, paramgrid, **gscv_kwargs)\n---> 62     gscv.fit(data['x'], data['y'])\n     63     return gscv\n     64 \n     65 \n     66 \n\n...........................................................................\n/Users/annalawson/.virtualenvs/health/lib/python2.7/site-packages/sklearn/grid_search.py in fit(self=GridSearchCV(cv=sklearn.cross_validation.Stratif...ng=<function ms_error at 0x111a079b0>, verbose=2), X=array([ 'I ordered Rosa Mexicano for delivery a ...ison only not as clean.\"], \n      dtype='|S4952'), y=array([0, 1, 0, ..., 0, 0, 0]))\n    799         y : array-like, shape = [n_samples] or [n_samples, n_output], optional\n    800             Target relative to X for classification or regression;\n    801             None for unsupervised learning.\n    802 \n    803         \"\"\"\n--> 804         return self._fit(X, y, ParameterGrid(self.param_grid))\n        self._fit = <bound method GridSearchCV._fit of GridSearchCV(...g=<function ms_error at 0x111a079b0>, verbose=2)>\n        X = array([ 'I ordered Rosa Mexicano for delivery a ...ison only not as clean.\"], \n      dtype='|S4952')\n        y = array([0, 1, 0, ..., 0, 0, 0])\n        self.param_grid = {'count__max_df': [0.8, 1.0], 'count__min_df': [1, 10], 'count__ngram_range': [(1, 2)], 'count__stop_words': [None], 'log__C': [0.01, 0.1, 1, 10, 50, 100, 1000], 'tfidf__norm': ['l1', None], 'tfidf__use_idf': [True, False]}\n    805 \n    806 \n    807 class RandomizedSearchCV(BaseSearchCV):\n    808     \"\"\"Randomized search on hyper parameters.\n\n...........................................................................\n/Users/annalawson/.virtualenvs/health/lib/python2.7/site-packages/sklearn/grid_search.py in _fit(self=GridSearchCV(cv=sklearn.cross_validation.Stratif...ng=<function ms_error at 0x111a079b0>, verbose=2), X=array([ 'I ordered Rosa Mexicano for delivery a ...ison only not as clean.\"], \n      dtype='|S4952'), y=array([0, 1, 0, ..., 0, 0, 0]), parameter_iterable=<sklearn.grid_search.ParameterGrid object>)\n    548         )(\n    549             delayed(_fit_and_score)(clone(base_estimator), X, y, self.scorer_,\n    550                                     train, test, self.verbose, parameters,\n    551                                     self.fit_params, return_parameters=True,\n    552                                     error_score=self.error_score)\n--> 553                 for parameters in parameter_iterable\n        parameters = undefined\n        parameter_iterable = <sklearn.grid_search.ParameterGrid object>\n    554                 for train, test in cv)\n    555 \n    556         # Out is a list of triplet: score, estimator, n_test_samples\n    557         n_fits = len(out)\n\n...........................................................................\n/Users/annalawson/.virtualenvs/health/lib/python2.7/site-packages/sklearn/externals/joblib/parallel.py in __call__(self=Parallel(n_jobs=-1), iterable=<generator object <genexpr>>)\n    807             if pre_dispatch == \"all\" or n_jobs == 1:\n    808                 # The iterable was consumed all at once by the above for loop.\n    809                 # No need to wait for async callbacks to trigger to\n    810                 # consumption.\n    811                 self._iterating = False\n--> 812             self.retrieve()\n        self.retrieve = <bound method Parallel.retrieve of Parallel(n_jobs=-1)>\n    813             # Make sure that we get a last message telling us we are done\n    814             elapsed_time = time.time() - self._start_time\n    815             self._print('Done %3i out of %3i | elapsed: %s finished',\n    816                         (len(self._output), len(self._output),\n\n---------------------------------------------------------------------------\nSub-process traceback:\n---------------------------------------------------------------------------\nTypeError                                          Tue Dec  1 20:34:00 2015\nPID: 17416   Python 2.7.5: /Users/annalawson/.virtualenvs/health/bin/python\n...........................................................................\n/Users/annalawson/.virtualenvs/health/lib/python2.7/site-packages/sklearn/externals/joblib/parallel.pyc in __call__(self=<sklearn.externals.joblib.parallel.BatchedCalls object>)\n     67     def __init__(self, iterator_slice):\n     68         self.items = list(iterator_slice)\n     69         self._size = len(self.items)\n     70 \n     71     def __call__(self):\n---> 72         return [func(*args, **kwargs) for func, args, kwargs in self.items]\n     73 \n     74     def __len__(self):\n     75         return self._size\n     76 \n\n...........................................................................\n/Users/annalawson/.virtualenvs/health/lib/python2.7/site-packages/sklearn/cross_validation.pyc in _fit_and_score(estimator=Pipeline(steps=[('count', CountVectorizer(analyz...0.0001,\n          verbose=0, warm_start=False))]), X=memmap([ 'I ordered Rosa Mexicano for delivery a...ison only not as clean.\"], \n      dtype='|S4952'), y=array([0, 1, 0, ..., 0, 0, 0]), scorer=<function ms_error>, train=array([   0,    2,    3,    4,    5,    7,   11,...1103, 1104, 1105,\n       1108, 1109, 1110, 1112]), test=array([   1,    6,    8,    9,   10,   18,   19,... 1088, 1091, 1094, 1096, 1100, 1106, 1107, 1111]), verbose=2, parameters={'count__max_df': 0.8, 'count__min_df': 1, 'count__ngram_range': (1, 2), 'count__stop_words': None, 'log__C': 0.01, 'tfidf__norm': 'l1', 'tfidf__use_idf': True}, fit_params={}, return_train_score=False, return_parameters=True, error_score='raise')\n   1545                              \" numeric value. (Hint: if using 'raise', please\"\n   1546                              \" make sure that it has been spelled correctly.)\"\n   1547                              )\n   1548 \n   1549     else:\n-> 1550         test_score = _score(estimator, X_test, y_test, scorer)\n   1551         if return_train_score:\n   1552             train_score = _score(estimator, X_train, y_train, scorer)\n   1553 \n   1554     scoring_time = time.time() - start_time\n\n...........................................................................\n/Users/annalawson/.virtualenvs/health/lib/python2.7/site-packages/sklearn/cross_validation.pyc in _score(estimator=Pipeline(steps=[('count', CountVectorizer(analyz...0.0001,\n          verbose=0, warm_start=False))]), X_test=memmap([ \"So it has come to my attention that th...ore Fiorentinos for me.\"], \n      dtype='|S4952'), y_test=array([1, 0, 0, 0, 0, 0, 0, 0, 1, 0, 0, 0, 0, 0,...0, 1, 0, 1, 0, 0, 0, 0, 1, 0, 0,\n       0, 0, 0]), scorer=<function ms_error>)\n   1601 def _score(estimator, X_test, y_test, scorer):\n   1602     \"\"\"Compute the score of an estimator on a given test set.\"\"\"\n   1603     if y_test is None:\n   1604         score = scorer(estimator, X_test)\n   1605     else:\n-> 1606         score = scorer(estimator, X_test, y_test)\n   1607     if not isinstance(score, numbers.Number):\n   1608         raise ValueError(\"scoring must return a number, got %s (%s) instead.\"\n   1609                          % (str(score), type(score)))\n   1610     return score\n\nTypeError: ms_error() takes exactly 2 arguments (3 given)\n___________________________________________________________________________",
     "output_type": "error",
     "traceback": [
      "\u001b[0;31m---------------------------------------------------------------------------\u001b[0m",
      "\u001b[0;31mJoblibTypeError\u001b[0m                           Traceback (most recent call last)",
      "\u001b[0;32m<ipython-input-40-4b308c7d2dab>\u001b[0m in \u001b[0;36m<module>\u001b[0;34m()\u001b[0m\n\u001b[1;32m     11\u001b[0m     \u001b[0;31m#'reg__max_depth': [50, 75, 100]\u001b[0m\u001b[0;34m\u001b[0m\u001b[0;34m\u001b[0m\u001b[0m\n\u001b[1;32m     12\u001b[0m }\n\u001b[0;32m---> 13\u001b[0;31m \u001b[0mtuning_results\u001b[0m \u001b[0;34m=\u001b[0m \u001b[0mparameter_search\u001b[0m\u001b[0;34m(\u001b[0m\u001b[0mtrain_data\u001b[0m\u001b[0;34m,\u001b[0m \u001b[0mpipeline\u001b[0m\u001b[0;34m,\u001b[0m \u001b[0mparam_grid\u001b[0m\u001b[0;34m)\u001b[0m\u001b[0;34m\u001b[0m\u001b[0m\n\u001b[0m",
      "\u001b[0;32m<ipython-input-39-1b65683b676e>\u001b[0m in \u001b[0;36mparameter_search\u001b[0;34m(data, pipeline, paramgrid, n_folds, gscv_kwargs)\u001b[0m\n\u001b[1;32m     60\u001b[0m         }\n\u001b[1;32m     61\u001b[0m     \u001b[0mgscv\u001b[0m \u001b[0;34m=\u001b[0m \u001b[0mgrid_search\u001b[0m\u001b[0;34m.\u001b[0m\u001b[0mGridSearchCV\u001b[0m\u001b[0;34m(\u001b[0m\u001b[0mpipeline\u001b[0m\u001b[0;34m,\u001b[0m \u001b[0mparamgrid\u001b[0m\u001b[0;34m,\u001b[0m \u001b[0;34m**\u001b[0m\u001b[0mgscv_kwargs\u001b[0m\u001b[0;34m)\u001b[0m\u001b[0;34m\u001b[0m\u001b[0m\n\u001b[0;32m---> 62\u001b[0;31m     \u001b[0mgscv\u001b[0m\u001b[0;34m.\u001b[0m\u001b[0mfit\u001b[0m\u001b[0;34m(\u001b[0m\u001b[0mdata\u001b[0m\u001b[0;34m[\u001b[0m\u001b[0;34m'x'\u001b[0m\u001b[0;34m]\u001b[0m\u001b[0;34m,\u001b[0m \u001b[0mdata\u001b[0m\u001b[0;34m[\u001b[0m\u001b[0;34m'y'\u001b[0m\u001b[0;34m]\u001b[0m\u001b[0;34m)\u001b[0m\u001b[0;34m\u001b[0m\u001b[0m\n\u001b[0m\u001b[1;32m     63\u001b[0m     \u001b[0;32mreturn\u001b[0m \u001b[0mgscv\u001b[0m\u001b[0;34m\u001b[0m\u001b[0m\n\u001b[1;32m     64\u001b[0m \u001b[0;34m\u001b[0m\u001b[0m\n",
      "\u001b[0;32m/Users/annalawson/.virtualenvs/health/lib/python2.7/site-packages/sklearn/grid_search.pyc\u001b[0m in \u001b[0;36mfit\u001b[0;34m(self, X, y)\u001b[0m\n\u001b[1;32m    802\u001b[0m \u001b[0;34m\u001b[0m\u001b[0m\n\u001b[1;32m    803\u001b[0m         \"\"\"\n\u001b[0;32m--> 804\u001b[0;31m         \u001b[0;32mreturn\u001b[0m \u001b[0mself\u001b[0m\u001b[0;34m.\u001b[0m\u001b[0m_fit\u001b[0m\u001b[0;34m(\u001b[0m\u001b[0mX\u001b[0m\u001b[0;34m,\u001b[0m \u001b[0my\u001b[0m\u001b[0;34m,\u001b[0m \u001b[0mParameterGrid\u001b[0m\u001b[0;34m(\u001b[0m\u001b[0mself\u001b[0m\u001b[0;34m.\u001b[0m\u001b[0mparam_grid\u001b[0m\u001b[0;34m)\u001b[0m\u001b[0;34m)\u001b[0m\u001b[0;34m\u001b[0m\u001b[0m\n\u001b[0m\u001b[1;32m    805\u001b[0m \u001b[0;34m\u001b[0m\u001b[0m\n\u001b[1;32m    806\u001b[0m \u001b[0;34m\u001b[0m\u001b[0m\n",
      "\u001b[0;32m/Users/annalawson/.virtualenvs/health/lib/python2.7/site-packages/sklearn/grid_search.pyc\u001b[0m in \u001b[0;36m_fit\u001b[0;34m(self, X, y, parameter_iterable)\u001b[0m\n\u001b[1;32m    551\u001b[0m                                     \u001b[0mself\u001b[0m\u001b[0;34m.\u001b[0m\u001b[0mfit_params\u001b[0m\u001b[0;34m,\u001b[0m \u001b[0mreturn_parameters\u001b[0m\u001b[0;34m=\u001b[0m\u001b[0mTrue\u001b[0m\u001b[0;34m,\u001b[0m\u001b[0;34m\u001b[0m\u001b[0m\n\u001b[1;32m    552\u001b[0m                                     error_score=self.error_score)\n\u001b[0;32m--> 553\u001b[0;31m                 \u001b[0;32mfor\u001b[0m \u001b[0mparameters\u001b[0m \u001b[0;32min\u001b[0m \u001b[0mparameter_iterable\u001b[0m\u001b[0;34m\u001b[0m\u001b[0m\n\u001b[0m\u001b[1;32m    554\u001b[0m                 for train, test in cv)\n\u001b[1;32m    555\u001b[0m \u001b[0;34m\u001b[0m\u001b[0m\n",
      "\u001b[0;32m/Users/annalawson/.virtualenvs/health/lib/python2.7/site-packages/sklearn/externals/joblib/parallel.pyc\u001b[0m in \u001b[0;36m__call__\u001b[0;34m(self, iterable)\u001b[0m\n\u001b[1;32m    810\u001b[0m                 \u001b[0;31m# consumption.\u001b[0m\u001b[0;34m\u001b[0m\u001b[0;34m\u001b[0m\u001b[0m\n\u001b[1;32m    811\u001b[0m                 \u001b[0mself\u001b[0m\u001b[0;34m.\u001b[0m\u001b[0m_iterating\u001b[0m \u001b[0;34m=\u001b[0m \u001b[0mFalse\u001b[0m\u001b[0;34m\u001b[0m\u001b[0m\n\u001b[0;32m--> 812\u001b[0;31m             \u001b[0mself\u001b[0m\u001b[0;34m.\u001b[0m\u001b[0mretrieve\u001b[0m\u001b[0;34m(\u001b[0m\u001b[0;34m)\u001b[0m\u001b[0;34m\u001b[0m\u001b[0m\n\u001b[0m\u001b[1;32m    813\u001b[0m             \u001b[0;31m# Make sure that we get a last message telling us we are done\u001b[0m\u001b[0;34m\u001b[0m\u001b[0;34m\u001b[0m\u001b[0m\n\u001b[1;32m    814\u001b[0m             \u001b[0melapsed_time\u001b[0m \u001b[0;34m=\u001b[0m \u001b[0mtime\u001b[0m\u001b[0;34m.\u001b[0m\u001b[0mtime\u001b[0m\u001b[0;34m(\u001b[0m\u001b[0;34m)\u001b[0m \u001b[0;34m-\u001b[0m \u001b[0mself\u001b[0m\u001b[0;34m.\u001b[0m\u001b[0m_start_time\u001b[0m\u001b[0;34m\u001b[0m\u001b[0m\n",
      "\u001b[0;32m/Users/annalawson/.virtualenvs/health/lib/python2.7/site-packages/sklearn/externals/joblib/parallel.pyc\u001b[0m in \u001b[0;36mretrieve\u001b[0;34m(self)\u001b[0m\n\u001b[1;32m    760\u001b[0m                         \u001b[0;31m# a working pool as they expect.\u001b[0m\u001b[0;34m\u001b[0m\u001b[0;34m\u001b[0m\u001b[0m\n\u001b[1;32m    761\u001b[0m                         \u001b[0mself\u001b[0m\u001b[0;34m.\u001b[0m\u001b[0m_initialize_pool\u001b[0m\u001b[0;34m(\u001b[0m\u001b[0;34m)\u001b[0m\u001b[0;34m\u001b[0m\u001b[0m\n\u001b[0;32m--> 762\u001b[0;31m                 \u001b[0;32mraise\u001b[0m \u001b[0mexception\u001b[0m\u001b[0;34m\u001b[0m\u001b[0m\n\u001b[0m\u001b[1;32m    763\u001b[0m \u001b[0;34m\u001b[0m\u001b[0m\n\u001b[1;32m    764\u001b[0m     \u001b[0;32mdef\u001b[0m \u001b[0m__call__\u001b[0m\u001b[0;34m(\u001b[0m\u001b[0mself\u001b[0m\u001b[0;34m,\u001b[0m \u001b[0miterable\u001b[0m\u001b[0;34m)\u001b[0m\u001b[0;34m:\u001b[0m\u001b[0;34m\u001b[0m\u001b[0m\n",
      "\u001b[0;31mJoblibTypeError\u001b[0m: JoblibTypeError\n___________________________________________________________________________\nMultiprocessing exception:\n...........................................................................\n/System/Library/Frameworks/Python.framework/Versions/2.7/lib/python2.7/runpy.py in _run_module_as_main(mod_name='ipykernel.__main__', alter_argv=1)\n    157     pkg_name = mod_name.rpartition('.')[0]\n    158     main_globals = sys.modules[\"__main__\"].__dict__\n    159     if alter_argv:\n    160         sys.argv[0] = fname\n    161     return _run_code(code, main_globals, None,\n--> 162                      \"__main__\", fname, loader, pkg_name)\n        fname = '/Users/annalawson/.virtualenvs/health/lib/python2.7/site-packages/ipykernel/__main__.py'\n        loader = <pkgutil.ImpLoader instance>\n        pkg_name = 'ipykernel'\n    163 \n    164 def run_module(mod_name, init_globals=None,\n    165                run_name=None, alter_sys=False):\n    166     \"\"\"Execute a module's code without importing it\n\n...........................................................................\n/System/Library/Frameworks/Python.framework/Versions/2.7/lib/python2.7/runpy.py in _run_code(code=<code object <module> at 0x10bb2df30, file \"/Use...2.7/site-packages/ipykernel/__main__.py\", line 1>, run_globals={'__builtins__': <module '__builtin__' (built-in)>, '__doc__': None, '__file__': '/Users/annalawson/.virtualenvs/health/lib/python2.7/site-packages/ipykernel/__main__.py', '__loader__': <pkgutil.ImpLoader instance>, '__name__': '__main__', '__package__': 'ipykernel', 'app': <module 'ipykernel.kernelapp' from '/Users/annal...python2.7/site-packages/ipykernel/kernelapp.pyc'>}, init_globals=None, mod_name='__main__', mod_fname='/Users/annalawson/.virtualenvs/health/lib/python2.7/site-packages/ipykernel/__main__.py', mod_loader=<pkgutil.ImpLoader instance>, pkg_name='ipykernel')\n     67         run_globals.update(init_globals)\n     68     run_globals.update(__name__ = mod_name,\n     69                        __file__ = mod_fname,\n     70                        __loader__ = mod_loader,\n     71                        __package__ = pkg_name)\n---> 72     exec code in run_globals\n        code = <code object <module> at 0x10bb2df30, file \"/Use...2.7/site-packages/ipykernel/__main__.py\", line 1>\n        run_globals = {'__builtins__': <module '__builtin__' (built-in)>, '__doc__': None, '__file__': '/Users/annalawson/.virtualenvs/health/lib/python2.7/site-packages/ipykernel/__main__.py', '__loader__': <pkgutil.ImpLoader instance>, '__name__': '__main__', '__package__': 'ipykernel', 'app': <module 'ipykernel.kernelapp' from '/Users/annal...python2.7/site-packages/ipykernel/kernelapp.pyc'>}\n     73     return run_globals\n     74 \n     75 def _run_module_code(code, init_globals=None,\n     76                     mod_name=None, mod_fname=None,\n\n...........................................................................\n/Users/annalawson/.virtualenvs/health/lib/python2.7/site-packages/ipykernel/__main__.py in <module>()\n      1 \n      2 \n----> 3 \n      4 if __name__ == '__main__':\n      5     from ipykernel import kernelapp as app\n      6     app.launch_new_instance()\n      7 \n      8 \n      9 \n     10 \n\n...........................................................................\n/Users/annalawson/.virtualenvs/health/lib/python2.7/site-packages/traitlets/config/application.py in launch_instance(cls=<class 'ipykernel.kernelapp.IPKernelApp'>, argv=None, **kwargs={})\n    587         \n    588         If a global instance already exists, this reinitializes and starts it\n    589         \"\"\"\n    590         app = cls.instance(**kwargs)\n    591         app.initialize(argv)\n--> 592         app.start()\n        app.start = <bound method IPKernelApp.start of <ipykernel.kernelapp.IPKernelApp object>>\n    593 \n    594 #-----------------------------------------------------------------------------\n    595 # utility functions, for convenience\n    596 #-----------------------------------------------------------------------------\n\n...........................................................................\n/Users/annalawson/.virtualenvs/health/lib/python2.7/site-packages/ipykernel/kernelapp.py in start(self=<ipykernel.kernelapp.IPKernelApp object>)\n    384     def start(self):\n    385         if self.poller is not None:\n    386             self.poller.start()\n    387         self.kernel.start()\n    388         try:\n--> 389             ioloop.IOLoop.instance().start()\n    390         except KeyboardInterrupt:\n    391             pass\n    392 \n    393 launch_new_instance = IPKernelApp.launch_instance\n\n...........................................................................\n/Users/annalawson/.virtualenvs/health/lib/python2.7/site-packages/zmq/eventloop/ioloop.py in start(self=<zmq.eventloop.ioloop.ZMQIOLoop object>)\n    146             PollIOLoop.configure(ZMQIOLoop)\n    147         return PollIOLoop.instance()\n    148     \n    149     def start(self):\n    150         try:\n--> 151             super(ZMQIOLoop, self).start()\n        self.start = <bound method ZMQIOLoop.start of <zmq.eventloop.ioloop.ZMQIOLoop object>>\n    152         except ZMQError as e:\n    153             if e.errno == ETERM:\n    154                 # quietly return on ETERM\n    155                 pass\n\n...........................................................................\n/Users/annalawson/.virtualenvs/health/lib/python2.7/site-packages/tornado/ioloop.py in start(self=<zmq.eventloop.ioloop.ZMQIOLoop object>)\n    861                 self._events.update(event_pairs)\n    862                 while self._events:\n    863                     fd, events = self._events.popitem()\n    864                     try:\n    865                         fd_obj, handler_func = self._handlers[fd]\n--> 866                         handler_func(fd_obj, events)\n        handler_func = <function null_wrapper>\n        fd_obj = <zmq.sugar.socket.Socket object>\n        events = 1\n    867                     except (OSError, IOError) as e:\n    868                         if errno_from_exception(e) == errno.EPIPE:\n    869                             # Happens when the client closes the connection\n    870                             pass\n\n...........................................................................\n/Users/annalawson/.virtualenvs/health/lib/python2.7/site-packages/tornado/stack_context.py in null_wrapper(*args=(<zmq.sugar.socket.Socket object>, 1), **kwargs={})\n    270         # Fast path when there are no active contexts.\n    271         def null_wrapper(*args, **kwargs):\n    272             try:\n    273                 current_state = _state.contexts\n    274                 _state.contexts = cap_contexts[0]\n--> 275                 return fn(*args, **kwargs)\n        args = (<zmq.sugar.socket.Socket object>, 1)\n        kwargs = {}\n    276             finally:\n    277                 _state.contexts = current_state\n    278         null_wrapper._wrapped = True\n    279         return null_wrapper\n\n...........................................................................\n/Users/annalawson/.virtualenvs/health/lib/python2.7/site-packages/zmq/eventloop/zmqstream.py in _handle_events(self=<zmq.eventloop.zmqstream.ZMQStream object>, fd=<zmq.sugar.socket.Socket object>, events=1)\n    428             # dispatch events:\n    429             if events & IOLoop.ERROR:\n    430                 gen_log.error(\"got POLLERR event on ZMQStream, which doesn't make sense\")\n    431                 return\n    432             if events & IOLoop.READ:\n--> 433                 self._handle_recv()\n        self._handle_recv = <bound method ZMQStream._handle_recv of <zmq.eventloop.zmqstream.ZMQStream object>>\n    434                 if not self.socket:\n    435                     return\n    436             if events & IOLoop.WRITE:\n    437                 self._handle_send()\n\n...........................................................................\n/Users/annalawson/.virtualenvs/health/lib/python2.7/site-packages/zmq/eventloop/zmqstream.py in _handle_recv(self=<zmq.eventloop.zmqstream.ZMQStream object>)\n    460                 gen_log.error(\"RECV Error: %s\"%zmq.strerror(e.errno))\n    461         else:\n    462             if self._recv_callback:\n    463                 callback = self._recv_callback\n    464                 # self._recv_callback = None\n--> 465                 self._run_callback(callback, msg)\n        self._run_callback = <bound method ZMQStream._run_callback of <zmq.eventloop.zmqstream.ZMQStream object>>\n        callback = <function null_wrapper>\n        msg = [<zmq.sugar.frame.Frame object>, <zmq.sugar.frame.Frame object>, <zmq.sugar.frame.Frame object>, <zmq.sugar.frame.Frame object>, <zmq.sugar.frame.Frame object>, <zmq.sugar.frame.Frame object>, <zmq.sugar.frame.Frame object>]\n    466                 \n    467         # self.update_state()\n    468         \n    469 \n\n...........................................................................\n/Users/annalawson/.virtualenvs/health/lib/python2.7/site-packages/zmq/eventloop/zmqstream.py in _run_callback(self=<zmq.eventloop.zmqstream.ZMQStream object>, callback=<function null_wrapper>, *args=([<zmq.sugar.frame.Frame object>, <zmq.sugar.frame.Frame object>, <zmq.sugar.frame.Frame object>, <zmq.sugar.frame.Frame object>, <zmq.sugar.frame.Frame object>, <zmq.sugar.frame.Frame object>, <zmq.sugar.frame.Frame object>],), **kwargs={})\n    402         close our socket.\"\"\"\n    403         try:\n    404             # Use a NullContext to ensure that all StackContexts are run\n    405             # inside our blanket exception handler rather than outside.\n    406             with stack_context.NullContext():\n--> 407                 callback(*args, **kwargs)\n        callback = <function null_wrapper>\n        args = ([<zmq.sugar.frame.Frame object>, <zmq.sugar.frame.Frame object>, <zmq.sugar.frame.Frame object>, <zmq.sugar.frame.Frame object>, <zmq.sugar.frame.Frame object>, <zmq.sugar.frame.Frame object>, <zmq.sugar.frame.Frame object>],)\n        kwargs = {}\n    408         except:\n    409             gen_log.error(\"Uncaught exception, closing connection.\",\n    410                           exc_info=True)\n    411             # Close the socket on an uncaught exception from a user callback\n\n...........................................................................\n/Users/annalawson/.virtualenvs/health/lib/python2.7/site-packages/tornado/stack_context.py in null_wrapper(*args=([<zmq.sugar.frame.Frame object>, <zmq.sugar.frame.Frame object>, <zmq.sugar.frame.Frame object>, <zmq.sugar.frame.Frame object>, <zmq.sugar.frame.Frame object>, <zmq.sugar.frame.Frame object>, <zmq.sugar.frame.Frame object>],), **kwargs={})\n    270         # Fast path when there are no active contexts.\n    271         def null_wrapper(*args, **kwargs):\n    272             try:\n    273                 current_state = _state.contexts\n    274                 _state.contexts = cap_contexts[0]\n--> 275                 return fn(*args, **kwargs)\n        args = ([<zmq.sugar.frame.Frame object>, <zmq.sugar.frame.Frame object>, <zmq.sugar.frame.Frame object>, <zmq.sugar.frame.Frame object>, <zmq.sugar.frame.Frame object>, <zmq.sugar.frame.Frame object>, <zmq.sugar.frame.Frame object>],)\n        kwargs = {}\n    276             finally:\n    277                 _state.contexts = current_state\n    278         null_wrapper._wrapped = True\n    279         return null_wrapper\n\n...........................................................................\n/Users/annalawson/.virtualenvs/health/lib/python2.7/site-packages/ipykernel/kernelbase.py in dispatcher(msg=[<zmq.sugar.frame.Frame object>, <zmq.sugar.frame.Frame object>, <zmq.sugar.frame.Frame object>, <zmq.sugar.frame.Frame object>, <zmq.sugar.frame.Frame object>, <zmq.sugar.frame.Frame object>, <zmq.sugar.frame.Frame object>])\n    247         if self.control_stream:\n    248             self.control_stream.on_recv(self.dispatch_control, copy=False)\n    249 \n    250         def make_dispatcher(stream):\n    251             def dispatcher(msg):\n--> 252                 return self.dispatch_shell(stream, msg)\n        msg = [<zmq.sugar.frame.Frame object>, <zmq.sugar.frame.Frame object>, <zmq.sugar.frame.Frame object>, <zmq.sugar.frame.Frame object>, <zmq.sugar.frame.Frame object>, <zmq.sugar.frame.Frame object>, <zmq.sugar.frame.Frame object>]\n    253             return dispatcher\n    254 \n    255         for s in self.shell_streams:\n    256             s.on_recv(make_dispatcher(s), copy=False)\n\n...........................................................................\n/Users/annalawson/.virtualenvs/health/lib/python2.7/site-packages/ipykernel/kernelbase.py in dispatch_shell(self=<ipykernel.ipkernel.IPythonKernel object>, stream=<zmq.eventloop.zmqstream.ZMQStream object>, msg={'buffers': [], 'content': {u'allow_stdin': True, u'code': u\"param_grid = {\\n    'count__ngram_range': [(1,...rameter_search(train_data, pipeline, param_grid)\", u'silent': False, u'stop_on_error': True, u'store_history': True, u'user_expressions': {}}, 'header': {u'msg_id': u'81D558CD9B5F40FD9F295F1F554D214E', u'msg_type': u'execute_request', u'session': u'8448D4D5706A48B788F747A7968BD255', u'username': u'username', u'version': u'5.0'}, 'metadata': {}, 'msg_id': u'81D558CD9B5F40FD9F295F1F554D214E', 'msg_type': u'execute_request', 'parent_header': {}})\n    208         else:\n    209             # ensure default_int_handler during handler call\n    210             sig = signal(SIGINT, default_int_handler)\n    211             self.log.debug(\"%s: %s\", msg_type, msg)\n    212             try:\n--> 213                 handler(stream, idents, msg)\n        handler = <bound method IPythonKernel.execute_request of <ipykernel.ipkernel.IPythonKernel object>>\n        stream = <zmq.eventloop.zmqstream.ZMQStream object>\n        idents = ['8448D4D5706A48B788F747A7968BD255']\n        msg = {'buffers': [], 'content': {u'allow_stdin': True, u'code': u\"param_grid = {\\n    'count__ngram_range': [(1,...rameter_search(train_data, pipeline, param_grid)\", u'silent': False, u'stop_on_error': True, u'store_history': True, u'user_expressions': {}}, 'header': {u'msg_id': u'81D558CD9B5F40FD9F295F1F554D214E', u'msg_type': u'execute_request', u'session': u'8448D4D5706A48B788F747A7968BD255', u'username': u'username', u'version': u'5.0'}, 'metadata': {}, 'msg_id': u'81D558CD9B5F40FD9F295F1F554D214E', 'msg_type': u'execute_request', 'parent_header': {}}\n    214             except Exception:\n    215                 self.log.error(\"Exception in message handler:\", exc_info=True)\n    216             finally:\n    217                 signal(SIGINT, sig)\n\n...........................................................................\n/Users/annalawson/.virtualenvs/health/lib/python2.7/site-packages/ipykernel/kernelbase.py in execute_request(self=<ipykernel.ipkernel.IPythonKernel object>, stream=<zmq.eventloop.zmqstream.ZMQStream object>, ident=['8448D4D5706A48B788F747A7968BD255'], parent={'buffers': [], 'content': {u'allow_stdin': True, u'code': u\"param_grid = {\\n    'count__ngram_range': [(1,...rameter_search(train_data, pipeline, param_grid)\", u'silent': False, u'stop_on_error': True, u'store_history': True, u'user_expressions': {}}, 'header': {u'msg_id': u'81D558CD9B5F40FD9F295F1F554D214E', u'msg_type': u'execute_request', u'session': u'8448D4D5706A48B788F747A7968BD255', u'username': u'username', u'version': u'5.0'}, 'metadata': {}, 'msg_id': u'81D558CD9B5F40FD9F295F1F554D214E', 'msg_type': u'execute_request', 'parent_header': {}})\n    357         if not silent:\n    358             self.execution_count += 1\n    359             self._publish_execute_input(code, parent, self.execution_count)\n    360 \n    361         reply_content = self.do_execute(code, silent, store_history,\n--> 362                                         user_expressions, allow_stdin)\n        user_expressions = {}\n        allow_stdin = True\n    363 \n    364         # Flush output before sending the reply.\n    365         sys.stdout.flush()\n    366         sys.stderr.flush()\n\n...........................................................................\n/Users/annalawson/.virtualenvs/health/lib/python2.7/site-packages/ipykernel/ipkernel.py in do_execute(self=<ipykernel.ipkernel.IPythonKernel object>, code=u\"param_grid = {\\n    'count__ngram_range': [(1,...rameter_search(train_data, pipeline, param_grid)\", silent=False, store_history=True, user_expressions={}, allow_stdin=True)\n    170 \n    171         reply_content = {}\n    172         # FIXME: the shell calls the exception handler itself.\n    173         shell._reply_content = None\n    174         try:\n--> 175             shell.run_cell(code, store_history=store_history, silent=silent)\n        shell.run_cell = <bound method ZMQInteractiveShell.run_cell of <ipykernel.zmqshell.ZMQInteractiveShell object>>\n        code = u\"param_grid = {\\n    'count__ngram_range': [(1,...rameter_search(train_data, pipeline, param_grid)\"\n        store_history = True\n        silent = False\n    176         except:\n    177             status = u'error'\n    178             # FIXME: this code right now isn't being used yet by default,\n    179             # because the run_cell() call above directly fires off exception\n\n...........................................................................\n/Users/annalawson/.virtualenvs/health/lib/python2.7/site-packages/IPython/core/interactiveshell.py in run_cell(self=<ipykernel.zmqshell.ZMQInteractiveShell object>, raw_cell=u\"param_grid = {\\n    'count__ngram_range': [(1,...rameter_search(train_data, pipeline, param_grid)\", store_history=True, silent=False, shell_futures=True)\n   2897                 self.displayhook.exec_result = result\n   2898 \n   2899                 # Execute the user code\n   2900                 interactivity = \"none\" if silent else self.ast_node_interactivity\n   2901                 self.run_ast_nodes(code_ast.body, cell_name,\n-> 2902                    interactivity=interactivity, compiler=compiler, result=result)\n        interactivity = 'last_expr'\n        compiler = <IPython.core.compilerop.CachingCompiler instance>\n   2903 \n   2904                 # Reset this so later displayed values do not modify the\n   2905                 # ExecutionResult\n   2906                 self.displayhook.exec_result = None\n\n...........................................................................\n/Users/annalawson/.virtualenvs/health/lib/python2.7/site-packages/IPython/core/interactiveshell.py in run_ast_nodes(self=<ipykernel.zmqshell.ZMQInteractiveShell object>, nodelist=[<_ast.Assign object>, <_ast.Assign object>], cell_name='<ipython-input-40-4b308c7d2dab>', interactivity='none', compiler=<IPython.core.compilerop.CachingCompiler instance>, result=<IPython.core.interactiveshell.ExecutionResult object>)\n   3001 \n   3002         try:\n   3003             for i, node in enumerate(to_run_exec):\n   3004                 mod = ast.Module([node])\n   3005                 code = compiler(mod, cell_name, \"exec\")\n-> 3006                 if self.run_code(code, result):\n        self.run_code = <bound method ZMQInteractiveShell.run_code of <ipykernel.zmqshell.ZMQInteractiveShell object>>\n        code = <code object <module> at 0x1116b36b0, file \"<ipython-input-40-4b308c7d2dab>\", line 13>\n        result = <IPython.core.interactiveshell.ExecutionResult object>\n   3007                     return True\n   3008 \n   3009             for i, node in enumerate(to_run_interactive):\n   3010                 mod = ast.Interactive([node])\n\n...........................................................................\n/Users/annalawson/.virtualenvs/health/lib/python2.7/site-packages/IPython/core/interactiveshell.py in run_code(self=<ipykernel.zmqshell.ZMQInteractiveShell object>, code_obj=<code object <module> at 0x1116b36b0, file \"<ipython-input-40-4b308c7d2dab>\", line 13>, result=<IPython.core.interactiveshell.ExecutionResult object>)\n   3061         outflag = 1  # happens in more places, so it's easier as default\n   3062         try:\n   3063             try:\n   3064                 self.hooks.pre_run_code_hook()\n   3065                 #rprint('Running code', repr(code_obj)) # dbg\n-> 3066                 exec(code_obj, self.user_global_ns, self.user_ns)\n        code_obj = <code object <module> at 0x1116b36b0, file \"<ipython-input-40-4b308c7d2dab>\", line 13>\n        self.user_global_ns = {'ALLOW_THREADS': 1, 'Annotation': <class 'matplotlib.text.Annotation'>, 'Arrow': <class 'matplotlib.patches.Arrow'>, 'Artist': <class 'matplotlib.artist.Artist'>, 'AutoLocator': <class 'matplotlib.ticker.AutoLocator'>, 'Axes': <class 'matplotlib.axes._axes.Axes'>, 'BUFSIZE': 8192, 'Button': <class 'matplotlib.widgets.Button'>, 'CLIP': 0, 'Circle': <class 'matplotlib.patches.Circle'>, ...}\n        self.user_ns = {'ALLOW_THREADS': 1, 'Annotation': <class 'matplotlib.text.Annotation'>, 'Arrow': <class 'matplotlib.patches.Arrow'>, 'Artist': <class 'matplotlib.artist.Artist'>, 'AutoLocator': <class 'matplotlib.ticker.AutoLocator'>, 'Axes': <class 'matplotlib.axes._axes.Axes'>, 'BUFSIZE': 8192, 'Button': <class 'matplotlib.widgets.Button'>, 'CLIP': 0, 'Circle': <class 'matplotlib.patches.Circle'>, ...}\n   3067             finally:\n   3068                 # Reset our crash handler in place\n   3069                 sys.excepthook = old_excepthook\n   3070         except SystemExit as e:\n\n...........................................................................\n/Users/annalawson/Documents/health_py/ml_example/<ipython-input-40-4b308c7d2dab> in <module>()\n      8     'log__C': [ 0.01, .1, 1, 10, 50, 100, 1000],\n      9     #'reg__n_estimators': [ 10, 20, 30, 35, 40, 50],\n     10     #'reg__max_features':['auto'],\n     11     #'reg__max_depth': [50, 75, 100]\n     12 }\n---> 13 tuning_results = parameter_search(train_data, pipeline, param_grid)\n     14 \n     15 \n     16 \n     17 \n\n...........................................................................\n/Users/annalawson/Documents/health_py/ml_example/<ipython-input-39-1b65683b676e> in parameter_search(data={'x': array([ 'I ordered Rosa Mexicano for delivery a ...ison only not as clean.\"], \n      dtype='|S4952'), 'y': array([0, 1, 0, ..., 0, 0, 0])}, pipeline=Pipeline(steps=[('count', CountVectorizer(analyz...0.0001,\n          verbose=0, warm_start=False))]), paramgrid={'count__max_df': [0.8, 1.0], 'count__min_df': [1, 10], 'count__ngram_range': [(1, 2)], 'count__stop_words': [None], 'log__C': [0.01, 0.1, 1, 10, 50, 100, 1000], 'tfidf__norm': ['l1', None], 'tfidf__use_idf': [True, False]}, n_folds=3, gscv_kwargs={'cv': sklearn.cross_validation.StratifiedKFold(labels=...lean.\"], n_folds=3, shuffle=True, random_state=0), 'error_score': 'raise', 'fit_params': None, 'iid': True, 'n_jobs': -1, 'refit': True, 'scoring': <function ms_error>, 'verbose': 2})\n     57              'verbose':2, \n     58     #                  pre_dispatch=None, \n     59              'error_score':'raise'\n     60         }\n     61     gscv = grid_search.GridSearchCV(pipeline, paramgrid, **gscv_kwargs)\n---> 62     gscv.fit(data['x'], data['y'])\n     63     return gscv\n     64 \n     65 \n     66 \n\n...........................................................................\n/Users/annalawson/.virtualenvs/health/lib/python2.7/site-packages/sklearn/grid_search.py in fit(self=GridSearchCV(cv=sklearn.cross_validation.Stratif...ng=<function ms_error at 0x111a079b0>, verbose=2), X=array([ 'I ordered Rosa Mexicano for delivery a ...ison only not as clean.\"], \n      dtype='|S4952'), y=array([0, 1, 0, ..., 0, 0, 0]))\n    799         y : array-like, shape = [n_samples] or [n_samples, n_output], optional\n    800             Target relative to X for classification or regression;\n    801             None for unsupervised learning.\n    802 \n    803         \"\"\"\n--> 804         return self._fit(X, y, ParameterGrid(self.param_grid))\n        self._fit = <bound method GridSearchCV._fit of GridSearchCV(...g=<function ms_error at 0x111a079b0>, verbose=2)>\n        X = array([ 'I ordered Rosa Mexicano for delivery a ...ison only not as clean.\"], \n      dtype='|S4952')\n        y = array([0, 1, 0, ..., 0, 0, 0])\n        self.param_grid = {'count__max_df': [0.8, 1.0], 'count__min_df': [1, 10], 'count__ngram_range': [(1, 2)], 'count__stop_words': [None], 'log__C': [0.01, 0.1, 1, 10, 50, 100, 1000], 'tfidf__norm': ['l1', None], 'tfidf__use_idf': [True, False]}\n    805 \n    806 \n    807 class RandomizedSearchCV(BaseSearchCV):\n    808     \"\"\"Randomized search on hyper parameters.\n\n...........................................................................\n/Users/annalawson/.virtualenvs/health/lib/python2.7/site-packages/sklearn/grid_search.py in _fit(self=GridSearchCV(cv=sklearn.cross_validation.Stratif...ng=<function ms_error at 0x111a079b0>, verbose=2), X=array([ 'I ordered Rosa Mexicano for delivery a ...ison only not as clean.\"], \n      dtype='|S4952'), y=array([0, 1, 0, ..., 0, 0, 0]), parameter_iterable=<sklearn.grid_search.ParameterGrid object>)\n    548         )(\n    549             delayed(_fit_and_score)(clone(base_estimator), X, y, self.scorer_,\n    550                                     train, test, self.verbose, parameters,\n    551                                     self.fit_params, return_parameters=True,\n    552                                     error_score=self.error_score)\n--> 553                 for parameters in parameter_iterable\n        parameters = undefined\n        parameter_iterable = <sklearn.grid_search.ParameterGrid object>\n    554                 for train, test in cv)\n    555 \n    556         # Out is a list of triplet: score, estimator, n_test_samples\n    557         n_fits = len(out)\n\n...........................................................................\n/Users/annalawson/.virtualenvs/health/lib/python2.7/site-packages/sklearn/externals/joblib/parallel.py in __call__(self=Parallel(n_jobs=-1), iterable=<generator object <genexpr>>)\n    807             if pre_dispatch == \"all\" or n_jobs == 1:\n    808                 # The iterable was consumed all at once by the above for loop.\n    809                 # No need to wait for async callbacks to trigger to\n    810                 # consumption.\n    811                 self._iterating = False\n--> 812             self.retrieve()\n        self.retrieve = <bound method Parallel.retrieve of Parallel(n_jobs=-1)>\n    813             # Make sure that we get a last message telling us we are done\n    814             elapsed_time = time.time() - self._start_time\n    815             self._print('Done %3i out of %3i | elapsed: %s finished',\n    816                         (len(self._output), len(self._output),\n\n---------------------------------------------------------------------------\nSub-process traceback:\n---------------------------------------------------------------------------\nTypeError                                          Tue Dec  1 20:34:00 2015\nPID: 17416   Python 2.7.5: /Users/annalawson/.virtualenvs/health/bin/python\n...........................................................................\n/Users/annalawson/.virtualenvs/health/lib/python2.7/site-packages/sklearn/externals/joblib/parallel.pyc in __call__(self=<sklearn.externals.joblib.parallel.BatchedCalls object>)\n     67     def __init__(self, iterator_slice):\n     68         self.items = list(iterator_slice)\n     69         self._size = len(self.items)\n     70 \n     71     def __call__(self):\n---> 72         return [func(*args, **kwargs) for func, args, kwargs in self.items]\n     73 \n     74     def __len__(self):\n     75         return self._size\n     76 \n\n...........................................................................\n/Users/annalawson/.virtualenvs/health/lib/python2.7/site-packages/sklearn/cross_validation.pyc in _fit_and_score(estimator=Pipeline(steps=[('count', CountVectorizer(analyz...0.0001,\n          verbose=0, warm_start=False))]), X=memmap([ 'I ordered Rosa Mexicano for delivery a...ison only not as clean.\"], \n      dtype='|S4952'), y=array([0, 1, 0, ..., 0, 0, 0]), scorer=<function ms_error>, train=array([   0,    2,    3,    4,    5,    7,   11,...1103, 1104, 1105,\n       1108, 1109, 1110, 1112]), test=array([   1,    6,    8,    9,   10,   18,   19,... 1088, 1091, 1094, 1096, 1100, 1106, 1107, 1111]), verbose=2, parameters={'count__max_df': 0.8, 'count__min_df': 1, 'count__ngram_range': (1, 2), 'count__stop_words': None, 'log__C': 0.01, 'tfidf__norm': 'l1', 'tfidf__use_idf': True}, fit_params={}, return_train_score=False, return_parameters=True, error_score='raise')\n   1545                              \" numeric value. (Hint: if using 'raise', please\"\n   1546                              \" make sure that it has been spelled correctly.)\"\n   1547                              )\n   1548 \n   1549     else:\n-> 1550         test_score = _score(estimator, X_test, y_test, scorer)\n   1551         if return_train_score:\n   1552             train_score = _score(estimator, X_train, y_train, scorer)\n   1553 \n   1554     scoring_time = time.time() - start_time\n\n...........................................................................\n/Users/annalawson/.virtualenvs/health/lib/python2.7/site-packages/sklearn/cross_validation.pyc in _score(estimator=Pipeline(steps=[('count', CountVectorizer(analyz...0.0001,\n          verbose=0, warm_start=False))]), X_test=memmap([ \"So it has come to my attention that th...ore Fiorentinos for me.\"], \n      dtype='|S4952'), y_test=array([1, 0, 0, 0, 0, 0, 0, 0, 1, 0, 0, 0, 0, 0,...0, 1, 0, 1, 0, 0, 0, 0, 1, 0, 0,\n       0, 0, 0]), scorer=<function ms_error>)\n   1601 def _score(estimator, X_test, y_test, scorer):\n   1602     \"\"\"Compute the score of an estimator on a given test set.\"\"\"\n   1603     if y_test is None:\n   1604         score = scorer(estimator, X_test)\n   1605     else:\n-> 1606         score = scorer(estimator, X_test, y_test)\n   1607     if not isinstance(score, numbers.Number):\n   1608         raise ValueError(\"scoring must return a number, got %s (%s) instead.\"\n   1609                          % (str(score), type(score)))\n   1610     return score\n\nTypeError: ms_error() takes exactly 2 arguments (3 given)\n___________________________________________________________________________"
     ]
    }
   ],
   "source": [
    "param_grid = {\n",
    "    'count__ngram_range': [(1,2)],\n",
    "    'count__min_df': [1, 10],\n",
    "    'count__max_df' : [.8, 1.0],\n",
    "    'count__stop_words': [None],\n",
    "    'tfidf__use_idf' : [True, False],\n",
    "    'tfidf__norm': [('l1'), None],\n",
    "    'log__C': [ 0.01, .1, 1, 10, 50, 100, 1000],\n",
    "    #'reg__n_estimators': [ 10, 20, 30, 35, 40, 50],\n",
    "    #'reg__max_features':['auto'],\n",
    "    #'reg__max_depth': [50, 75, 100]\n",
    "}\n",
    "tuning_results = parameter_search(train_data, pipeline, param_grid)"
   ]
  },
  {
   "cell_type": "markdown",
   "metadata": {},
   "source": [
    "With these results, we can see what the general distribution of classifcation results looked like"
   ]
  },
  {
   "cell_type": "code",
   "execution_count": null,
   "metadata": {
    "collapsed": false
   },
   "outputs": [],
   "source": []
  },
  {
   "cell_type": "code",
   "execution_count": null,
   "metadata": {
    "collapsed": true
   },
   "outputs": [],
   "source": []
  },
  {
   "cell_type": "code",
   "execution_count": 22,
   "metadata": {
    "collapsed": false,
    "scrolled": false
   },
   "outputs": [
    {
     "data": {
      "image/png": "[encoded data removed]",
      "text/plain": [
       "<matplotlib.figure.Figure at 0x111e8bbd0>"
      ]
     },
     "metadata": {},
     "output_type": "display_data"
    }
   ],
   "source": [
    "scores = [r.mean_validation_score for r in tuning_results.grid_scores_]        \n",
    "plot_histo(scores,\n",
    "           title=\"Cross Validated Parameter Search Scores\",\n",
    "           xlabel=\"Root Mean Squared Error\")\n",
    "\n"
   ]
  },
  {
   "cell_type": "code",
   "execution_count": 64,
   "metadata": {
    "collapsed": false,
    "scrolled": true
   },
   "outputs": [
    {
     "data": {
      "image/png": "[encoded data removed]",
      "text/plain": [
       "<matplotlib.figure.Figure at 0x10c80fcd0>"
      ]
     },
     "metadata": {},
     "output_type": "display_data"
    }
   ],
   "source": [
    "##max_df\n",
    "num_trees = [r.parameters['count__max_df'] for r in tuning_results.grid_scores_]\n",
    "##for i in range(len(num_trees)):\n",
    "  ##  if num_trees[i] == 'linear':      \n",
    "    ##    num_trees[i] = 0\n",
    "    ##else:\n",
    "      #  num_trees[i] = 1\n",
    "plt.plot(num_trees, scores, 'ro')\n",
    "plt.axis([0, 1, .4, .8])\n",
    "plt.show()"
   ]
  },
  {
   "cell_type": "code",
   "execution_count": 71,
   "metadata": {
    "collapsed": false
   },
   "outputs": [
    {
     "data": {
      "image/png": "[encoded data removed]",
      "text/plain": [
       "<matplotlib.figure.Figure at 0x10b99b150>"
      ]
     },
     "metadata": {},
     "output_type": "display_data"
    }
   ],
   "source": [
    "##min_df\n",
    "num_trees = [r.parameters['count__min_df'] for r in tuning_results.grid_scores_]\n",
    "##for i in range(len(num_trees)):\n",
    "  ##  if num_trees[i] == 'linear':      \n",
    "    ##    num_trees[i] = 0\n",
    "    ##else:\n",
    "      #  num_trees[i] = 1\n",
    "plt.plot(num_trees, scores, 'ro')\n",
    "plt.axis([1, 10, .4, .7])\n",
    "plt.show()"
   ]
  },
  {
   "cell_type": "code",
   "execution_count": 77,
   "metadata": {
    "collapsed": false
   },
   "outputs": [
    {
     "data": {
      "image/png": "[encoded data removed]",
      "text/plain": [
       "<matplotlib.figure.Figure at 0x10b976490>"
      ]
     },
     "metadata": {},
     "output_type": "display_data"
    }
   ],
   "source": [
    "##C\n",
    "num_trees = [r.parameters['svr__C'] for r in tuning_results.grid_scores_]\n",
    "##for i in range(len(num_trees)):\n",
    "  ##  if num_trees[i] == 'linear':      \n",
    "    ##    num_trees[i] = 0\n",
    "    ##else:\n",
    "      #  num_trees[i] = 1\n",
    "plt.plot(num_trees, scores, 'ro')\n",
    "plt.axis([0, 1100, .4, .8])\n",
    "plt.show()"
   ]
  },
  {
   "cell_type": "markdown",
   "metadata": {},
   "source": []
  },
  {
   "cell_type": "code",
   "execution_count": 74,
   "metadata": {
    "collapsed": false
   },
   "outputs": [
    {
     "data": {
      "image/png": "[encoded data removed]",
      "text/plain": [
       "<matplotlib.figure.Figure at 0x10d4baed0>"
      ]
     },
     "metadata": {},
     "output_type": "display_data"
    }
   ],
   "source": [
    "##Use_IDF\n",
    "num_trees = [r.parameters['tfidf__use_idf'] for r in tuning_results.grid_scores_]\n",
    "for i in range(len(num_trees)):\n",
    "    if num_trees[i] == False:      \n",
    "        num_trees[i] = 0\n",
    "    else:\n",
    "        num_trees[i] = 1\n",
    "plt.plot(num_trees, scores, 'ro')\n",
    "plt.axis([-.5, 1.5, .4, .7])\n",
    "plt.show()"
   ]
  },
  {
   "cell_type": "code",
   "execution_count": 75,
   "metadata": {
    "collapsed": false,
    "scrolled": false
   },
   "outputs": [
    {
     "data": {
      "image/png": "[encoded data removed]",
      "text/plain": [
       "<matplotlib.figure.Figure at 0x10d4a51d0>"
      ]
     },
     "metadata": {},
     "output_type": "display_data"
    }
   ],
   "source": [
    "##Norm\n",
    "num_trees = [r.parameters['tfidf__norm'] for r in tuning_results.grid_scores_]\n",
    "for i in range(len(num_trees)):\n",
    "    if num_trees[i] == None:      \n",
    "        num_trees[i] = 0\n",
    "    else:\n",
    "        num_trees[i] = 1\n",
    "plt.plot(num_trees, scores, 'ro')\n",
    "plt.axis([-.5, 1.5, .4, .7])\n",
    "plt.show()"
   ]
  },
  {
   "cell_type": "code",
   "execution_count": 76,
   "metadata": {
    "collapsed": false,
    "scrolled": false
   },
   "outputs": [
    {
     "name": "stdout",
     "output_type": "stream",
     "text": [
      "GRID SEARCH SCORE: 0.5349\n",
      "0.0999996809404\n",
      "0.089511528797\n",
      "TRAIN SCORE: 0.0965\n",
      "0.639990738919\n",
      "0.214621739292\n",
      "TEST SCORE: 0.4982\n",
      "PARAMS\n",
      "{'count__stop_words': None, 'count__max_df': 1.0, 'tfidf__norm': None, 'count__min_df': 10, 'svr__kernel': 'rbf', 'svr__C': 50, 'tfidf__use_idf': True, 'count__ngram_range': (1, 2)}\n",
      "GRID SEARCH SCORE: 0.5349\n",
      "0.0999996809404\n",
      "0.089511528797\n",
      "TRAIN SCORE: 0.0965\n",
      "0.639990738919\n",
      "0.214621739292\n",
      "TEST SCORE: 0.4982\n",
      "PARAMS\n",
      "{'count__stop_words': None, 'count__max_df': 1.0, 'tfidf__norm': None, 'count__min_df': 10, 'svr__kernel': 'rbf', 'svr__C': 100, 'tfidf__use_idf': True, 'count__ngram_range': (1, 2)}\n",
      "GRID SEARCH SCORE: 0.5349\n",
      "0.0999996809404\n",
      "0.089511528797\n",
      "TRAIN SCORE: 0.0965\n",
      "0.639990738919\n",
      "0.214621739292\n",
      "TEST SCORE: 0.4982\n",
      "PARAMS\n",
      "{'count__stop_words': None, 'count__max_df': 1.0, 'tfidf__norm': None, 'count__min_df': 10, 'svr__kernel': 'rbf', 'svr__C': 1000, 'tfidf__use_idf': True, 'count__ngram_range': (1, 2)}\n",
      "GRID SEARCH SCORE: 0.6335\n",
      "0.901633672984\n",
      "0.0979213219603\n",
      "TRAIN SCORE: 0.6337\n",
      "0.901745457394\n",
      "0.0979323846203\n",
      "TEST SCORE: 0.6338\n",
      "PARAMS\n",
      "{'count__stop_words': None, 'count__max_df': 0.8, 'tfidf__norm': 'l1', 'count__min_df': 1, 'svr__kernel': 'rbf', 'svr__C': 1000, 'tfidf__use_idf': False, 'count__ngram_range': (1, 2)}\n",
      "GRID SEARCH SCORE: 0.6337\n",
      "0.902073949524\n",
      "0.0975896581849\n",
      "TRAIN SCORE: 0.6339\n",
      "0.902235659095\n",
      "0.0976343829225\n",
      "TEST SCORE: 0.6340\n",
      "PARAMS\n",
      "{'count__stop_words': None, 'count__max_df': 1.0, 'tfidf__norm': 'l1', 'count__min_df': 1, 'svr__kernel': 'rbf', 'svr__C': 1000, 'tfidf__use_idf': True, 'count__ngram_range': (1, 2)}\n",
      "GRID SEARCH SCORE: 0.6337\n",
      "0.902012884302\n",
      "0.0976436337388\n",
      "TRAIN SCORE: 0.6339\n",
      "0.902180594287\n",
      "0.0976863754363\n",
      "TEST SCORE: 0.6340\n",
      "PARAMS\n",
      "{'count__stop_words': None, 'count__max_df': 0.8, 'tfidf__norm': 'l1', 'count__min_df': 1, 'svr__kernel': 'rbf', 'svr__C': 1000, 'tfidf__use_idf': True, 'count__ngram_range': (1, 2)}\n"
     ]
    }
   ],
   "source": [
    "plt.rcParams['figure.figsize'] = (6,7)\n",
    "topk = 3\n",
    "ranked_results = sorted(tuning_results.grid_scores_, key=lambda x:x.mean_validation_score, reverse=False)\n",
    "best_score = 1 ## 1 is highest\n",
    "best_index = 0\n",
    "best_params = None\n",
    "for i, result in enumerate(ranked_results[:topk]):\n",
    "    params = result.parameters\n",
    "    pipeline.set_params(**params).fit(train_data['x'], train_data['y'])\n",
    "    train_preds = pipeline.predict(train_data['x'])\n",
    "    test_preds = pipeline.predict(test_data['x'])\n",
    "    print \"GRID SEARCH SCORE: %0.4f\" % result.mean_validation_score\n",
    "    print \"TRAIN SCORE: %0.4f\" % ms_error(train_data['y'], train_preds)\n",
    "    test_score = ms_error(test_data['y'], test_preds)\n",
    "    print \"TEST SCORE: %0.4f\" % test_score\n",
    "    print \"PARAMS\"\n",
    "    print params\n",
    "    if test_score < best_score: \n",
    "        best_score=test_score\n",
    "        best_index = i\n",
    "        best_params = params\n",
    "        \n",
    "for i, result in enumerate(ranked_results[len(ranked_results) - 3:]):\n",
    "    params = result.parameters\n",
    "    pipeline.set_params(**params).fit(train_data['x'], train_data['y'])\n",
    "    train_preds = pipeline.predict(train_data['x'])\n",
    "    test_preds = pipeline.predict(test_data['x'])\n",
    "    print \"GRID SEARCH SCORE: %0.4f\" % result.mean_validation_score\n",
    "    print \"TRAIN SCORE: %0.4f\" % ms_error(train_data['y'], train_preds)\n",
    "    test_score = ms_error(test_data['y'], test_preds)\n",
    "    print \"TEST SCORE: %0.4f\" % test_score\n",
    "    print \"PARAMS\"\n",
    "    print params"
   ]
  },
  {
   "cell_type": "markdown",
   "metadata": {},
   "source": [
    "### Given the best test score, we can see what those parameters were, and save the model to a file if we want to use it later"
   ]
  },
  {
   "cell_type": "code",
   "execution_count": null,
   "metadata": {
    "collapsed": false,
    "scrolled": true
   },
   "outputs": [],
   "source": [
    "best = ranked_results[best_index]\n",
    "print \"BEST TEST POSITIVE RECALL: %0.4f\" % best_score\n",
    "print \"BEST MODEL PARAMS: %r\" % best_params\n",
    "model = pipeline.set_params(**best_params).fit(data['x'], data['y'])"
   ]
  },
  {
   "cell_type": "code",
   "execution_count": null,
   "metadata": {
    "collapsed": false
   },
   "outputs": [],
   "source": [
    "from sklearn.externals import joblib\n",
    "joblib.dump(model, 'multiple_rf.pkl') "
   ]
  },
  {
   "cell_type": "markdown",
   "metadata": {},
   "source": [
    "Don't worry about why that has multiple files, just know to load the model later all of those files must be in the directory.\n",
    "\n",
    "But just refer to it with the original filename"
   ]
  },
  {
   "cell_type": "code",
   "execution_count": null,
   "metadata": {
    "collapsed": false,
    "scrolled": true
   },
   "outputs": [],
   "source": [
    "multiple = joblib.load('best_multiple_clf.pkl') \n",
    "preds = multiple.predict(data['x'])"
   ]
  },
  {
   "cell_type": "markdown",
   "metadata": {},
   "source": [
    "## This should give you a good setup to continue improving the models!\n",
    "\n",
    "Almost all of the info you need for using sci-kitlearn is in the online documentation (as well as a ton of practical tips and examples for how to do good ML in general).\n",
    "\n",
    "When it comes to plotting stuff, generally I just google \"matplotlib _what kind of plot I want_\" and someone has usually sdone like 95% of the work already :)\n",
    "\n",
    "Feel free to send me any questions you have and enjoy your new life in the [wonderful world of python](https://xkcd.com/353/)"
   ]
  },
  {
   "cell_type": "code",
   "execution_count": null,
   "metadata": {
    "collapsed": true
   },
   "outputs": [],
   "source": []
  }
 ],
 "metadata": {
  "kernelspec": {
   "display_name": "Python 2",
   "language": "python",
   "name": "python2"
  },
  "language_info": {
   "codemirror_mode": {
    "name": "ipython",
    "version": 2
   },
   "file_extension": ".py",
   "mimetype": "text/x-python",
   "name": "python",
   "nbconvert_exporter": "python",
   "pygments_lexer": "ipython2",
   "version": "2.7.5"
  }
 },
 "nbformat": 4,
 "nbformat_minor": 0
}
