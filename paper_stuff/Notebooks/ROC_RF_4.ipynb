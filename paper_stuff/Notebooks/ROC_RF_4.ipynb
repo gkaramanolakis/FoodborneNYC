{
 "cells": [
  {
   "cell_type": "code",
   "execution_count": 3,
   "metadata": {
    "collapsed": false
   },
   "outputs": [
    {
     "name": "stdout",
     "output_type": "stream",
     "text": [
      "Populating the interactive namespace from numpy and matplotlib\n"
     ]
    }
   ],
   "source": [
    "%pylab inline\n",
    "import numpy as np\n",
    "import matplotlib.pyplot as plt\n",
    "import csv\n",
    "import openpyxl\n",
    "from sklearn import cross_validation\n",
    "from sklearn import grid_search\n",
    "from sklearn import metrics\n",
    "from sklearn import tree\n",
    "from sklearn import ensemble\n",
    "\n",
    "plt.rcParams['figure.figsize'] = (10.0, 8.0)"
   ]
  },
  {
   "cell_type": "markdown",
   "metadata": {},
   "source": [
    "#### This data has some weird encoding issues... need a helper function"
   ]
  },
  {
   "cell_type": "code",
   "execution_count": 4,
   "metadata": {
    "collapsed": true
   },
   "outputs": [],
   "source": [
    "def xuni(s):\n",
    "    if not s:\n",
    "        return u''\n",
    "    elif type(s) == unicode:\n",
    "        return s.encode('utf-8')\n",
    "    elif type(s) == str:\n",
    "        return unicode(s, 'utf-8')\n",
    "    else: return ''\n",
    "    "
   ]
  },
  {
   "cell_type": "markdown",
   "metadata": {},
   "source": [
    "### Convert xlsx to csv, dealing with encoding issues\n",
    "Notes: \n",
    "* made a file with just three columns, date, reviews and 2_or_more_ill\n",
    "* also dropped '3' and '9' labels because they can't help (and there's only like 5 total)\n"
   ]
  },
  {
   "cell_type": "code",
   "execution_count": 5,
   "metadata": {
    "collapsed": false,
    "scrolled": true
   },
   "outputs": [
    {
     "name": "stderr",
     "output_type": "stream",
     "text": [
      "/Users/annalawson/.virtualenvs/health/lib/python2.7/site-packages/openpyxl/reader/worksheet.py:320: UserWarning: Unknown extension is not supported and will be removed\n",
      "  warn(msg)\n"
     ]
    }
   ],
   "source": [
    "#Original regression values + annotations\n",
    "wb = openpyxl.load_workbook('mult_data.xlsx')\n",
    "sh = wb.active\n",
    "with open('mult_data.csv', 'wb') as f:\n",
    "    c = csv.writer(f)\n",
    "    for r in sh.rows:\n",
    "        c.writerow([cell.value for cell in r])"
   ]
  },
  {
   "cell_type": "markdown",
   "metadata": {},
   "source": [
    "### Now let's write out the data we care about (but only the first 1/3) "
   ]
  },
  {
   "cell_type": "markdown",
   "metadata": {},
   "source": [
    "#### And check that it looks good"
   ]
  },
  {
   "cell_type": "markdown",
   "metadata": {},
   "source": [
    "## Cool.  So let's start messing with classification"
   ]
  },
  {
   "cell_type": "markdown",
   "metadata": {},
   "source": [
    "### Define our (very basic) classifier pipeline"
   ]
  },
  {
   "cell_type": "code",
   "execution_count": 6,
   "metadata": {
    "collapsed": false
   },
   "outputs": [],
   "source": [
    "from sklearn.pipeline import Pipeline\n",
    "\n",
    "# Feature Extractors\n",
    "from sklearn.feature_extraction.text import CountVectorizer\n",
    "f1 = CountVectorizer(\n",
    "        input=u'content', \n",
    "        encoding=u'utf-8', \n",
    "        decode_error=u'strict', \n",
    "        strip_accents=None, \n",
    "        lowercase=True, \n",
    "        preprocessor=None, \n",
    "        tokenizer=None, \n",
    "        stop_words=None, \n",
    "        #token_pattern=u'(?u)\\\\b\\w\\w+\\b', # one alphanumeric is a token\n",
    "        ngram_range=(1, 1), \n",
    "        analyzer=u'word', \n",
    "        max_df=1.0, \n",
    "        min_df=1, \n",
    "        max_features=None, \n",
    "        vocabulary=None, \n",
    "        binary=False, \n",
    "        #dtype=type 'numpy.int64'>\n",
    "        )\n",
    "\n",
    "from sklearn.feature_extraction.text import TfidfTransformer\n",
    "tfidf = TfidfTransformer()\n",
    "rf = ensemble.RandomForestClassifier(\n",
    "    oob_score = True,\n",
    "    random_state =0\n",
    ")\n",
    "from sklearn import linear_model\n",
    "log = linear_model.LogisticRegression()\n",
    "#Decision Tree Pipeline\n",
    "pipeline = Pipeline([\n",
    "        ('count', f1),\n",
    "        ('tfidf', tfidf),\n",
    "        ('rf', rf)\n",
    "    ])"
   ]
  },
  {
   "cell_type": "markdown",
   "metadata": {},
   "source": [
    "In general, we are most interested in a classifier that positively labels as many true positives as possible. \n",
    "This is equivalent to maximizing the Positive label recall, so define that scoring function"
   ]
  },
  {
   "cell_type": "code",
   "execution_count": 7,
   "metadata": {
    "collapsed": false
   },
   "outputs": [],
   "source": [
    "from sklearn.metrics import make_scorer\n",
    "\n",
    "def my_roc_auc(ground_truth, predictions):\n",
    "    ground_truth = np.array(ground_truth)\n",
    "    predictions = np.array(predictions)\n",
    "    return metrics.roc_auc_score(ground_truth, predictions, average='micro')\n",
    "\n",
    "def ms_error(ground_truth, predictions):\n",
    "    ## Calculate rmse for reviews that have real label of 'yes'\n",
    "    ground_truth = np.array(ground_truth)\n",
    "    predictions = np.array(predictions)\n",
    "    real_yes = ground_truth[np.where(ground_truth == 1)]\n",
    "    pred_for_yes = predictions[np.where(ground_truth == 1)] ## predicted value for 'yes' reviews'\n",
    "    y_error = metrics.mean_squared_error(real_yes, pred_for_yes) **.5 ## rmse for 'yes' reviews\n",
    "    \n",
    "    ## Calculate rmse for reviews that have real label of 'yes'\n",
    "    real_no = ground_truth[np.where(ground_truth == 0)]\n",
    "    pred_for_no = predictions[np.where(ground_truth == 0)] ## predicted value for 'no' reviews\n",
    "    n_error = metrics.mean_squared_error(real_no, pred_for_no) **.5 ## rmse for 'no' reviews\n",
    "    \n",
    "    print y_error\n",
    "    print n_error\n",
    "    ## F2 score, weighted to favor y_error\n",
    "    ##error = ( (2**2 + 1) * y_error * n_error) / (y_error + (2**2) * n_error) \n",
    "    error = (2.0/3.0) * y_error + (1.0/3.0) * n_error\n",
    "    return error\n",
    "    #return metrics.mean_squared_error(ground_truth, predictions)\n",
    "\n",
    "    \n",
    "def pos_recall(ground_truth, predictions, pos_label='yes'):\n",
    "    ground_truth = np.array(ground_truth)\n",
    "    predictions = np.array(predictions)\n",
    "    true_preds = predictions[np.where(ground_truth == pos_label)]\n",
    "    true_pos = ground_truth[np.where(ground_truth == pos_label)]\n",
    "    return float(len(true_preds[np.where(true_preds == true_pos)]))/len(true_pos)\n",
    "\n",
    "ms_error_scorer = make_scorer(ms_error, greater_is_better=True)\n",
    "pos_recall_scorer = make_scorer(pos_recall, greater_is_better=True)\n",
    "my_roc_auc_scorer = make_scorer(my_roc_auc, needs_threshold=True, greater_is_better=True)"
   ]
  },
  {
   "cell_type": "markdown",
   "metadata": {},
   "source": [
    "### Here are two functions to generate plots"
   ]
  },
  {
   "cell_type": "code",
   "execution_count": 8,
   "metadata": {
    "collapsed": false
   },
   "outputs": [],
   "source": [
    "def plot_confusion_matrix(cm, label_names, title='Confusion matrix', cmap=plt.cm.Blues):\n",
    "    fig, ax = plt.subplots()\n",
    "    \n",
    "    min_val, max_val, diff = 0., len(cm.astype('float')[:,0]), 1.\n",
    "\n",
    "    #text portion\n",
    "    x, y = np.meshgrid(range(cm.shape[0]), range(cm.shape[1]))\n",
    "    cm_normalized = cm.astype('float') / cm.sum(axis=1)[:, np.newaxis]\n",
    "    for x_val, y_val in zip(x.flatten(), y.flatten()):\n",
    "        c = \"%i = %0.2f\" % (cm.astype('int')[x_val, y_val], cm_normalized[x_val, y_val])\n",
    "        ax.text(y_val, x_val, c, va='center', ha='center')\n",
    "\n",
    "    #set tick marks for grid\n",
    "    ax.set_xticks(np.arange(min_val-diff/2, max_val-diff/2))\n",
    "    ax.set_yticks(np.arange(min_val-diff/2, max_val-diff/2))\n",
    "    ax.set_xticklabels([])\n",
    "    ax.set_yticklabels([])\n",
    "    ax.set_xlim(min_val-diff/2, max_val-diff/2)\n",
    "    ax.set_ylim(min_val-diff/2, max_val-diff/2)\n",
    "    plt.imshow(cm, interpolation='nearest', cmap=cmap)\n",
    "    plt.title(title)\n",
    "#     plt.colorbar()\n",
    "    tick_marks = np.arange(len(label_names))\n",
    "    plt.xticks(tick_marks, label_names)#, rotation=45)\n",
    "    plt.yticks(tick_marks, label_names)\n",
    "    plt.tight_layout()\n",
    "    plt.ylabel('True label')\n",
    "    plt.xlabel('Predicted label')\n",
    "\n",
    "def plot_histo(values, nbins=50, xlabel=\"Value\", ylabel=\"Frequency\", title=\"Histogram\"):\n",
    "    plt.hist(values, nbins, color='cadetblue')\n",
    "    plt.title(title)     \n",
    "    plt.xlabel(xlabel)\n",
    "    plt.ylabel(ylabel)\n",
    "    plt.grid()"
   ]
  },
  {
   "cell_type": "markdown",
   "metadata": {},
   "source": [
    "### These three functions split up the basic initial steps of an experiment"
   ]
  },
  {
   "cell_type": "code",
   "execution_count": 9,
   "metadata": {
    "collapsed": false
   },
   "outputs": [],
   "source": [
    "from sklearn import preprocessing\n",
    "def load_data(csvfile, delim):\n",
    "    data = { 'x':[], 'y':[]}\n",
    "    with open(csvfile, 'r') as f:\n",
    "        reader = csv.reader(f, delimiter=delim)\n",
    "        print \"HEADERS: \", reader.next()\n",
    "        for row in reader:\n",
    "            data['x'].append(row[0])\n",
    "#             print row[1]\n",
    "            data['y'].append(row[1])\n",
    "    data['x'] = np.array(data['x'])\n",
    "    data['y'] = np.array(data['y'])\n",
    "    \n",
    "    for i in range (len(data['y'])):\n",
    "        if data['y'][i] == '0':\n",
    "            data['y'][i] = 0.0\n",
    "        else:\n",
    "            data['y'][i] = 1.0\n",
    "            \n",
    "    lb = preprocessing.LabelEncoder()\n",
    "    data['y'] = lb.fit_transform(data['y'])\n",
    "    \n",
    "    n = len(data['y'])\n",
    "    labels = sorted(list(set(data['y'])))\n",
    "    print \"Labels: \", labels\n",
    "    pos = [d for d in data['y'] if d==1] \n",
    "    print \"Positive Examples: %i = %0.2f\" % (len(pos), len(pos)/float(n))\n",
    "    neg = [d for d in data['y'] if d==0] \n",
    "    print \"Negative Examples: %i = %0.2f\" % (len(neg), len(neg)/float(n))\n",
    "    return data, labels\n",
    "\n",
    "def split_dev_test(data, test_size=.2):\n",
    "    train_data = {}\n",
    "    test_data = {}\n",
    "    for train, test in cross_validation.StratifiedShuffleSplit(data['y'], n_iter=1, test_size=test_size, random_state=0):\n",
    "        train_data['x'] = data['x'][train]\n",
    "        train_data['y'] = data['y'][train]\n",
    "        test_data['x'] = data['x'][test]\n",
    "        test_data['y'] = data['y'][test]\n",
    "        \n",
    "    print \"Training/Dev data shape: \", train_data['x'].shape, train_data['y'].shape\n",
    "    print \"Test data shape: \",test_data['x'].shape, test_data['y'].shape\n",
    "    return train_data, test_data\n",
    "\n",
    "def parameter_search(data, pipeline, paramgrid, n_folds=3, gscv_kwargs=None):\n",
    "    print \"SEARCHING PARAMETER SPACE:\"\n",
    "    folds = cross_validation.StratifiedKFold(data['x'], n_folds=n_folds, random_state=0,shuffle=True)\n",
    "    if not gscv_kwargs:\n",
    "        gscv_kwargs = {\n",
    "             'scoring':my_roc_auc_scorer, \n",
    "             'fit_params':None, \n",
    "             'n_jobs':1, \n",
    "             'iid':True, \n",
    "             'refit':True, \n",
    "             'cv':folds, \n",
    "             'verbose':2, \n",
    "    #                  pre_dispatch=None, \n",
    "             'error_score':'raise'\n",
    "        }\n",
    "    gscv = grid_search.GridSearchCV(pipeline, paramgrid, **gscv_kwargs)\n",
    "    gscv.fit(data['x'], data['y'])\n",
    "    return gscv\n",
    "\n"
   ]
  },
  {
   "cell_type": "markdown",
   "metadata": {},
   "source": [
    "### Load the data from the file we created above"
   ]
  },
  {
   "cell_type": "code",
   "execution_count": 35,
   "metadata": {
    "collapsed": false
   },
   "outputs": [
    {
     "name": "stdout",
     "output_type": "stream",
     "text": [
      "HEADERS:  ['Multiple', '2OrMoreAsBool (Health Dept. Val)']\n",
      "Labels:  [0, 1]\n",
      "Positive Examples: 779 = 0.12\n",
      "Negative Examples: 5497 = 0.88\n",
      "[ 0.   0.   0.  ...,  1.8  4.4  4.4]\n",
      "[1 1 1 ..., 0 0 0]\n"
     ]
    },
    {
     "data": {
      "text/plain": [
       "0.65094299306215109"
      ]
     },
     "execution_count": 35,
     "metadata": {},
     "output_type": "execute_result"
    }
   ],
   "source": [
    "csvfile = 'mult_data.csv'\n",
    "delim=','\n",
    "old_data, old_labels = load_data(csvfile, delim)\n",
    "#print np.array(old_pred).shape, np.array(old_labels).shape\n",
    "my_roc_auc(old_data['y'], old_data['x']) #true values, then predictions"
   ]
  },
  {
   "cell_type": "code",
   "execution_count": 10,
   "metadata": {
    "collapsed": false,
    "scrolled": true
   },
   "outputs": [
    {
     "name": "stdout",
     "output_type": "stream",
     "text": [
      "HEADERS:  ['data', 'label']\n",
      "Labels:  [0, 1]\n",
      "Positive Examples: 177 = 0.13\n",
      "Negative Examples: 1215 = 0.87\n"
     ]
    }
   ],
   "source": [
    "csvfile = 'yelp_mult_data_small.csv'\n",
    "delim=','\n",
    "data, labels = load_data(csvfile, delim)"
   ]
  },
  {
   "cell_type": "markdown",
   "metadata": {},
   "source": [
    "### Now split the data into a training/dev set and a final test set\n",
    "(It is poor practice to tune parameters and evaluate performance on the same 'test' dataset.\n",
    "\n",
    "So usually people actually split the data into 3 sets: train/development/test"
   ]
  },
  {
   "cell_type": "code",
   "execution_count": 12,
   "metadata": {
    "collapsed": false,
    "scrolled": false
   },
   "outputs": [
    {
     "name": "stdout",
     "output_type": "stream",
     "text": [
      "Training/Dev data shape:  (1113,) (1113,)\n",
      "Test data shape:  (279,) (279,)\n"
     ]
    }
   ],
   "source": [
    "train_data, test_data = split_dev_test(data)"
   ]
  },
  {
   "cell_type": "markdown",
   "metadata": {},
   "source": [
    "### This is an example of a parameter grid to exhaustively search. \n",
    "\n",
    "You can customize how the search is done by defining your own dictionary with the settings and passing that to parameter_search\n"
   ]
  },
  {
   "cell_type": "code",
   "execution_count": 13,
   "metadata": {
    "collapsed": false,
    "scrolled": true
   },
   "outputs": [
    {
     "name": "stdout",
     "output_type": "stream",
     "text": [
      "SEARCHING PARAMETER SPACE:\n",
      "Fitting 3 folds for each of 10 candidates, totalling 30 fits\n",
      "[CV] count__stop_words=None, count__max_df=0.92, rf__max_depth=50, tfidf__norm=l2, rf__n_estimators=110, rf__max_features=auto, tfidf__use_idf=True, count__ngram_range=(1, 3), count__lowercase=True, count__max_features=1000 \n",
      "[CV]  count__stop_words=None, count__max_df=0.92, rf__max_depth=50, tfidf__norm=l2, rf__n_estimators=110, rf__max_features=auto, tfidf__use_idf=True, count__ngram_range=(1, 3), count__lowercase=True, count__max_features=1000 -   2.2s\n",
      "[CV] count__stop_words=None, count__max_df=0.92, rf__max_depth=50, tfidf__norm=l2, rf__n_estimators=110, rf__max_features=auto, tfidf__use_idf=True, count__ngram_range=(1, 3), count__lowercase=True, count__max_features=1000 \n",
      "[CV]  count__stop_words=None, count__max_df=0.92, rf__max_depth=50, tfidf__norm=l2, rf__n_estimators=110, rf__max_features=auto, tfidf__use_idf=True, count__ngram_range=(1, 3), count__lowercase=True, count__max_features=1000 -   2.1s\n",
      "[CV] count__stop_words=None, count__max_df=0.92, rf__max_depth=50, tfidf__norm=l2, rf__n_estimators=110, rf__max_features=auto, tfidf__use_idf=True, count__ngram_range=(1, 3), count__lowercase=True, count__max_features=1000 \n",
      "[CV]  count__stop_words=None, count__max_df=0.92, rf__max_depth=50, tfidf__norm=l2, rf__n_estimators=110, rf__max_features=auto, tfidf__use_idf=True, count__ngram_range=(1, 3), count__lowercase=True, count__max_features=1000 -   2.3s\n",
      "[CV] count__stop_words=None, count__max_df=0.92, rf__max_depth=50, tfidf__norm=l2, rf__n_estimators=120, rf__max_features=auto, tfidf__use_idf=True, count__ngram_range=(1, 3), count__lowercase=True, count__max_features=1000 \n",
      "[CV]  count__stop_words=None, count__max_df=0.92, rf__max_depth=50, tfidf__norm=l2, rf__n_estimators=120, rf__max_features=auto, tfidf__use_idf=True, count__ngram_range=(1, 3), count__lowercase=True, count__max_features=1000 -   2.1s\n",
      "[CV] count__stop_words=None, count__max_df=0.92, rf__max_depth=50, tfidf__norm=l2, rf__n_estimators=120, rf__max_features=auto, tfidf__use_idf=True, count__ngram_range=(1, 3), count__lowercase=True, count__max_features=1000 \n",
      "[CV]  count__stop_words=None, count__max_df=0.92, rf__max_depth=50, tfidf__norm=l2, rf__n_estimators=120, rf__max_features=auto, tfidf__use_idf=True, count__ngram_range=(1, 3), count__lowercase=True, count__max_features=1000 -   2.2s\n",
      "[CV] count__stop_words=None, count__max_df=0.92, rf__max_depth=50, tfidf__norm=l2, rf__n_estimators=120, rf__max_features=auto, tfidf__use_idf=True, count__ngram_range=(1, 3), count__lowercase=True, count__max_features=1000 \n",
      "[CV]  count__stop_words=None, count__max_df=0.92, rf__max_depth=50, tfidf__norm=l2, rf__n_estimators=120, rf__max_features=auto, tfidf__use_idf=True, count__ngram_range=(1, 3), count__lowercase=True, count__max_features=1000 -   2.2s\n",
      "[CV] count__stop_words=None, count__max_df=0.92, rf__max_depth=50, tfidf__norm=l2, rf__n_estimators=130, rf__max_features=auto, tfidf__use_idf=True, count__ngram_range=(1, 3), count__lowercase=True, count__max_features=1000 \n",
      "[CV]  count__stop_words=None, count__max_df=0.92, rf__max_depth=50, tfidf__norm=l2, rf__n_estimators=130, rf__max_features=auto, tfidf__use_idf=True, count__ngram_range=(1, 3), count__lowercase=True, count__max_features=1000 -   2.1s\n",
      "[CV] count__stop_words=None, count__max_df=0.92, rf__max_depth=50, tfidf__norm=l2, rf__n_estimators=130, rf__max_features=auto, tfidf__use_idf=True, count__ngram_range=(1, 3), count__lowercase=True, count__max_features=1000 \n",
      "[CV]  count__stop_words=None, count__max_df=0.92, rf__max_depth=50, tfidf__norm=l2, rf__n_estimators=130, rf__max_features=auto, tfidf__use_idf=True, count__ngram_range=(1, 3), count__lowercase=True, count__max_features=1000 -   2.2s\n",
      "[CV] count__stop_words=None, count__max_df=0.92, rf__max_depth=50, tfidf__norm=l2, rf__n_estimators=130, rf__max_features=auto, tfidf__use_idf=True, count__ngram_range=(1, 3), count__lowercase=True, count__max_features=1000 \n",
      "[CV]  count__stop_words=None, count__max_df=0.92, rf__max_depth=50, tfidf__norm=l2, rf__n_estimators=130, rf__max_features=auto, tfidf__use_idf=True, count__ngram_range=(1, 3), count__lowercase=True, count__max_features=1000 -   2.3s\n",
      "[CV] count__stop_words=None, count__max_df=0.92, rf__max_depth=50, tfidf__norm=l2, rf__n_estimators=150, rf__max_features=auto, tfidf__use_idf=True, count__ngram_range=(1, 3), count__lowercase=True, count__max_features=1000 \n",
      "[CV]  count__stop_words=None, count__max_df=0.92, rf__max_depth=50, tfidf__norm=l2, rf__n_estimators=150, rf__max_features=auto, tfidf__use_idf=True, count__ngram_range=(1, 3), count__lowercase=True, count__max_features=1000 -   2.3s\n",
      "[CV] count__stop_words=None, count__max_df=0.92, rf__max_depth=50, tfidf__norm=l2, rf__n_estimators=150, rf__max_features=auto, tfidf__use_idf=True, count__ngram_range=(1, 3), count__lowercase=True, count__max_features=1000 \n",
      "[CV]  count__stop_words=None, count__max_df=0.92, rf__max_depth=50, tfidf__norm=l2, rf__n_estimators=150, rf__max_features=auto, tfidf__use_idf=True, count__ngram_range=(1, 3), count__lowercase=True, count__max_features=1000 -   2.3s\n",
      "[CV] count__stop_words=None, count__max_df=0.92, rf__max_depth=50, tfidf__norm=l2, rf__n_estimators=150, rf__max_features=auto, tfidf__use_idf=True, count__ngram_range=(1, 3), count__lowercase=True, count__max_features=1000 \n",
      "[CV]  count__stop_words=None, count__max_df=0.92, rf__max_depth=50, tfidf__norm=l2, rf__n_estimators=150, rf__max_features=auto, tfidf__use_idf=True, count__ngram_range=(1, 3), count__lowercase=True, count__max_features=1000 -   2.4s\n",
      "[CV] count__stop_words=None, count__max_df=0.92, rf__max_depth=50, tfidf__norm=l2, rf__n_estimators=200, rf__max_features=auto, tfidf__use_idf=True, count__ngram_range=(1, 3), count__lowercase=True, count__max_features=1000 \n",
      "[CV]  count__stop_words=None, count__max_df=0.92, rf__max_depth=50, tfidf__norm=l2, rf__n_estimators=200, rf__max_features=auto, tfidf__use_idf=True, count__ngram_range=(1, 3), count__lowercase=True, count__max_features=1000 -   2.6s\n",
      "[CV] count__stop_words=None, count__max_df=0.92, rf__max_depth=50, tfidf__norm=l2, rf__n_estimators=200, rf__max_features=auto, tfidf__use_idf=True, count__ngram_range=(1, 3), count__lowercase=True, count__max_features=1000 \n",
      "[CV]  count__stop_words=None, count__max_df=0.92, rf__max_depth=50, tfidf__norm=l2, rf__n_estimators=200, rf__max_features=auto, tfidf__use_idf=True, count__ngram_range=(1, 3), count__lowercase=True, count__max_features=1000 -   2.6s\n",
      "[CV] count__stop_words=None, count__max_df=0.92, rf__max_depth=50, tfidf__norm=l2, rf__n_estimators=200, rf__max_features=auto, tfidf__use_idf=True, count__ngram_range=(1, 3), count__lowercase=True, count__max_features=1000 \n",
      "[CV]  count__stop_words=None, count__max_df=0.92, rf__max_depth=50, tfidf__norm=l2, rf__n_estimators=200, rf__max_features=auto, tfidf__use_idf=True, count__ngram_range=(1, 3), count__lowercase=True, count__max_features=1000 -   2.6s\n",
      "[CV] count__stop_words=None, count__max_df=0.92, rf__max_depth=50, tfidf__norm=l2, rf__n_estimators=110, rf__max_features=sqrt, tfidf__use_idf=True, count__ngram_range=(1, 3), count__lowercase=True, count__max_features=1000 \n",
      "[CV]  count__stop_words=None, count__max_df=0.92, rf__max_depth=50, tfidf__norm=l2, rf__n_estimators=110, rf__max_features=sqrt, tfidf__use_idf=True, count__ngram_range=(1, 3), count__lowercase=True, count__max_features=1000 -   2.0s\n",
      "[CV] count__stop_words=None, count__max_df=0.92, rf__max_depth=50, tfidf__norm=l2, rf__n_estimators=110, rf__max_features=sqrt, tfidf__use_idf=True, count__ngram_range=(1, 3), count__lowercase=True, count__max_features=1000 \n",
      "[CV]  count__stop_words=None, count__max_df=0.92, rf__max_depth=50, tfidf__norm=l2, rf__n_estimators=110, rf__max_features=sqrt, tfidf__use_idf=True, count__ngram_range=(1, 3), count__lowercase=True, count__max_features=1000 -   2.2s\n",
      "[CV] count__stop_words=None, count__max_df=0.92, rf__max_depth=50, tfidf__norm=l2, rf__n_estimators=110, rf__max_features=sqrt, tfidf__use_idf=True, count__ngram_range=(1, 3), count__lowercase=True, count__max_features=1000 \n",
      "[CV]  count__stop_words=None, count__max_df=0.92, rf__max_depth=50, tfidf__norm=l2, rf__n_estimators=110, rf__max_features=sqrt, tfidf__use_idf=True, count__ngram_range=(1, 3), count__lowercase=True, count__max_features=1000 -   2.2s\n",
      "[CV] count__stop_words=None, count__max_df=0.92, rf__max_depth=50, tfidf__norm=l2, rf__n_estimators=120, rf__max_features=sqrt, tfidf__use_idf=True, count__ngram_range=(1, 3), count__lowercase=True, count__max_features=1000 \n",
      "[CV]  count__stop_words=None, count__max_df=0.92, rf__max_depth=50, tfidf__norm=l2, rf__n_estimators=120, rf__max_features=sqrt, tfidf__use_idf=True, count__ngram_range=(1, 3), count__lowercase=True, count__max_features=1000 -   2.2s\n",
      "[CV] count__stop_words=None, count__max_df=0.92, rf__max_depth=50, tfidf__norm=l2, rf__n_estimators=120, rf__max_features=sqrt, tfidf__use_idf=True, count__ngram_range=(1, 3), count__lowercase=True, count__max_features=1000 \n",
      "[CV]  count__stop_words=None, count__max_df=0.92, rf__max_depth=50, tfidf__norm=l2, rf__n_estimators=120, rf__max_features=sqrt, tfidf__use_idf=True, count__ngram_range=(1, 3), count__lowercase=True, count__max_features=1000 -   2.2s\n",
      "[CV] count__stop_words=None, count__max_df=0.92, rf__max_depth=50, tfidf__norm=l2, rf__n_estimators=120, rf__max_features=sqrt, tfidf__use_idf=True, count__ngram_range=(1, 3), count__lowercase=True, count__max_features=1000 \n",
      "[CV]  count__stop_words=None, count__max_df=0.92, rf__max_depth=50, tfidf__norm=l2, rf__n_estimators=120, rf__max_features=sqrt, tfidf__use_idf=True, count__ngram_range=(1, 3), count__lowercase=True, count__max_features=1000 -   2.3s\n",
      "[CV] count__stop_words=None, count__max_df=0.92, rf__max_depth=50, tfidf__norm=l2, rf__n_estimators=130, rf__max_features=sqrt, tfidf__use_idf=True, count__ngram_range=(1, 3), count__lowercase=True, count__max_features=1000 \n",
      "[CV]  count__stop_words=None, count__max_df=0.92, rf__max_depth=50, tfidf__norm=l2, rf__n_estimators=130, rf__max_features=sqrt, tfidf__use_idf=True, count__ngram_range=(1, 3), count__lowercase=True, count__max_features=1000 -   2.2s\n",
      "[CV] count__stop_words=None, count__max_df=0.92, rf__max_depth=50, tfidf__norm=l2, rf__n_estimators=130, rf__max_features=sqrt, tfidf__use_idf=True, count__ngram_range=(1, 3), count__lowercase=True, count__max_features=1000 \n",
      "[CV]  count__stop_words=None, count__max_df=0.92, rf__max_depth=50, tfidf__norm=l2, rf__n_estimators=130, rf__max_features=sqrt, tfidf__use_idf=True, count__ngram_range=(1, 3), count__lowercase=True, count__max_features=1000 -   2.4s\n",
      "[CV] count__stop_words=None, count__max_df=0.92, rf__max_depth=50, tfidf__norm=l2, rf__n_estimators=130, rf__max_features=sqrt, tfidf__use_idf=True, count__ngram_range=(1, 3), count__lowercase=True, count__max_features=1000 \n",
      "[CV]  count__stop_words=None, count__max_df=0.92, rf__max_depth=50, tfidf__norm=l2, rf__n_estimators=130, rf__max_features=sqrt, tfidf__use_idf=True, count__ngram_range=(1, 3), count__lowercase=True, count__max_features=1000 -   2.2s\n",
      "[CV] count__stop_words=None, count__max_df=0.92, rf__max_depth=50, tfidf__norm=l2, rf__n_estimators=150, rf__max_features=sqrt, tfidf__use_idf=True, count__ngram_range=(1, 3), count__lowercase=True, count__max_features=1000 \n",
      "[CV]  count__stop_words=None, count__max_df=0.92, rf__max_depth=50, tfidf__norm=l2, rf__n_estimators=150, rf__max_features=sqrt, tfidf__use_idf=True, count__ngram_range=(1, 3), count__lowercase=True, count__max_features=1000 -   2.3s\n",
      "[CV] count__stop_words=None, count__max_df=0.92, rf__max_depth=50, tfidf__norm=l2, rf__n_estimators=150, rf__max_features=sqrt, tfidf__use_idf=True, count__ngram_range=(1, 3), count__lowercase=True, count__max_features=1000 \n",
      "[CV]  count__stop_words=None, count__max_df=0.92, rf__max_depth=50, tfidf__norm=l2, rf__n_estimators=150, rf__max_features=sqrt, tfidf__use_idf=True, count__ngram_range=(1, 3), count__lowercase=True, count__max_features=1000 -   2.4s\n",
      "[CV] count__stop_words=None, count__max_df=0.92, rf__max_depth=50, tfidf__norm=l2, rf__n_estimators=150, rf__max_features=sqrt, tfidf__use_idf=True, count__ngram_range=(1, 3), count__lowercase=True, count__max_features=1000 \n",
      "[CV]  count__stop_words=None, count__max_df=0.92, rf__max_depth=50, tfidf__norm=l2, rf__n_estimators=150, rf__max_features=sqrt, tfidf__use_idf=True, count__ngram_range=(1, 3), count__lowercase=True, count__max_features=1000 -   2.4s\n",
      "[CV] count__stop_words=None, count__max_df=0.92, rf__max_depth=50, tfidf__norm=l2, rf__n_estimators=200, rf__max_features=sqrt, tfidf__use_idf=True, count__ngram_range=(1, 3), count__lowercase=True, count__max_features=1000 \n",
      "[CV]  count__stop_words=None, count__max_df=0.92, rf__max_depth=50, tfidf__norm=l2, rf__n_estimators=200, rf__max_features=sqrt, tfidf__use_idf=True, count__ngram_range=(1, 3), count__lowercase=True, count__max_features=1000 -   2.6s\n",
      "[CV] count__stop_words=None, count__max_df=0.92, rf__max_depth=50, tfidf__norm=l2, rf__n_estimators=200, rf__max_features=sqrt, tfidf__use_idf=True, count__ngram_range=(1, 3), count__lowercase=True, count__max_features=1000 \n",
      "[CV]  count__stop_words=None, count__max_df=0.92, rf__max_depth=50, tfidf__norm=l2, rf__n_estimators=200, rf__max_features=sqrt, tfidf__use_idf=True, count__ngram_range=(1, 3), count__lowercase=True, count__max_features=1000 -   2.7s\n",
      "[CV] count__stop_words=None, count__max_df=0.92, rf__max_depth=50, tfidf__norm=l2, rf__n_estimators=200, rf__max_features=sqrt, tfidf__use_idf=True, count__ngram_range=(1, 3), count__lowercase=True, count__max_features=1000 \n",
      "[CV]  count__stop_words=None, count__max_df=0.92, rf__max_depth=50, tfidf__norm=l2, rf__n_estimators=200, rf__max_features=sqrt, tfidf__use_idf=True, count__ngram_range=(1, 3), count__lowercase=True, count__max_features=1000 -   2.6s"
     ]
    },
    {
     "name": "stderr",
     "output_type": "stream",
     "text": [
      "/Users/annalawson/.virtualenvs/health/lib/python2.7/site-packages/sklearn/cross_validation.py:516: Warning: The least populated class in y has only 1 members, which is too few. The minimum number of labels for any class cannot be less than n_folds=3.\n",
      "  % (min_labels, self.n_folds)), Warning)\n",
      "[Parallel(n_jobs=1)]: Done  30 out of  30 | elapsed:  1.2min finished\n"
     ]
    },
    {
     "name": "stdout",
     "output_type": "stream",
     "text": [
      "\n"
     ]
    }
   ],
   "source": [
    "param_grid = {\n",
    "    'count__ngram_range': [(1,3)],\n",
    "    'count__max_df' : [.92],\n",
    "    'count__stop_words': [None],\n",
    "    'count__lowercase' : [True],\n",
    "    'count__max_features': [1000],\n",
    "    'tfidf__use_idf' : [True],\n",
    "    'tfidf__norm': [('l2')],\n",
    "    'rf__n_estimators': [ 110, 120, 130, 150, 200],\n",
    "    'rf__max_depth' : [50],\n",
    "    'rf__max_features' : ['auto', 'sqrt']\n",
    "}\n",
    "tuning_results = parameter_search(train_data, pipeline, param_grid)"
   ]
  },
  {
   "cell_type": "markdown",
   "metadata": {},
   "source": [
    "With these results, we can see what the general distribution of classifcation results looked like"
   ]
  },
  {
   "cell_type": "code",
   "execution_count": null,
   "metadata": {
    "collapsed": false
   },
   "outputs": [],
   "source": []
  },
  {
   "cell_type": "code",
   "execution_count": null,
   "metadata": {
    "collapsed": true
   },
   "outputs": [],
   "source": []
  },
  {
   "cell_type": "code",
   "execution_count": 14,
   "metadata": {
    "collapsed": false,
    "scrolled": false
   },
   "outputs": [
    {
     "data": {
      "image/png": "[encoded data removed]",
      "text/plain": [
       "<matplotlib.figure.Figure at 0x104c18290>"
      ]
     },
     "metadata": {},
     "output_type": "display_data"
    }
   ],
   "source": [
    "scores = [r.mean_validation_score for r in tuning_results.grid_scores_]        \n",
    "plot_histo(scores,\n",
    "           title=\"Cross Validated Parameter Search Scores\",\n",
    "           xlabel=\"Roc Auc Score\")\n",
    "\n"
   ]
  },
  {
   "cell_type": "code",
   "execution_count": 15,
   "metadata": {
    "collapsed": false
   },
   "outputs": [
    {
     "data": {
      "image/png": "[encoded data removed]",
      "text/plain": [
       "<matplotlib.figure.Figure at 0x10794ad10>"
      ]
     },
     "metadata": {},
     "output_type": "display_data"
    }
   ],
   "source": [
    "ngram_range = [r.parameters['count__ngram_range'] for r in tuning_results.grid_scores_]\n",
    "plt.plot(ngram_range, scores, 'ro')\n",
    "plt.axis([.75, 3.5, .5, .86])\n",
    "plt.show()"
   ]
  },
  {
   "cell_type": "code",
   "execution_count": 16,
   "metadata": {
    "collapsed": false,
    "scrolled": false
   },
   "outputs": [
    {
     "data": {
      "image/png": "[encoded data removed]",
      "text/plain": [
       "<matplotlib.figure.Figure at 0x10937f890>"
      ]
     },
     "metadata": {},
     "output_type": "display_data"
    }
   ],
   "source": [
    "##max_df\n",
    "max_df = [r.parameters['count__max_df'] for r in tuning_results.grid_scores_]\n",
    "##for i in range(len(num_trees)):\n",
    "  ##  if num_trees[i] == 'linear':      \n",
    "    ##    num_trees[i] = 0\n",
    "    ##else:\n",
    "      #  num_trees[i] = 1\n",
    "plt.plot(max_df, scores, 'ro')\n",
    "plt.axis([.75, 1.1, .4, .86])\n",
    "plt.show()"
   ]
  },
  {
   "cell_type": "code",
   "execution_count": 17,
   "metadata": {
    "collapsed": false
   },
   "outputs": [
    {
     "data": {
      "image/png": "[encoded data removed]",
      "text/plain": [
       "<matplotlib.figure.Figure at 0x10931b0d0>"
      ]
     },
     "metadata": {},
     "output_type": "display_data"
    }
   ],
   "source": [
    "##min_df\n",
    "s_words = [r.parameters['count__stop_words'] for r in tuning_results.grid_scores_]\n",
    "for i in range(len(s_words)):\n",
    "    if s_words[i] == None:      \n",
    "        s_words[i] = 0\n",
    "    else:\n",
    "        s_words[i] = 1\n",
    "plt.plot(s_words, scores, 'ro')\n",
    "plt.axis([-.2, 1.2, .35, .9])\n",
    "plt.show()"
   ]
  },
  {
   "cell_type": "code",
   "execution_count": 18,
   "metadata": {
    "collapsed": false
   },
   "outputs": [
    {
     "data": {
      "image/png": "[encoded data removed]",
      "text/plain": [
       "<matplotlib.figure.Figure at 0x107920150>"
      ]
     },
     "metadata": {},
     "output_type": "display_data"
    }
   ],
   "source": [
    "##Lowercase\n",
    "case = [r.parameters['count__lowercase'] for r in tuning_results.grid_scores_]\n",
    "for i in range(len(case)):\n",
    "    if case[i] == False:      \n",
    "        case[i] = 0\n",
    "    else:\n",
    "        case[i] = 1\n",
    "plt.plot(case, scores, 'ro')\n",
    "plt.axis([-.2, 1.2, .7, .9])\n",
    "plt.show()"
   ]
  },
  {
   "cell_type": "code",
   "execution_count": 19,
   "metadata": {
    "collapsed": false
   },
   "outputs": [
    {
     "data": {
      "image/png": "[encoded data removed]",
      "text/plain": [
       "<matplotlib.figure.Figure at 0x109357e10>"
      ]
     },
     "metadata": {},
     "output_type": "display_data"
    }
   ],
   "source": [
    "##Max Features\n",
    "max_ft = [r.parameters['count__max_features'] for r in tuning_results.grid_scores_]\n",
    "for i in range(len(max_ft)):\n",
    "    if max_ft[i] == None: \n",
    "        max_ft[i] = 0\n",
    "\n",
    "plt.plot(max_ft, scores, 'ro')\n",
    "plt.axis([-5, 1005, .45, .8])\n",
    "plt.show()"
   ]
  },
  {
   "cell_type": "markdown",
   "metadata": {},
   "source": []
  },
  {
   "cell_type": "code",
   "execution_count": 20,
   "metadata": {
    "collapsed": false
   },
   "outputs": [
    {
     "data": {
      "image/png": "[encoded data removed]",
      "text/plain": [
       "<matplotlib.figure.Figure at 0x109318610>"
      ]
     },
     "metadata": {},
     "output_type": "display_data"
    }
   ],
   "source": [
    "##Use_IDF\n",
    "use_idf = [r.parameters['tfidf__use_idf'] for r in tuning_results.grid_scores_]\n",
    "for i in range(len(use_idf)):\n",
    "    if use_idf[i] == False: \n",
    "        use_idf[i] = 0\n",
    "    else:\n",
    "        use_idf[i] = 1\n",
    "\n",
    "plt.plot(use_idf, scores, 'ro')\n",
    "plt.axis([-.5, 1.5, .35, .86])\n",
    "plt.show()"
   ]
  },
  {
   "cell_type": "code",
   "execution_count": 21,
   "metadata": {
    "collapsed": false,
    "scrolled": false
   },
   "outputs": [
    {
     "data": {
      "image/png": "[encoded data removed]",
      "text/plain": [
       "<matplotlib.figure.Figure at 0x107953d10>"
      ]
     },
     "metadata": {},
     "output_type": "display_data"
    }
   ],
   "source": [
    "##Norm\n",
    "norm = [r.parameters['tfidf__norm'] for r in tuning_results.grid_scores_]\n",
    "for i in range(len(norm)):\n",
    "    if norm[i] == None:      \n",
    "        norm[i] = 0\n",
    "    elif norm[i] == 'l2':\n",
    "        norm[i] = 1\n",
    "    else:\n",
    "        norm[i] = 2\n",
    "plt.plot(norm, scores, 'ro')\n",
    "plt.axis([-.5, 1.5, .4, .86])\n",
    "plt.show()"
   ]
  },
  {
   "cell_type": "code",
   "execution_count": 22,
   "metadata": {
    "collapsed": false
   },
   "outputs": [
    {
     "data": {
      "image/png": "[encoded data removed]",
      "text/plain": [
       "<matplotlib.figure.Figure at 0x109238810>"
      ]
     },
     "metadata": {},
     "output_type": "display_data"
    }
   ],
   "source": [
    "##N Estimators\n",
    "c = [r.parameters['rf__n_estimators'] for r in tuning_results.grid_scores_]\n",
    "plt.plot(c, scores, 'ro')\n",
    "plt.axis([100, 225, .4, .86])\n",
    "plt.show()"
   ]
  },
  {
   "cell_type": "code",
   "execution_count": 23,
   "metadata": {
    "collapsed": false
   },
   "outputs": [
    {
     "data": {
      "image/png": "[encoded data removed]",
      "text/plain": [
       "<matplotlib.figure.Figure at 0x107f4e350>"
      ]
     },
     "metadata": {},
     "output_type": "display_data"
    }
   ],
   "source": [
    "##Max Depth\n",
    "dual = [r.parameters['rf__max_depth'] for r in tuning_results.grid_scores_]\n",
    "\n",
    "plt.plot(dual, scores, 'ro')\n",
    "plt.axis([-.5, 105, .35, .85])\n",
    "plt.show()"
   ]
  },
  {
   "cell_type": "code",
   "execution_count": 24,
   "metadata": {
    "collapsed": false
   },
   "outputs": [
    {
     "data": {
      "image/png": "[encoded data removed]",
      "text/plain": [
       "<matplotlib.figure.Figure at 0x107f66b10>"
      ]
     },
     "metadata": {},
     "output_type": "display_data"
    }
   ],
   "source": [
    "##Max Features\n",
    "f_int = [r.parameters['rf__max_features'] for r in tuning_results.grid_scores_]\n",
    "for i in range (len(f_int)):\n",
    "    if f_int[i] == 'auto':\n",
    "        f_int[i] = 0\n",
    "    elif f_int[i] == 'sqrt':\n",
    "        f_int[i] = 1\n",
    "    else:\n",
    "        f_int[i] = 2\n",
    "plt.plot(f_int, scores, 'ro')\n",
    "plt.axis([-.5, 3, .35, .85])\n",
    "plt.show()"
   ]
  },
  {
   "cell_type": "code",
   "execution_count": 25,
   "metadata": {
    "collapsed": false,
    "scrolled": false
   },
   "outputs": [
    {
     "name": "stdout",
     "output_type": "stream",
     "text": [
      "GRID SEARCH SCORE: 0.8010\n",
      "TRAIN SCORE: 1.0000\n",
      "TEST SCORE: 0.9004\n",
      "{'count__stop_words': None, 'count__max_df': 0.92, 'rf__max_depth': 50, 'tfidf__norm': 'l2', 'rf__n_estimators': 200, 'rf__max_features': 'auto', 'tfidf__use_idf': True, 'count__ngram_range': (1, 3), 'count__lowercase': True, 'count__max_features': 1000}\n",
      "*****************\n",
      "GRID SEARCH SCORE: 0.8010\n",
      "TRAIN SCORE: 1.0000\n",
      "TEST SCORE: 0.9004\n",
      "{'count__stop_words': None, 'count__max_df': 0.92, 'rf__max_depth': 50, 'tfidf__norm': 'l2', 'rf__n_estimators': 200, 'rf__max_features': 'sqrt', 'tfidf__use_idf': True, 'count__ngram_range': (1, 3), 'count__lowercase': True, 'count__max_features': 1000}\n",
      "*****************\n",
      "GRID SEARCH SCORE: 0.7986\n",
      "TRAIN SCORE: 1.0000\n",
      "TEST SCORE: 0.8988\n",
      "{'count__stop_words': None, 'count__max_df': 0.92, 'rf__max_depth': 50, 'tfidf__norm': 'l2', 'rf__n_estimators': 150, 'rf__max_features': 'auto', 'tfidf__use_idf': True, 'count__ngram_range': (1, 3), 'count__lowercase': True, 'count__max_features': 1000}\n",
      "*****************\n"
     ]
    }
   ],
   "source": [
    "plt.rcParams['figure.figsize'] = (6,7)\n",
    "topk = 3\n",
    "ranked_results = sorted(tuning_results.grid_scores_, key=lambda x:x.mean_validation_score, reverse=True)\n",
    "best_score = 1 ## 1 is highest\n",
    "best_index = 0\n",
    "best_params = None\n",
    "for i, result in enumerate(ranked_results[:topk]):\n",
    "    params = result.parameters\n",
    "    pipeline.set_params(**params).fit(train_data['x'], train_data['y'])\n",
    "    train_preds = pipeline.predict_proba(train_data['x'])\n",
    "    test_preds = pipeline.predict_proba(test_data['x'])\n",
    "    \n",
    "    train_pred_arr = np.array(train_preds)\n",
    "    train_preds_pos_column = train_pred_arr[:,1]\n",
    "    \n",
    "    test_pred_arr = np.array(test_preds)\n",
    "    test_preds_pos_column = test_pred_arr[:,1]\n",
    "\n",
    "    print \"GRID SEARCH SCORE: %0.4f\" % result.mean_validation_score\n",
    "    print \"TRAIN SCORE: %0.4f\" % metrics.roc_auc_score(train_data['y'], train_preds_pos_column, average='micro')\n",
    "    test_score = metrics.roc_auc_score(test_data['y'], test_preds_pos_column, average='micro')\n",
    "    print \"TEST SCORE: %0.4f\" % test_score\n",
    "    print params\n",
    "    if test_score < best_score: \n",
    "        best_score=test_score\n",
    "        best_index = i\n",
    "        best_params = params\n",
    "    print '*****************'"
   ]
  },
  {
   "cell_type": "markdown",
   "metadata": {},
   "source": [
    "### Given the best test score, we can see what those parameters were, and save the model to a file if we want to use it later"
   ]
  },
  {
   "cell_type": "code",
   "execution_count": 26,
   "metadata": {
    "collapsed": false,
    "scrolled": true
   },
   "outputs": [
    {
     "name": "stdout",
     "output_type": "stream",
     "text": [
      "BEST TEST POSITIVE RECALL: 0.8988\n",
      "BEST MODEL PARAMS: {'count__stop_words': None, 'count__max_df': 0.92, 'rf__max_depth': 50, 'tfidf__norm': 'l2', 'rf__n_estimators': 150, 'rf__max_features': 'auto', 'tfidf__use_idf': True, 'count__ngram_range': (1, 3), 'count__lowercase': True, 'count__max_features': 1000}\n"
     ]
    }
   ],
   "source": [
    "best = ranked_results[best_index]\n",
    "print \"BEST TEST POSITIVE RECALL: %0.4f\" % best_score\n",
    "print \"BEST MODEL PARAMS: %r\" % best_params\n",
    "model = pipeline.set_params(**best_params).fit(data['x'], data['y'])"
   ]
  },
  {
   "cell_type": "code",
   "execution_count": 27,
   "metadata": {
    "collapsed": false
   },
   "outputs": [
    {
     "name": "stdout",
     "output_type": "stream",
     "text": [
      "[(u'10', 0), (u'15', 1), (u'20', 2), (u'30', 3), (u'34', 4), (u'39', 5), (u'39 not', 6), (u'39 re', 7), (u'39 ve', 8), (u'able', 9), (u'able to', 10), (u'about', 11), (u'about it', 12), (u'about the', 13), (u'about this', 14), (u'absolutely', 15), (u'actually', 16), (u'add', 17), (u'after', 18), (u'after eating', 19), (u'again', 20), (u'ago', 21), (u'all', 22), (u'all of', 23), (u'all the', 24), (u'almost', 25), (u'already', 26), (u'also', 27), (u'although', 28), (u'always', 29), (u'am', 30), (u'amazing', 31), (u'amount', 32), (u'an', 33), (u'an hour', 34), (u'and', 35), (u'and all', 36), (u'and got', 37), (u'and had', 38), (u'and have', 39), (u'and he', 40), (u'and it', 41), (u'and it was', 42), (u'and my', 43), (u'and not', 44), (u'and that', 45), (u'and the', 46), (u'and then', 47), (u'and they', 48), (u'and this', 49), (u'and was', 50), (u'and we', 51), (u'and were', 52), (u'and you', 53), (u'another', 54), (u'any', 55), (u'anyone', 56), (u'anything', 57), (u'anyway', 58), (u'appetizers', 59), (u'are', 60), (u'are not', 61), (u'area', 62), (u'around', 63), (u'as', 64), (u'as the', 65), (u'as well', 66), (u'ask', 67), (u'asked', 68), (u'asked for', 69), (u'at', 70), (u'at all', 71), (u'at least', 72), (u'at the', 73), (u'at this', 74), (u'ate', 75), (u'atmosphere', 76), (u'average', 77), (u'avoid', 78), (u'away', 79), (u'awesome', 80), (u'awful', 81), (u'back', 82), (u'back to', 83), (u'bacon', 84), (u'bad', 85), (u'bar', 86), (u'barely', 87), (u'basically', 88), (u'bathroom', 89), (u'be', 90), (u'because', 91), (u'because it', 92), (u'because of', 93), (u'because the', 94), (u'because they', 95), (u'beef', 96), (u'been', 97), (u'beer', 98), (u'before', 99), (u'being', 100), (u'believe', 101), (u'best', 102), (u'better', 103), (u'big', 104), (u'bill', 105), (u'birthday', 106), (u'bit', 107), (u'bite', 108), (u'bites', 109), (u'bland', 110), (u'both', 111), (u'bowl', 112), (u'boyfriend', 113), (u'bread', 114), (u'bring', 115), (u'brought', 116), (u'brunch', 117), (u'burger', 118), (u'burgers', 119), (u'business', 120), (u'busy', 121), (u'but', 122), (u'but it', 123), (u'but it was', 124), (u'but not', 125), (u'but the', 126), (u'but they', 127), (u'but this', 128), (u'but was', 129), (u'but we', 130), (u'butter', 131), (u'by', 132), (u'by the', 133), (u'cake', 134), (u'call', 135), (u'called', 136), (u'came', 137), (u'came here', 138), (u'came out', 139), (u'came with', 140), (u'can', 141), (u'care', 142), (u'case', 143), (u'cheap', 144), (u'check', 145), (u'cheese', 146), (u'chef', 147), (u'chicken', 148), (u'chicken and', 149), (u'chinese', 150), (u'chocolate', 151), (u'city', 152), (u'clean', 153), (u'closed', 154), (u'coffee', 155), (u'cold', 156), (u'come', 157), (u'come back', 158), (u'come here', 159), (u'comes', 160), (u'coming', 161), (u'completely', 162), (u'cooked', 163), (u'cool', 164), (u'could', 165), (u'couldn', 166), (u'counter', 167), (u'couple', 168), (u'couple of', 169), (u'course', 170), (u'cream', 171), (u'crispy', 172), (u'customer', 173), (u'customers', 174), (u'day', 175), (u'day and', 176), (u'days', 177), (u'deal', 178), (u'decent', 179), (u'decided', 180), (u'decided to', 181), (u'definitely', 182), (u'delicious', 183), (u'delivery', 184), (u'dessert', 185), (u'diarrhea', 186), (u'did', 187), (u'did not', 188), (u'didn', 189), (u'didn 39', 190), (u'different', 191), (u'diner', 192), (u'dining', 193), (u'dinner', 194), (u'dirty', 195), (u'disappointed', 196), (u'disgusting', 197), (u'dish', 198), (u'dishes', 199), (u'do', 200), (u'do not', 201), (u'does', 202), (u'doesn', 203), (u'doing', 204), (u'don', 205), (u'don 39', 206), (u'don know', 207), (u'done', 208), (u'door', 209), (u'down', 210), (u'drink', 211), (u'drinks', 212), (u'dry', 213), (u'dumplings', 214), (u'during', 215), (u'each', 216), (u'eat', 217), (u'eat here', 218), (u'eaten', 219), (u'eating', 220), (u'eating here', 221), (u'eating it', 222), (u'egg', 223), (u'eggs', 224), (u'either', 225), (u'else', 226), (u'end', 227), (u'ended', 228), (u'ended up', 229), (u'enjoy', 230), (u'enjoyed', 231), (u'enough', 232), (u'entire', 233), (u'especially', 234), (u'establishment', 235), (u'etc', 236), (u'even', 237), (u'even though', 238), (u'evening', 239), (u'ever', 240), (u'ever had', 241), (u'every', 242), (u'everyone', 243), (u'everything', 244), (u'excellent', 245), (u'excited', 246), (u'expect', 247), (u'expensive', 248), (u'experience', 249), (u'extra', 250), (u'extremely', 251), (u'fact', 252), (u'fact that', 253), (u'family', 254), (u'far', 255), (u'fast', 256), (u'fat', 257), (u'favorite', 258), (u'feel', 259), (u'feel sick', 260), (u'feeling', 261), (u'felt', 262), (u'few', 263), (u'finally', 264), (u'find', 265), (u'fine', 266), (u'first', 267), (u'first time', 268), (u'fish', 269), (u'five', 270), (u'flavor', 271), (u'flavors', 272), (u'flies', 273), (u'food', 274), (u'food and', 275), (u'food is', 276), (u'food poisoning', 277), (u'food poisoning from', 278), (u'food was', 279), (u'for', 280), (u'for dinner', 281), (u'for it', 282), (u'for me', 283), (u'for my', 284), (u'for the', 285), (u'for this', 286), (u'found', 287), (u'four', 288), (u'free', 289), (u'french', 290), (u'fresh', 291), (u'fried', 292), (u'friend', 293), (u'friend and', 294), (u'friendly', 295), (u'friends', 296), (u'fries', 297), (u'from', 298), (u'from here', 299), (u'from the', 300), (u'from this', 301), (u'from this place', 302), (u'front', 303), (u'full', 304), (u'fun', 305), (u'gave', 306), (u'gave me', 307), (u'get', 308), (u'get sick', 309), (u'get the', 310), (u'gets', 311), (u'getting', 312), (u'girl', 313), (u'girlfriend', 314), (u'give', 315), (u'give it', 316), (u'given', 317), (u'giving', 318), (u'gluten', 319), (u'go', 320), (u'go back', 321), (u'go to', 322), (u'going', 323), (u'going to', 324), (u'gone', 325), (u'good', 326), (u'good and', 327), (u'good but', 328), (u'got', 329), (u'got food', 330), (u'got food poisoning', 331), (u'got sick', 332), (u'got the', 333), (u'gotten', 334), (u'greasy', 335), (u'great', 336), (u'green', 337), (u'gross', 338), (u'group', 339), (u'guess', 340), (u'guy', 341), (u'guys', 342), (u'had', 343), (u'had the', 344), (u'had to', 345), (u'half', 346), (u'hands', 347), (u'happened', 348), (u'happy', 349), (u'hard', 350), (u'hard to', 351), (u'has', 352), (u'have', 353), (u'have been', 354), (u'have ever', 355), (u'have to', 356), (u'having', 357), (u'he', 358), (u'he was', 359), (u'health', 360), (u'her', 361), (u'here', 362), (u'here again', 363), (u'here and', 364), (u'here for', 365), (u'here is', 366), (u'high', 367), (u'him', 368), (u'his', 369), (u'home', 370), (u'honestly', 371), (u'hope', 372), (u'horrible', 373), (u'hot', 374), (u'hour', 375), (u'hours', 376), (u'house', 377), (u'how', 378), (u'however', 379), (u'huge', 380), (u'husband', 381), (u'ice', 382), (u'ice cream', 383), (u'idea', 384), (u'if', 385), (u'if it', 386), (u'if they', 387), (u'if you', 388), (u'if you are', 389), (u'if you re', 390), (u'ill', 391), (u'immediately', 392), (u'in', 393), (u'in it', 394), (u'in my', 395), (u'in nyc', 396), (u'in the', 397), (u'in this', 398), (u'inside', 399), (u'instead', 400), (u'into', 401), (u'into the', 402), (u'is', 403), (u'is good', 404), (u'is great', 405), (u'is not', 406), (u'is that', 407), (u'is the', 408), (u'is very', 409), (u'isn', 410), (u'it', 411), (u'it 39', 412), (u'it and', 413), (u'it but', 414), (u'it had', 415), (u'it is', 416), (u'it tasted', 417), (u'it the', 418), (u'it to', 419), (u'it was', 420), (u'it was just', 421), (u'it was the', 422), (u'it wasn', 423), (u'it would', 424), (u'items', 425), (u'its', 426), (u'itself', 427), (u'juice', 428), (u'just', 429), (u'keep', 430), (u'kind', 431), (u'kind of', 432), (u'kitchen', 433), (u'knew', 434), (u'know', 435), (u'know what', 436), (u'large', 437), (u'last', 438), (u'last night', 439), (u'late', 440), (u'later', 441), (u'least', 442), (u'leave', 443), (u'left', 444), (u'less', 445), (u'let', 446), (u'life', 447), (u'like', 448), (u'like it', 449), (u'like the', 450), (u'liked', 451), (u'line', 452), (u'literally', 453), (u'little', 454), (u'live', 455), (u'll', 456), (u'location', 457), (u'long', 458), (u'look', 459), (u'looked', 460), (u'looking', 461), (u'looks', 462), (u'lot', 463), (u'lot of', 464), (u'love', 465), (u'loved', 466), (u'lunch', 467), (u'made', 468), (u'made me', 469), (u'made me sick', 470), (u'make', 471), (u'makes', 472), (u'making', 473), (u'man', 474), (u'manager', 475), (u'many', 476), (u'may', 477), (u'maybe', 478), (u'me', 479), (u'me and', 480), (u'me sick', 481), (u'me to', 482), (u'meal', 483), (u'mean', 484), (u'meat', 485), (u'mediocre', 486), (u'menu', 487), (u'mexican', 488), (u'middle', 489), (u'might', 490), (u'milk', 491), (u'mind', 492), (u'minutes', 493), (u'mistake', 494), (u'money', 495), (u'months', 496), (u'more', 497), (u'more than', 498), (u'morning', 499), (u'most', 500), (u'much', 501), (u'music', 502), (u'must', 503), (u'my', 504), (u'my boyfriend', 505), (u'my favorite', 506), (u'my first', 507), (u'my food', 508), (u'my friend', 509), (u'my friend and', 510), (u'my friends', 511), (u'my husband', 512), (u'my life', 513), (u'my order', 514), (u'my stomach', 515), (u'myself', 516), (u'name', 517), (u'need', 518), (u'need to', 519), (u'needed', 520), (u'neighborhood', 521), (u'never', 522), (u'never again', 523), (u'new', 524), (u'next', 525), (u'next day', 526), (u'nice', 527), (u'night', 528), (u'night and', 529), (u'no', 530), (u'non', 531), (u'noodles', 532), (u'not', 533), (u'not be', 534), (u'not only', 535), (u'not sure', 536), (u'not the', 537), (u'not to', 538), (u'nothing', 539), (u'noticed', 540), (u'now', 541), (u'nyc', 542), (u'of', 543), (u'of food', 544), (u'of food poisoning', 545), (u'of it', 546), (u'of my', 547), (u'of the', 548), (u'of their', 549), (u'of this', 550), (u'of us', 551), (u'off', 552), (u'offered', 553), (u'often', 554), (u'oh', 555), (u'oil', 556), (u'ok', 557), (u'okay', 558), (u'old', 559), (u'on', 560), (u'on my', 561), (u'on the', 562), (u'on top', 563), (u'once', 564), (u'one', 565), (u'one of', 566), (u'one of the', 567), (u'only', 568), (u'open', 569), (u'opened', 570), (u'options', 571), (u'or', 572), (u'order', 573), (u'order from', 574), (u'order the', 575), (u'ordered', 576), (u'ordered the', 577), (u'ordering', 578), (u'orders', 579), (u'other', 580), (u'our', 581), (u'our food', 582), (u'out', 583), (u'out of', 584), (u'out the', 585), (u'outside', 586), (u'over', 587), (u'over the', 588), (u'overall', 589), (u'own', 590), (u'owner', 591), (u'paid', 592), (u'part', 593), (u'party', 594), (u'pasta', 595), (u'pay', 596), (u'people', 597), (u'perfect', 598), (u'person', 599), (u'phone', 600), (u'pie', 601), (u'pieces', 602), (u'pieces of', 603), (u'pizza', 604), (u'place', 605), (u'place is', 606), (u'place to', 607), (u'place was', 608), (u'places', 609), (u'plate', 610), (u'please', 611), (u'plus', 612), (u'point', 613), (u'poisoning', 614), (u'poisoning from', 615), (u'poor', 616), (u'pork', 617), (u'pretty', 618), (u'pretty good', 619), (u'price', 620), (u'prices', 621), (u'probably', 622), (u'problem', 623), (u'put', 624), (u'quality', 625), (u'quickly', 626), (u'quite', 627), (u'ramen', 628), (u'rather', 629), (u'rating', 630), (u'raw', 631), (u're', 632), (u'real', 633), (u'really', 634), (u'reason', 635), (u'recommend', 636), (u'red', 637), (u'regular', 638), (u'remember', 639), (u'rest', 640), (u'rest of', 641), (u'restaurant', 642), (u'restaurants', 643), (u'return', 644), (u'review', 645), (u'reviews', 646), (u'rice', 647), (u'right', 648), (u'roll', 649), (u'rolls', 650), (u'room', 651), (u'rude', 652), (u'sad', 653), (u'said', 654), (u'salad', 655), (u'salmon', 656), (u'salty', 657), (u'same', 658), (u'sandwich', 659), (u'sat', 660), (u'saturday', 661), (u'sauce', 662), (u'saw', 663), (u'say', 664), (u'saying', 665), (u'seafood', 666), (u'seated', 667), (u'second', 668), (u'see', 669), (u'seemed', 670), (u'seems', 671), (u'seen', 672), (u'selection', 673), (u'seriously', 674), (u'serve', 675), (u'served', 676), (u'server', 677), (u'service', 678), (u'service is', 679), (u'service was', 680), (u'several', 681), (u'she', 682), (u'she was', 683), (u'should', 684), (u'should be', 685), (u'should have', 686), (u'shrimp', 687), (u'sick', 688), (u'sick after', 689), (u'sick after eating', 690), (u'sick and', 691), (u'sick from', 692), (u'sick of', 693), (u'sick to', 694), (u'side', 695), (u'simple', 696), (u'since', 697), (u'sit', 698), (u'sitting', 699), (u'small', 700), (u'smell', 701), (u'so', 702), (u'so many', 703), (u'so we', 704), (u'soggy', 705), (u'some', 706), (u'some of', 707), (u'someone', 708), (u'something', 709), (u'soon', 710), (u'sorry', 711), (u'soup', 712), (u'sour', 713), (u'special', 714), (u'spent', 715), (u'spicy', 716), (u'spot', 717), (u'staff', 718), (u'star', 719), (u'stars', 720), (u'start', 721), (u'started', 722), (u'stay', 723), (u'stay away', 724), (u'steak', 725), (u'still', 726), (u'stomach', 727), (u'stop', 728), (u'store', 729), (u'street', 730), (u'stuff', 731), (u'such', 732), (u'sunday', 733), (u'super', 734), (u'sure', 735), (u'sushi', 736), (u'sweet', 737), (u'table', 738), (u'tables', 739), (u'tacos', 740), (u'take', 741), (u'taste', 742), (u'tasted', 743), (u'tasted like', 744), (u'tastes', 745), (u'tasty', 746), (u'tea', 747), (u'tell', 748), (u'terrible', 749), (u'thai', 750), (u'than', 751), (u'that', 752), (u'that 39', 753), (u'that is', 754), (u'that it', 755), (u'that my', 756), (u'that night', 757), (u'that the', 758), (u'that they', 759), (u'that was', 760), (u'that we', 761), (u'the area', 762), (u'the bar', 763), (u'the bathroom', 764), (u'the best', 765), (u'the burger', 766), (u'the chicken', 767), (u'the city', 768), (u'the day', 769), (u'the fact', 770), (u'the fact that', 771), (u'the first', 772), (u'the first time', 773), (u'the fish', 774), (u'the food', 775), (u'the food is', 776), (u'the food was', 777), (u'the last', 778), (u'the manager', 779), (u'the meal', 780), (u'the meat', 781), (u'the menu', 782), (u'the most', 783), (u'the next', 784), (u'the next day', 785), (u'the night', 786), (u'the only', 787), (u'the other', 788), (u'the owner', 789), (u'the people', 790), (u'the place', 791), (u'the pork', 792), (u'the price', 793), (u'the rest', 794), (u'the rest of', 795), (u'the restaurant', 796), (u'the same', 797), (u'the service', 798), (u'the service was', 799), (u'the staff', 800), (u'the table', 801), (u'the time', 802), (u'the waiter', 803), (u'the waitress', 804), (u'the way', 805), (u'the worst', 806), (u'their', 807), (u'their food', 808), (u'them', 809), (u'them to', 810), (u'then', 811), (u'there', 812), (u'there are', 813), (u'there is', 814), (u'there was', 815), (u'there were', 816), (u'these', 817), (u'they', 818), (u'they are', 819), (u'they had', 820), (u'they have', 821), (u'they re', 822), (u'they were', 823), (u'thing', 824), (u'things', 825), (u'think', 826), (u'this', 827), (u'this is', 828), (u'this is the', 829), (u'this place', 830), (u'this place is', 831), (u'this restaurant', 832), (u'this was', 833), (u'those', 834), (u'though', 835), (u'thought', 836), (u'three', 837), (u'threw', 838), (u'through', 839), (u'time', 840), (u'times', 841), (u'tip', 842), (u'to', 843), (u'to ask', 844), (u'to be', 845), (u'to come', 846), (u'to do', 847), (u'to eat', 848), (u'to find', 849), (u'to get', 850), (u'to give', 851), (u'to go', 852), (u'to have', 853), (u'to make', 854), (u'to me', 855), (u'to my', 856), (u'to order', 857), (u'to say', 858), (u'to take', 859), (u'to the', 860), (u'to this', 861), (u'to try', 862), (u'today', 863), (u'told', 864), (u'tomato', 865), (u'too', 866), (u'too much', 867), (u'took', 868), (u'top', 869), (u'totally', 870), (u'tried', 871), (u'try', 872), (u'trying', 873), (u'trying to', 874), (u'tuna', 875), (u'twice', 876), (u'two', 877), (u'type', 878), (u'under', 879), (u'understand', 880), (u'unfortunately', 881), (u'unless', 882), (u'until', 883), (u'up', 884), (u'up the', 885), (u'up to', 886), (u'up with', 887), (u'us', 888), (u'use', 889), (u'used', 890), (u'used to', 891), (u'usually', 892), (u've', 893), (u've been', 894), (u've had', 895), (u'very', 896), (u'very good', 897), (u'visit', 898), (u'vomiting', 899), (u'wait', 900), (u'waiter', 901), (u'waiting', 902), (u'waitress', 903), (u'walk', 904), (u'walked', 905), (u'want', 906), (u'want to', 907), (u'wanted', 908), (u'wanted to', 909), (u'warm', 910), (u'was', 911), (u'was also', 912), (u'was good', 913), (u'was great', 914), (u'was just', 915), (u'was my', 916), (u'was not', 917), (u'was pretty', 918), (u'was really', 919), (u'was sick', 920), (u'was so', 921), (u'was the', 922), (u'was too', 923), (u'was very', 924), (u'wasn', 925), (u'wasn 39', 926), (u'water', 927), (u'way', 928), (u'we', 929), (u'we both', 930), (u'we didn', 931), (u'we got', 932), (u'we had', 933), (u'we ordered', 934), (u'we went', 935), (u'we were', 936), (u'week', 937), (u'weeks', 938), (u'weird', 939), (u'well', 940), (u'went', 941), (u'went to', 942), (u'were', 943), (u'were not', 944), (u'weren', 945), (u'what', 946), (u'what you', 947), (u'when', 948), (u'when it', 949), (u'when we', 950), (u'when you', 951), (u'where', 952), (u'which', 953), (u'which is', 954), (u'which was', 955), (u'while', 956), (u'white', 957), (u'who', 958), (u'whole', 959), (u'why', 960), (u'will', 961), (u'will be', 962), (u'will never', 963), (u'will not', 964), (u'wine', 965), (u'wings', 966), (u'wish', 967), (u'with', 968), (u'with my', 969), (u'with the', 970), (u'without', 971), (u'won', 972), (u'work', 973), (u'worst', 974), (u'worth', 975), (u'would', 976), (u'would be', 977), (u'would have', 978), (u'wouldn', 979), (u'write', 980), (u'wrong', 981), (u'year', 982), (u'years', 983), (u'yelp', 984), (u'yes', 985), (u'yet', 986), (u'you', 987), (u'you 39', 988), (u'you are', 989), (u'you can', 990), (u'you don', 991), (u'you get', 992), (u'you have', 993), (u'you ll', 994), (u'you re', 995), (u'you want', 996), (u'you will', 997), (u'your', 998), (u'yourself', 999)]\n"
     ]
    }
   ],
   "source": [
    "vocab = model.steps[0][1].vocabulary_\n",
    "import operator\n",
    "sorted_vocab = sorted(vocab.items(), key=operator.itemgetter(0))\n",
    "print sorted_vocab"
   ]
  },
  {
   "cell_type": "code",
   "execution_count": 28,
   "metadata": {
    "collapsed": false
   },
   "outputs": [
    {
     "ename": "AttributeError",
     "evalue": "'RandomForestClassifier' object has no attribute 'coef_'",
     "output_type": "error",
     "traceback": [
      "\u001b[0;31m---------------------------------------------------------------------------\u001b[0m",
      "\u001b[0;31mAttributeError\u001b[0m                            Traceback (most recent call last)",
      "\u001b[0;32m<ipython-input-28-8c84d826460a>\u001b[0m in \u001b[0;36m<module>\u001b[0;34m()\u001b[0m\n\u001b[0;32m----> 1\u001b[0;31m \u001b[0mcoefs\u001b[0m \u001b[0;34m=\u001b[0m \u001b[0mmodel\u001b[0m\u001b[0;34m.\u001b[0m\u001b[0msteps\u001b[0m\u001b[0;34m[\u001b[0m\u001b[0;36m2\u001b[0m\u001b[0;34m]\u001b[0m\u001b[0;34m[\u001b[0m\u001b[0;36m1\u001b[0m\u001b[0;34m]\u001b[0m\u001b[0;34m.\u001b[0m\u001b[0mcoef_\u001b[0m\u001b[0;34m\u001b[0m\u001b[0m\n\u001b[0m\u001b[1;32m      2\u001b[0m \u001b[0mcoefs\u001b[0m \u001b[0;34m=\u001b[0m \u001b[0mcoefs\u001b[0m\u001b[0;34m[\u001b[0m\u001b[0;36m0\u001b[0m\u001b[0;34m]\u001b[0m\u001b[0;34m\u001b[0m\u001b[0m\n\u001b[1;32m      3\u001b[0m \u001b[0mweighted_vocab\u001b[0m \u001b[0;34m=\u001b[0m \u001b[0mlist\u001b[0m\u001b[0;34m(\u001b[0m\u001b[0;34m)\u001b[0m\u001b[0;34m\u001b[0m\u001b[0m\n\u001b[1;32m      4\u001b[0m \u001b[0;32mfor\u001b[0m \u001b[0mi\u001b[0m \u001b[0;32min\u001b[0m \u001b[0mrange\u001b[0m\u001b[0;34m(\u001b[0m\u001b[0mlen\u001b[0m\u001b[0;34m(\u001b[0m\u001b[0mcoefs\u001b[0m\u001b[0;34m)\u001b[0m\u001b[0;34m)\u001b[0m\u001b[0;34m:\u001b[0m\u001b[0;34m\u001b[0m\u001b[0m\n\u001b[1;32m      5\u001b[0m       \u001b[0mweighted_vocab\u001b[0m\u001b[0;34m.\u001b[0m\u001b[0mappend\u001b[0m\u001b[0;34m(\u001b[0m\u001b[0;34m(\u001b[0m\u001b[0mcoefs\u001b[0m\u001b[0;34m[\u001b[0m\u001b[0mi\u001b[0m\u001b[0;34m]\u001b[0m\u001b[0;34m,\u001b[0m \u001b[0msorted_vocab\u001b[0m\u001b[0;34m[\u001b[0m\u001b[0mi\u001b[0m\u001b[0;34m]\u001b[0m\u001b[0;34m)\u001b[0m\u001b[0;34m)\u001b[0m\u001b[0;34m\u001b[0m\u001b[0m\n",
      "\u001b[0;31mAttributeError\u001b[0m: 'RandomForestClassifier' object has no attribute 'coef_'"
     ]
    }
   ],
   "source": [
    "coefs = model.steps[2][1].coef_\n",
    "coefs = coefs[0]\n",
    "weighted_vocab = list()\n",
    "for i in range(len(coefs)):\n",
    "      weighted_vocab.append((coefs[i], sorted_vocab[i]))\n",
    "weighted_vocab = sorted(weighted_vocab, key=operator.itemgetter(0), reverse=True)\n",
    "for i in range(100):\n",
    "    print weighted_vocab[i]"
   ]
  },
  {
   "cell_type": "code",
   "execution_count": 118,
   "metadata": {
    "collapsed": false
   },
   "outputs": [
    {
     "data": {
      "text/plain": [
       "['multiple_rf.pkl',\n",
       " 'multiple_rf.pkl_01.npy',\n",
       " 'multiple_rf.pkl_02.npy',\n",
       " 'multiple_rf.pkl_03.npy',\n",
       " 'multiple_rf.pkl_04.npy',\n",
       " 'multiple_rf.pkl_05.npy',\n",
       " 'multiple_rf.pkl_06.npy']"
      ]
     },
     "execution_count": 118,
     "metadata": {},
     "output_type": "execute_result"
    }
   ],
   "source": [
    "from sklearn.externals import joblib\n",
    "joblib.dump(model, 'log_reg_multiple_rf.pkl') "
   ]
  },
  {
   "cell_type": "markdown",
   "metadata": {},
   "source": [
    "Don't worry about why that has multiple files, just know to load the model later all of those files must be in the directory.\n",
    "\n",
    "But just refer to it with the original filename"
   ]
  },
  {
   "cell_type": "code",
   "execution_count": null,
   "metadata": {
    "collapsed": false,
    "scrolled": true
   },
   "outputs": [],
   "source": [
    "multiple = joblib.load('best_multiple_clf.pkl') \n",
    "preds = multiple.predict(data['x'])"
   ]
  },
  {
   "cell_type": "markdown",
   "metadata": {},
   "source": [
    "## This should give you a good setup to continue improving the models!\n",
    "\n",
    "Almost all of the info you need for using sci-kitlearn is in the online documentation (as well as a ton of practical tips and examples for how to do good ML in general).\n",
    "\n",
    "When it comes to plotting stuff, generally I just google \"matplotlib _what kind of plot I want_\" and someone has usually sdone like 95% of the work already :)\n",
    "\n",
    "Feel free to send me any questions you have and enjoy your new life in the [wonderful world of python](https://xkcd.com/353/)"
   ]
  }
 ],
 "metadata": {
  "kernelspec": {
   "display_name": "Python 2",
   "language": "python",
   "name": "python2"
  },
  "language_info": {
   "codemirror_mode": {
    "name": "ipython",
    "version": 2
   },
   "file_extension": ".py",
   "mimetype": "text/x-python",
   "name": "python",
   "nbconvert_exporter": "python",
   "pygments_lexer": "ipython2",
   "version": "2.7.5"
  }
 },
 "nbformat": 4,
 "nbformat_minor": 0
}
