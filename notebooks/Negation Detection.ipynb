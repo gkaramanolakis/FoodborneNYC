{
 "cells": [
  {
   "cell_type": "code",
   "execution_count": 1,
   "metadata": {
    "collapsed": false
   },
   "outputs": [],
   "source": [
    "from spacy.en import English\n",
    "parser = English()"
   ]
  },
  {
   "cell_type": "code",
   "execution_count": 2,
   "metadata": {
    "collapsed": false
   },
   "outputs": [],
   "source": [
    "import foodbornenyc.models.models as models\n",
    "from foodbornenyc.models.businesses import Business, business_category_table\n",
    "from foodbornenyc.models.documents import YelpReview, Tweet, Document\n",
    "from foodbornenyc.models.locations import Location\n",
    "from foodbornenyc.models.metadata import metadata"
   ]
  },
  {
   "cell_type": "code",
   "execution_count": 3,
   "metadata": {
    "collapsed": false
   },
   "outputs": [
    {
     "data": {
      "text/plain": [
       "[('count',\n",
       "  CountVectorizer(analyzer=u'word', binary=False, decode_error=u'strict',\n",
       "          dtype=<type 'numpy.int64'>, encoding=u'utf-8', input=u'content',\n",
       "          lowercase=True, max_df=0.95, max_features=None, min_df=1,\n",
       "          ngram_range=(1, 3), preprocessor=None, stop_words=None,\n",
       "          strip_accents=None, token_pattern=u'(?u)\\\\b\\\\w\\\\w+\\\\b',\n",
       "          tokenizer=None, vocabulary=None)),\n",
       " ('tfidf',\n",
       "  TfidfTransformer(norm='l2', smooth_idf=True, sublinear_tf=False, use_idf=True)),\n",
       " ('log',\n",
       "  LogisticRegression(C=100, class_weight=None, dual=True, fit_intercept=True,\n",
       "            intercept_scaling=0.01, max_iter=100, multi_class='ovr',\n",
       "            n_jobs=1, penalty='l2', random_state=57, solver='liblinear',\n",
       "            tol=0.0001, verbose=0, warm_start=False))]"
      ]
     },
     "execution_count": 3,
     "metadata": {},
     "output_type": "execute_result"
    }
   ],
   "source": [
    "from sklearn.externals import joblib\n",
    "from foodbornenyc.settings import yelp_classify_config as config\n",
    "\n",
    "#old classifier\n",
    "sick = joblib.load(\"../\"+config['model_file'])\n",
    "sick.steps"
   ]
  },
  {
   "cell_type": "code",
   "execution_count": 4,
   "metadata": {
    "collapsed": true
   },
   "outputs": [],
   "source": [
    "import numpy as np\n",
    "from sklearn.metrics import roc_auc_score\n",
    "def analyze(reviews, classifier):\n",
    "    predictions_new = classifier.predict_proba(reviews['X'])\n",
    "    pred = np.array([pred[1] for pred in predictions_new])\n",
    "    print \"ROC_AUC SCORE ::\", roc_auc_score(reviews['y'], pred, average='micro')\n",
    "    # determine true/false positive/negative rates\n",
    "    tp_rate = 0.0\n",
    "    fp_rate = 0.0\n",
    "    tn_rate = 0.0\n",
    "    fn_rate = 0.0\n",
    "\n",
    "    for review, pred in zip(reviews['y'], predictions_new):\n",
    "        if review == 1.0 and pred[1] > 0.5: tp_rate += 1\n",
    "        elif review == 1.0 and pred[1] < 0.5: fn_rate += 1\n",
    "        elif review == 0.0 and pred[1] > 0.5: fp_rate += 1\n",
    "        elif review == 0.0 and pred[1] < 0.5: tn_rate += 1\n",
    "    tp_rate /= len(reviews['y'])\n",
    "    fn_rate /= len(reviews['y'])\n",
    "    fp_rate /= len(reviews['y'])\n",
    "    tn_rate /= len(reviews['y'])\n",
    "    print \"True positive ::\", tp_rate\n",
    "    print \"False negative ::\", fn_rate\n",
    "    print \"False positive ::\", fp_rate\n",
    "    print \"True negative ::\", tn_rate\n",
    "    print \"FP / TP ::\", fp_rate / tp_rate\n",
    "    print \"FN / TN ::\", fn_rate / tn_rate"
   ]
  },
  {
   "cell_type": "code",
   "execution_count": 5,
   "metadata": {
    "collapsed": false
   },
   "outputs": [],
   "source": [
    "#importing and reading data files\n",
    "import xlrd\n",
    "\n",
    "sheet1 = xlrd.open_workbook('data/yelp_sick_classifier_data.xlsx').sheet_by_index(0)\n",
    "reviews = {'X':np.array([cell.value for cell in sheet1.col(1)][1:]), 'y':np.array([cell.value for cell in sheet1.col(2)][1:])}\n",
    "\n",
    "sheet2 = xlrd.open_workbook('data/sick_test_preds.xlsx').sheet_by_index(0)\n",
    "reviews2 = {'X':np.array([cell.value for cell in sheet2.col(0)][1:]), 'y':np.array([cell.value for cell in sheet2.col(2)][1:])}"
   ]
  },
  {
   "cell_type": "code",
   "execution_count": 6,
   "metadata": {
    "collapsed": false
   },
   "outputs": [],
   "source": [
    "# key words to watch out for: poisoning, sick, \n",
    "# tokens that perform strictly negation: not, n't, no, none, nobody, neither, \n",
    "# if negation word's head == key word's head, prepend key word with \"not\" and remove negation word\n",
    "# only potential issue is double negative, e.g. \"no one didn't get food poisoning\", but this is a first step\n",
    "from spacy import attrs\n",
    "example = u\"I hope none of us gets sick tonight. I didn't order food poisoning. I do not think you should come here because I got food poisoning.\"\n",
    "\n",
    "# uncomment the following to see an example of a dependency parse\n",
    "# parsedEx = parser(example)\n",
    "# for token in parsedEx:\n",
    "#     print token.orth_, token.dep_, token.head, [t.orth_ for t in token.children]"
   ]
  },
  {
   "cell_type": "code",
   "execution_count": 7,
   "metadata": {
    "collapsed": false
   },
   "outputs": [
    {
     "name": "stdout",
     "output_type": "stream",
     "text": [
      "i hope none of us gets sick tonight . i did order food not poisoning . i do think you should come here because i got food not poisoning .\n"
     ]
    }
   ],
   "source": [
    "def transform_doc_1(doc): \n",
    "    \"\"\"if root of sentence had negation and sentence contained kw\"\"\"\n",
    "    kw = ['poisoning', 'sick']\n",
    "    neg = ['not', \"n't\", 'no', 'none', 'nobody', 'neither']\n",
    "    parsedDoc = parser(doc.lower())\n",
    "    tokens = [[t.orth_ for t in s] for s in parsedDoc.sents] #this will be modified\n",
    "    sents = list(parsedDoc.sents)\n",
    "    for i in range(len(sents)):\n",
    "        # each span has only one root\n",
    "        if not any([c.orth_ in neg for c in sents[i].root.children]): continue #if there's no negation\n",
    "        neg_i = [j for j in range(len(sents[i])) if sents[i][j].orth_ in neg][0]\n",
    "        kw_list = [j for j in range(len(sents[i])) if sents[i][j].orth_ in kw]\n",
    "        \n",
    "        if len(kw_list) == 0: continue\n",
    "        \n",
    "        kw_i = kw_list[0]\n",
    "        \n",
    "        #now modify\n",
    "        tokens[i].insert(kw_i, \"not\")\n",
    "        tokens[i].pop(neg_i)\n",
    "    #now we join everything with spaces\n",
    "    out = []\n",
    "    for sent in tokens:\n",
    "        out.append(\" \".join(sent))\n",
    "    return \" \".join(out)\n",
    "\n",
    "print transform_doc_1(example)"
   ]
  },
  {
   "cell_type": "code",
   "execution_count": 8,
   "metadata": {
    "collapsed": false
   },
   "outputs": [
    {
     "name": "stdout",
     "output_type": "stream",
     "text": [
      "i hope of us gets not sick tonight . i did order food not poisoning . i do not think you should come here because i got food poisoning .\n"
     ]
    }
   ],
   "source": [
    "def transform_doc_2(doc): \n",
    "    \"\"\"if negation and kw share a head\"\"\"\n",
    "    kw = ['poisoning', 'sick']\n",
    "    neg = ['not', \"n't\", 'no', 'none', 'nobody', 'neither']\n",
    "    parsedDoc = parser(doc.lower())\n",
    "    tokens = [[t.orth_ for t in s] for s in parsedDoc.sents] #this will be modified\n",
    "    sents = list(parsedDoc.sents)\n",
    "    for i in range(len(sents)):\n",
    "        if not any([c.orth_ in neg for c in sents[i]]): continue #if there's no negation\n",
    "        neg_list = [j for j in range(len(sents[i])) if sents[i][j].orth_ in neg]\n",
    "        kw_list = [j for j in range(len(sents[i])) if sents[i][j].orth_ in kw]\n",
    "        \n",
    "        if len(kw_list) == 0: continue\n",
    "        \n",
    "        # attempt at handling double negatives\n",
    "        double_negative = True\n",
    "        kw_i = -1\n",
    "        neg_i = -1\n",
    "        \n",
    "        for j in neg_list:\n",
    "            for k in kw_list:\n",
    "                if sents[i][j].head == sents[i][k].head and double_negative:\n",
    "                    neg_i = j\n",
    "                    kw_i = k\n",
    "                    double_negative = False\n",
    "                elif sents[i][j].head == sents[i][k].head and not double_negative:\n",
    "                    double_negative = True\n",
    "        \n",
    "        if double_negative: continue\n",
    "        \n",
    "        #now modify\n",
    "        tokens[i].insert(kw_i, \"not\")\n",
    "        tokens[i].pop(neg_i)\n",
    "    #now we join everything with spaces\n",
    "    out = []\n",
    "    for sent in tokens:\n",
    "        out.append(\" \".join(sent))\n",
    "    return \" \".join(out)\n",
    "\n",
    "print transform_doc_2(example)"
   ]
  },
  {
   "cell_type": "code",
   "execution_count": 9,
   "metadata": {
    "collapsed": false
   },
   "outputs": [],
   "source": [
    "from sklearn.base import TransformerMixin\n",
    "\n",
    "class NegationTransformer(TransformerMixin):\n",
    "    \"\"\" Brings negation words closer to relevant key terms to make it detectable with n-gram detector \"\"\"\n",
    "    \n",
    "    def __init__(self, transform_doc=transform_doc_1):\n",
    "        self.transform_doc = transform_doc\n",
    "    \n",
    "    def transform(self, X, **transform_params):\n",
    "        return np.array([self.transform_doc(doc) for doc in X])\n",
    "    \n",
    "    def fit(self, X, y=None, **fit_params):\n",
    "        return self\n",
    "    \n",
    "    def get_params(self, deep=True):\n",
    "        return {'transform_doc' : self.transform_doc}\n"
   ]
  },
  {
   "cell_type": "code",
   "execution_count": 10,
   "metadata": {
    "collapsed": false
   },
   "outputs": [],
   "source": [
    "#from yelp classifier training notebook\n",
    "from sklearn import metrics\n",
    "from sklearn.grid_search import GridSearchCV\n",
    "from sklearn import cross_validation\n",
    "from sklearn.pipeline import Pipeline\n",
    "from sklearn.metrics import roc_curve, auc\n",
    "from sklearn.linear_model import LogisticRegression\n",
    "from sklearn.feature_extraction.text import CountVectorizer, TfidfTransformer\n",
    "\n",
    "def my_roc_auc(ground_truth, predictions):\n",
    "    ground_truth = np.array(ground_truth)\n",
    "    predictions = np.array(predictions)\n",
    "    return metrics.roc_auc_score(ground_truth, predictions, average='micro')\n",
    "\n",
    "my_roc_auc_scorer = metrics.make_scorer(my_roc_auc, needs_threshold=True, greater_is_better=True)\n",
    "\n",
    "# param_grid = {\n",
    "#     'count__ngram_range':[(1,1),(1,2),(1,3)],\n",
    "#     'tfidf__norm':['l1', 'l2'],\n",
    "#     'tfidf__use_idf':[True, False],\n",
    "#     'tfidf__sublinear_tf':[True,False],\n",
    "#     'logreg__C':[.001, .01, .1]\n",
    "# }\n",
    "param_grid = {\n",
    "   # 'negTransformer__transform_doc': [transform_doc_1, transform_doc_2],\n",
    "    'count__ngram_range': [(1, 3)],\n",
    "    'count__max_df' : [ .95],\n",
    "    'count__stop_words': [None],\n",
    "    'count__lowercase' : [True],\n",
    "    'count__max_features': [None],\n",
    "    'count__strip_accents': ['unicode'],\n",
    "    'tfidf__use_idf' : [True],\n",
    "    'tfidf__norm': [('l2')],\n",
    "    'logreg__C': [100],\n",
    "    'logreg__dual' : [True],\n",
    "    'logreg__fit_intercept': [True],\n",
    "    'logreg__penalty': ['l2'],\n",
    "    'logreg__intercept_scaling':[.01],\n",
    "    'logreg__random_state': [57],\n",
    "    'logreg__solver': ['liblinear']\n",
    "}"
   ]
  },
  {
   "cell_type": "code",
   "execution_count": 11,
   "metadata": {
    "collapsed": true
   },
   "outputs": [],
   "source": [
    "pipe1 = Pipeline([\n",
    "    ('negTransformer', NegationTransformer(transform_doc_1)),\n",
    "    ('count', CountVectorizer()),\n",
    "    ('tfidf', TfidfTransformer()),\n",
    "    ('logreg', LogisticRegression())\n",
    "    ])\n",
    "pipe2 = Pipeline([\n",
    "    ('negTransformer', NegationTransformer(transform_doc_2)),\n",
    "    ('count', CountVectorizer()),\n",
    "    ('tfidf', TfidfTransformer()),\n",
    "    ('logreg', LogisticRegression())\n",
    "    ])\n",
    "\n",
    "\n",
    "grid_search1 = GridSearchCV(pipe1, \n",
    "                           param_grid,\n",
    "                           scoring=my_roc_auc_scorer,\n",
    "                           n_jobs=-1, verbose=1)\n",
    "grid_search2 = GridSearchCV(pipe2, \n",
    "                           param_grid,\n",
    "                           scoring=my_roc_auc_scorer,\n",
    "                           n_jobs=-1, verbose=1)\n",
    "#does it make a difference if it's put in as a preprocessor?"
   ]
  },
  {
   "cell_type": "code",
   "execution_count": 12,
   "metadata": {
    "collapsed": false
   },
   "outputs": [
    {
     "name": "stdout",
     "output_type": "stream",
     "text": [
      "Training/Dev data shape:  (1113,) (1113,)\n",
      "Test data shape:  (279,) (279,)\n"
     ]
    }
   ],
   "source": [
    "def split_dev_test(data, test_size=.2):\n",
    "    \"\"\"Splits input data into a training set and a testing set\"\"\"\n",
    "    train_data = {}\n",
    "    test_data = {}\n",
    "    for train, test in cross_validation.StratifiedShuffleSplit(data['y'], n_iter=1, test_size=test_size, random_state=0):\n",
    "        train_data['X'] = data['X'][train]\n",
    "        train_data['y'] = data['y'][train]\n",
    "        test_data['X'] = data['X'][test]\n",
    "        test_data['y'] = data['y'][test]\n",
    "        \n",
    "    print \"Training/Dev data shape: \", train_data['X'].shape, train_data['y'].shape\n",
    "    print \"Test data shape: \",test_data['X'].shape, test_data['y'].shape\n",
    "    return train_data, test_data\n",
    "\n",
    "train_data, test_data = split_dev_test(reviews)"
   ]
  },
  {
   "cell_type": "code",
   "execution_count": 29,
   "metadata": {
    "collapsed": false
   },
   "outputs": [],
   "source": [
    "def reveal_fp_fn(reviews, classifier):\n",
    "    \"\"\"Returns false positives and false negatives from the classifier\"\"\"\n",
    "    prediction = classifier.predict_proba(reviews['X'])\n",
    "    fp = {'X':[review for label, review, pred in zip(reviews['y'], reviews['X'], prediction) if label == 0.0 and pred[1] > 0.5],\n",
    "          'y':[pred[1] for label, review, pred in zip(reviews['y'], reviews['X'], prediction) if label == 0.0 and pred[1] > 0.5]}\n",
    "    fn = {'X':[review for label, review, pred in zip(reviews['y'], reviews['X'], prediction) if label == 1.0 and pred[1] < 0.5],\n",
    "          'y':[pred[1] for label, review, pred in zip(reviews['y'], reviews['X'], prediction) if label == 1.0 and pred[1] < 0.5]}\n",
    "    return (fp, fn)\n",
    "\n",
    "#reveal_fp(reviews2, grid_search2.best_estimator_)\n",
    "#analyze(reviews2, grid_search2.best_estimator_)\n",
    "\n",
    "def split_and_test(data, grid_search, test_size=.2, n_iter=1):\n",
    "    \"\"\"Tests performance of a grid search pipeline, returns false positives and false negatives\"\"\"\n",
    "    train_data = {}\n",
    "    test_data = {}\n",
    "    out = (None, None)\n",
    "    for train, test in cross_validation.StratifiedShuffleSplit(data['y'], n_iter=n_iter, test_size=test_size, random_state=0):\n",
    "        train_data['X'] = data['X'][train]\n",
    "        train_data['y'] = data['y'][train]\n",
    "        test_data['X'] = data['X'][test]\n",
    "        test_data['y'] = data['y'][test]\n",
    "        %time grid_search.fit(train_data['X'], train_data['y'])\n",
    "        print(\"Best score: %0.3f\" % grid_search.best_score_)\n",
    "        %time analyze(test_data, grid_search.best_estimator_)\n",
    "        out = reveal_fp_fn(test_data, grid_search.best_estimator_)\n",
    "    return out\n",
    "        "
   ]
  },
  {
   "cell_type": "code",
   "execution_count": 30,
   "metadata": {
    "collapsed": false
   },
   "outputs": [
    {
     "name": "stdout",
     "output_type": "stream",
     "text": [
      "Fitting 3 folds for each of 1 candidates, totalling 3 fits\n",
      "CPU times: user 18.2 s, sys: 357 ms, total: 18.6 s\n",
      "Wall time: 44.6 s\n",
      "Best score: 0.889\n",
      "ROC_AUC SCORE :: 0.885131646877\n",
      "True positive :: 0.444444444444\n",
      "False negative :: 0.089605734767\n",
      "False positive :: 0.114695340502\n",
      "True negative :: 0.351254480287\n",
      "FP / TP :: 0.258064516129\n",
      "FN / TN :: 0.255102040816\n",
      "CPU times: user 4.26 s, sys: 29.4 ms, total: 4.29 s\n",
      "Wall time: 4.32 s\n",
      "{'y': [0.52311025773193054, 0.57743008638646887, 0.7721489691749337, 0.9780174765768006, 0.85009488753096674, 0.54152106148375523, 0.59003411184769128, 0.63974480078309337, 0.69545077267437672, 0.99250878345502036, 0.62753614301104854, 0.53610548249783585, 0.97795854428182427, 0.75029212962111846, 0.87272959377498627, 0.6629118137617922, 0.71906937156860751, 0.98749481101263059, 0.77220894247719318, 0.55327717366388018, 0.76270770772067509, 0.87038388823087365, 0.52529709914094169, 0.59762682424079938, 0.82271777557651937, 0.7141959828359401, 0.91174189183336796, 0.81068168982546884, 0.53515895648639855, 0.53948207003939441, 0.74086541053701893, 0.99740528330321543], 'X': [u\"Gross.\\n\\nJust ordered fish tacos and my boyfriend a fish burrito. The fish was old and smelly so we took it out and just ate it veggie. Hopefully we won't get sick tonight...\", u'My two friends and I went to the Mezcal&#39;s in Bay Ridge.  The food was fine, service was fine, the singer was annoying as hell to me, and we also dealt with an annoying drunk person next to us.  I got over the singer and the drunk.  We were in a good mood.  Another waiter wrote our check.  My friend was checking  the bill and noticed a service fee for about $17.85.  We asked our original waiter what is this for he, said that they add tips to checks over $100 dollars.  That rule is not printed on menu.  Basically that waiter decided to back up his racist co-worker.  Our check for 3 of was under $100.  I decided to ask the white family of 4, next to us to see their check, it was over $100 and no service fee was added.  Their waiter claimed he was busy and he knew them.    We showed the family our check and they were as shocked as we were.  The ignorant, racist, theft, waiter quickly took back the check and wrote a new one.   Racism is alive and real at Mezcal&#39;s  in Bay Ridge.  He decided that three well educated African Americans were not going to tip.  He makes me sick.   I suggest if you go there double check your  bill the waiter may decide that too don&#39;t know about tipping.  We decided not to tip and reward their racist ways.   By the way I asked for a manger and they claimed one was not there.', u\"WARNING:  This place can be pretty rough if you have any stomach issues.\\n\\nSo I wrote a review right after getting home from this place.  Unfortunately, my review has to change.  I was feeling full when I got home after eating here, and it only got worse.  I couldn't sleep till 3am (I ate there at 8pm), and even when I woke up I felt like I had something stuck in my stomach.  It was a feeling of being super full, my stomach just pushing against my clothes.  Felt so uncomfortable that I couldn't sleep.  Mind you, I have GERD, but haven't had any issues for months.  Also, my friend that took me there told me her friend with IBS ate here and felt horribly sick afterwards.  I don't know if it's all the fiber but something's up.  Thus, went down from 3 to 2 stars.  Just not for me.\\n\\n\\nOriginal Review:  \\n\\nThe shakes were great, had the Red Coconut one and I could taste both the strawberries and the coconut.  Very filling, like I would have been fine with just shake.\\n\\nMexican platter was good, but I didn't care for the rice.\\n\\nOverall, it was good, not extremely flavorful, and maybe a bit too pricey.  Just OK for me.\", u\"Good summer time bar stop.  They have a rooftop which is pretty cool.  There is a good selection of beers as well.  I've been here half a dozen times and always enjoyed the experience.\\n\\nOnly reason I'm not gonna give this 5 stars is I got food poisoning the last time I was there after ordering a turkey burger.  I didn't eat anything else that day and it took days to pass.\", u'After waiting 2 hours for a table, I think my expectations were too high for this place. \\n\\nI would give it 4 stars but my friend and I had really bad indigestion or some stomach problems right after eating the butter drench, garlic food.\\n\\nWe got the Shrimp and Crawfish combo, snowcrab and the lobster and crawfish.. the lobster combo was $40 because it&#39;s &#34;marketprice&#34; but why wouldn&#39;t they just have that on the menu?\\n\\nThe shrimp and the snowcrabs were my favorite the cajun wings were really juicy and flavorful. I really like garlic (not powder, salt, seasoning) raw garlic and the boil uses LOTS of it.\\n\\nAfter  20 minutes into eating, I felt sick and the food was too greasy with butter so I asked for rice, which the server got the saddest side of rice which didn&#39;t even look like a bowl of rice but a square of rice... I didn&#39;t even know rice could all mesh together like mash potato and be shaped that way. On top of that I was charged $3 for it.\\n\\n\\n\\ncash only. ugh.', u\"The burrito I had (carnitas + black beans) didn't insult my mother or give me food poisoning, so hey, it's still a burrito. I imagine your enjoyment level will be directly related to your inebriation level. \\n\\nPros:\\n* burrito was sufficiently enormous\\n* burrito was cheap (less than $8)\\n* fast service\\n\\nCons:\\n* bland, bland, bland. \\n* this place had a B rating from the health and safety board. You deserve better, but if you're like me, you probably won't care. \\n\\n2 stars because there's so much better to be had. Make the hike to calexico if you really want a burrito ($$) or, I dunno, try somewhere else ($?)\", u'There was only 1 other table besides ours when we went in for dinner. The server was asking how we were when another woman whispers in his ear while pointing and looking at us. We were immediately concerned over what she was saying. There was no way it was anything like \"make sure you treat them well\" or she wouldn\\'t be whispering. I don\\'t know what possessed us to stay. We had the fish and it was just okay. We were concerned the food was tampered with from the whispering. Fortunately, neither of us got sick but there is no way we will return. Why stop our server, look and point at us and whisper something in his ear right in front of us? We talked about it afterwards and came to the conclusion that if we return we are just begging for them to make us sick. I don\\'t know what her problem was with us but she did not shy away from showing it.', u'This review isn&#39;t about the ambiance, the people, or the sports. I am giving it an extra star because the trivia night was fun.\\n\\nThis review is about the food and drinks which are an important component to any worthwhile after work bar visit. Come here if you have extra money to throw away on nothing. I had the worst pour with a cup full of ice on both of my $11 drinks. It felt like it was a glass o watery soda with a tiny splash of alcohol. Stingiest pours ever. I get way better at $3 happy hours at many bars in LES. I felt completely ripped off. I wish I asked how much the drink was before I ordered a second. \\n\\nHand down the worst bar food I have ever eaten. Chicken fingers were gross, and the nachos made me sick to my stomach.\\n\\nDespite it being steps away from my house...Royal I will not be back.', u'Just had lunch here today after coworkers had been bragging about it for weeks as the best cheap sushi in manhattan.\\n\\nBut really, does one really want to combine the word cheap with raw fish? Ramen I can understand as all that steamy broth kills the deadly microbes. But i dunno, New York. I guess we all live knowing we\\'re a short ambulance ride from the ER and so we live dangerously.\\n\\nThat said the waitress was cool. I ordered a la carte and asked her if I ordered properly. She said\\' \"Yes, better than my boyfriend\" and we both laughed. \\n\\nThe food came. Everything tasted fresh but they serve the fish in pieces that are way too large (Americanized?) I hate that. \\n\\nMiso soup was delicious. As I finished my last slurp behold, a cockroach hiking over my chopstick wrapper. :(\\n\\nI didn\\'t get sick. Food was quite good. Ambiance - meh. Cockroach? A neutral three stars.', u'After posting my original review, the NYC Health Dept contacted me and urged me to call 311 to report the food poisoning incident at Atlas Cafe.  I would like to clarify I did not contract food poisoning from Atlas Cafe.  I merely likened the urgency to post my one star review of Atlas to my urgency to use the bathroom when I did contract food poisoning from a wedding in Jersey.', u'We managed to catch Fatta Cuckoo on a bad day. Their chef had called in sick and the sous chef was left by himself in the kitchen to handle all the food orders. The writing was on the wall when we walked in. They messed up our reservation of 2, and had us sit at the bar but we got a free round of drinks so no hard feelings.\\n\\nWe started off with the fried clam special. A bit bready but tasted fine.  We had ordered the burger and the fried chicken, but after waiting for over an hour since the arrival of our app, we still hadn&#39;t gotten them. They recognized this and gave us more free drinks. To give you an idea how backed up they were - our reso was at 730 but we didn&#39;t get our entrees until 915. Finally when my burger came, it was cooked medium well (I had ordered medium rare) and I had no choice but to send it back. To their credit, they gave me another burger within 10 minutes that was cooked much better.\\n\\nThe short rib burger, at the correct temperature, was pretty good but not sure if it&#39;s worth the $22 price tag even though it does come with a beer. It could be due to the unfortunate case of not having the regular chef that night but while the meat was juicy, it lacked seasoning. The fried chicken wasn&#39;t too different. It was moist under the dark, crispy skin but the flavor didn&#39;t pop as much. Overall I&#39;d give the app and entrees 3.5/5\\n\\nWe also got a free dessert on top all the drinks and apologies we got from the frustrated staff. I tried the chocolate cream pie which I thought was delicious and devoured in two minutes. \\n\\nOne good thing that came out of going there on a off night was that because of the free drinks they gave us, we got to try a lot of the cocktails. Not The Girl Next Door was an excellent chili infused mescal cocktail that I&#39;d order over and over again. For something summery and light I would suggest Don&#39;t Tell Carly.\\n\\nRestaurants can have off nights due to unforeseen circumstances and I felt Fatta Cuckoo came through for us that night despite being in a very tough situation with the absence of the regular chef. We were also helped by a Travelzoo deal we had but I don&#39;t think I&#39;d want to pay their regular prices for the quality of food we received. However I&#39;m willing to give them the benefit of the doubt and come back here another time.\\n\\nFOOD: 3.5/5\\nSERVICE: 5/5\\nD?COR &amp; AMBIANCE: 3/5\\nVALUE: 3.5/5 (4/5 with the Travelzoo deal)', u\"I should have heeded the other negative reviews, but I was too enticed by the $3.95 all you can drink bloody marys, and for that I was punished with RAW EGGS.\\n\\nI ordered Uova Al Forno (eggs baked with tomato sauce and oregano). It arrived barely warmer than room temperature, but I decided sending it back would have taken forever... big mistake. About halfway through, I got a big mouthful of RAW egg white which I had to spit out into my napkin. 24 hours later, I still can't get the feeling of it out of my mouth, but luckily at least I'm not violently sick from salmonella. The triangle shaped latke it came with was also cold, greasy, and completely tasteless.\\n\\nTo top it off, something was floating in my friend's water glass, and it took a long time to flag someone down to ask for a change of water, and a refill on mine. The bloody marys were ok, but so full of horseradish that it was kind of gross after a while. The refills also arrive warm (they pour from a room temperature carafe) and it was next to impossible to get the waitress' attention to ask for ice. I should note that the woman refilling our drinks was lovely and very sweet. The other waitress was totally aloof until it was time for us to pay. The bill was on the table 2 seconds after they picked up our plates, without even asking if we needed anything else or how the food was (I never got a chance to tell anyone about my raw plate of gross-ness). At least the coffee was delicious (although we were never offered a refill).\", u'The worst Brazilian restaurant I&#39;ve ever eaten. My husband ordered a medium steak and I ordered a medium well.... We  both got well done, hard steaks that we couldn&#39;t finish. I got really sick of my stomach. I&#39;ll never go back, and won&#39;t recommend. BTW, I am Brazilian, I know my !@#$%^&amp;*', u'I recently went to an event at Barclays with some friends and walked out starving.  Most of the Park Slope restaurants are closed by 11:30.  I&#39;d been to 200 5th a few years ago and it was solid.  Good beer selection, solid bar food.  \\n\\nThe recent experience was nothing like the past ones.  First round of beers comes, one is skunked.  It happens, I think nothing of it.  Waitress is totally cool with letting a change happen.  Different beer comes, it&#39;s skunked again!  \\n\\nHoney wings, very good.  Since I can&#39;t give this experience 0 stars, the honey wings are reason for a star.  \\n\\nThe entrees ordered should have been layups.  Burger, turkey burger and grilled cheese.  It&#39;s not like we ordered the fish and chicken cordon bleu.  I ate the burger because I&#39;m a dude and I was starving, but I was praying for no food poisoning when I got home.  The meat tasted old.  The bun was dry and tasteless.  It was so horrible that I removed the burger/cheese/veggies and ate it separately.  I should have sent everything back but at this point it would have been a pointless exercise.  I just needed to get out of there.\\n\\nThe curly fries were average, not bad.  Friend got onion rings on the side, decent also.   \\n\\nI&#39;m disappointed by experience here.  It&#39;s a great setup for a game.  I&#39;d say if you are going here get the wings and beer on bottle to keep it simple and safe.', u\"Very bad food and service. \\nWe ordered chicken and pasta and the food came faster than in any fast food restaurant.\\nThe food itself was terrible and we didn't finish our plate as we were scared to be sick.\\nThe waiter was rude.\\nIt's a pity because the restaurant itself is very unique (decoration, live music).\\nBut i will not come back .\", u'I used to like the place but I must say this one and the one on northern blvd both stink greasy salty lousy food never again makes me sick', u'Stuffed cabbage had more potato than meat. String beans were mush and inedible. Beats were mush and... Weird. I felt sick after my meal, half of which I didn&#39;t eat. The only good part was that the servers were friendly and welcoming.', u'After reading all the rave reviews about Schnitzi, I finally decided to try it out. What a mistake!!!\\nThe place is filthy, the menu prices are too high and the food sucks. I tried their double burger. They barely put tomatoes or pickles in my sandwich. The sauce wasn&#39;t that great, but the worst part was the meat. The burgers were two pieces of rubber that tasted horrible.\\nAll night I was burping nasty burps that felt like I ate a whole rotten cow. The next day I was still sick from this crappy burger and all my clothes smelled of filthy food.\\nI don&#39;t recommend this place to anyone.', u'Totally overrated, waited about an hour for a table. We had the mussels (bland and my friend said the freshness was questionable and as much as i love food poisoning, no thanks) the gnocchi (couldn&#39;t finish it, it had this odd bitter taste) and the flan (the best thing we had there and thats not really an italian dessert)You&#39;re also forced to listen to other guests conversations since they are basically sitting on your lap... However, prices are decent...', u'This restaurant is always on Savored, so husband and decided to finally give it a try.  We walked in and saw the garden room in the back and asked to sit there.  They led us out there but the tables might as well have been picnic tables and it was hot, so we went back into the main retaurant.  \\n\\nIt was pretty warm in the main restaurant as well, but we&#39;re here so let&#39;s just drink water and hopefully cool down.\\n\\nThe waiter brought over room temperature water, sans ice cubes.  Warm tap water, just what I want to drink on this hot Summer day in your non air conditioned restaurant.  \\n\\nWhy we did not leave at this point, I will always wonder...\\n\\nWe ordered the clams casino, a ceasar salad, pasta e fagioli, and decided to share the salmon entree.\\n\\nClams casino- literally just warmed clams with break crumbs poured on top.\\nPasta E Fagioli- No.. just no.\\nCeasar Salad- I&#39;ve had better on an airplane\\nSalmon entree- husband was too grossed out from the apps to eat much of it.  I was too put off by the restaurant at this point to trust the rare portion so I just ate the more well done crusts.\\n\\nAs we walked out my husband was convinced he had food poisoning.  I was just happy that we never suggested it for a group of friends, as we do suggest Savored restaurants all the time and I would NEVER hear the end of it.\\n\\nNever going back.', u'I discovered this place after I started working in Chelsea and i was looking for a less corporate go-to coffee shop for my morning caffeine kick. It didn&#39;t take long for me to get addicted to their selection of coffees and baked muffins leading to me getting their lunch sandwiches as well. After frequenting the cafe more than 13 times within 10 business days I encountered my first MOLDY MUFFIN! The worst part is, the mold was forming on the bottom rim of the muffin and because I was eating it from the top, I didn&#39;t notice until I was midway through! In Shock, I brought the other half back to the cafe and even the cashier was stunned after I showed her! She apologized and in the midst of the moment (she may have been struck by stupidity) but asked me if I wanted another muffin rather than a refund. I&#39;m not the type of person to make a scene so I kindly declined and got my money back.\\nI was so upset over this incident, not so much about the mold (since it did not make me sick) but because their food tasted SOOOOOOOOOO good and now I didn&#39;t feel like I could trust their quality.\\nI waited approximately 1 week and couldn&#39;t resist the urge any longer...I decided to go back and get their parmesian eggplant sandwich. If this visit had no issues I definitely would still go there, but it may have been a coincidence where the large piece of cheese on my sandwich looked as though there were little white/clear fuzzy things on it! I COULD NOT BELIEVE MY EYES! I asked my co-worker to look at it confirming it was mold! I really wanted to give them the benefit of the doubt and believe it was pieces of the wax paper stuck to the cheese, but wax paper just doesn&#39;t leave that type of fuzzy residue. I was so disappointed, not to mention I did get a stomach ache this time from the food.  I really wish this place would just carry more &#34;fresh&#34; food items, practice better hygiene (maybe just check the muffins they leave sitting out in the pan), because I honestly did LOVE the food here.  I just can&#39;t bring myself to go here anymore because I&#39;m scared of what is going to be growing on/in my food...Not to mention the employees are super nice. *sigh* Another good place lost', u'I would give zero if I could. This is the worst Restaurant I have ever been at! \\n\\nWe only went in to that Taco bell because it was 96 degrees outside and we wanted to get some cool Air. The place we originally wanted to stay at had no AC and basically yelled food poisoning but would have been the better choice.\\n\\nSo, let&#39;s start with the completely depressing, run down look. We where the only customers  on a Saturday afternoon. Most of the tables where really dirty and the chairs had ripped and worn off. \\n\\nWhen I ordered my food, the casher was completely unable to use the register. It took him like 10 minutes to take my order, he got it wrong and charged me more than it was, since he was unable to figure our the lunch-box thing... He then forgot my cup and after I asked for it, he gave me neither a straw nor a lid. \\n\\ni ate half of the food that he gave me, then threw it away since i was to afraid to get food poisoning and it tasted like nothing. \\n\\nI was so glad to get out of there and swore to myself: never again!', u'came here for dinner.\\n\\nseated in garden.\\nsick ambiance. \\ntrees and bushes in the middle of the restaurant.\\ndefinitely felt like i was in a park.\\nroomy restaurant.\\nnice looking bar.\\n\\nordered a speciality cocktail- tasted absolutely horrible. so bad i had to change it. literally tasted like lysol. plus it took 15-20 minutes for it to come.\\n\\nlamb meatballs- not bad at all. were tasty.\\n\\npizza- very average. have had better slices at corner pizza shops.\\n\\nfriend had the salmon- very salty. almost unbearable.\\n\\ni had rigatoni- very weak. almost tasteless.\\n\\noverall really nice setting, but food was very bland.', u'This is a review on Cooler Cleanse from Juice Generation. I decided to do a 3-day juice cleanse with my friend. We both had no experience with juice cleansing, but thought we would give it a try. We were trying to obtain that \"energetic\" \"detoxed\" feeling that everyone speaks about!\\n\\nWell, we both hated the juices. They were in no way filling and extremely sweet or extremely sour (spicy lemonade). In no way did we feel satisfied, tired, energetic, or \"cleansed.\" We both felt sick, hungry, and irritated at the cost of this 3-day cleanse ($170) and the ripped-off feeling we had. Both of us felt sick and ended the cleanse a day early. Juice generation cooler cleanse called to ask how I was feeling. I told her I was sick, really did not enjoy it, and didn\\'t feel well, (even today a few days later I\\'m still not functioning normally!) all she said was \"let me know if you have any other questions or comments.\" I would NOT recommend this. It is a marketing/advertising trap!!!!', u'We decided to try our hand making linguine and clams after getting sick of paying $20+ to get a subpar version at different restaurants. The main problem was finding clams fresh enough for the dish. The last time a friend picked up &#34;fresh&#34; fish at Whole Foods, he had food poisoning. Yelp reviews led us to Rosendo where we got a dozen little neck clams that were on ice. After washing and cooking, every clam popped open and proved to be fresh. \\n\\nThe place was a little tough to find considering the unassuming storefront and the wrong yelp address. All I remember is that it&#39;s near a Kumon. Man, I hate Kumon haha.', u\"There is a reason that this is the only place that will have guaranteed seating available for dinner in Little Italy.  Because the food here is terrible.  The only people you'll see eating here are disappointed tourists and people that will soon be spending the rest of their evening and entire next day fighting food poisoning.  The calamari tasted like it was fried in old oil that leaked from an old tailpipe.  The pizza was a pathetic flat depressing pie that tasted of freezer burn and not much else. The grappa I'm currently trying to swallow - swill.  On the bright side, I'm walking out of here soon, so that's one star...and the service was good.  (I feel sorry for the poor people that have to serve this food).\", u'We went at an \"off\" time on an \"off\" day (Sunday evening, earlyish). That said, there shouldn\\'t have been any issue getting our drinks in a timely manner as the place was quiet. Sadly, the service was so poor, we got up from our table twice to inquire about where our drinks were.\\n\\nThe food was lackluster. I had the skirt steak. Although I\\'m not sick, it\\'s sitting in my stomach like a rock -- not fun.\\n\\nThis place was super skippable.', u'It&#39;s decent cheap American-Chinese food.  I don&#39;t understand the negative reviews.  Also they have an A health code rating, which 2 of the local competitors do not.  At least I know I&#39;m not going to get sick after eating here.  They are very nice people too.', u\"BEWARE:  Unclean and Unsafe COOKING PRACTICE!  The worst diner experience of my life.  The waiter rushed my party and other tables around us to order our food.  The waiter asked specifically what type of milk or creamer we need for our coffee and failed to deliver.  He forgot to put butter on my friends toasts.  My omelette was under cooked and after all the other mistakes I went to the counter to complain.  The manager said he will take care of it.  they just slapped the same omelette back in the grill and gave it to me burnt and half the potatoes were gone.  I didn't even touch/eat any of the food prior.  I had to send it back again.  I will never eat here again... I will tell everyone not to eat here cuz it's just plain awful!!  BelAire Diner why did u slap the same omelette back on the grill?  Why didn't you make me a new one?  I don't think it's very Sanitary to put food that was served on someone else's table and attempt to cook it again on the same grill w/ other patrons food?  BelAire Diner, how do you know I'm not sick?  Or have some crazy disease?  Have you practiced this before when other patrons send back food?  SHAME ON YOU!!!\", u'Recently went on a weekend during the height of club goers getting their grub on (around 6:00 am).  Was seated pretty quickly.  Went to the bathroom and it was a disgusting mess.  Smelled like vomit and toilet tissue all over the floor.  This was BEFORE I ate.  \\n\\nOrdered the corned beef hash with fried eggs and coffee.  My friend ordered an omelette.  The omelette was brown due to the eggs being over-cooked, my fried eggs were over-cooked as well.  The hash were salty and burned as well.  The only thing I enjoyed was the coffee.  I guess they figure hung over club goers don&#39;t care about the quality of the food.\\n\\nAt the end of the meal the waitress asked if we wanted any dessert...at 6:30am, after breakfast?  \\n\\nWill never go there again.', u'Ordered delivery for the first and last time tonight. The estimate delivery time they gave me was 37 minutes, after one hour of waiting I called and the man on the phone told me it had just left... No apologizes for the delay or anything. 30 minutes later I finally got the food, that took a total of an hour and a half to get here. \\n\\nThe falafel and dynamite sandwich we ordered tasted like they had been sitting in the delivery bike for way too long. Falafel was cold and dry, the pita wrap was soggy...\\n\\nWe also ordered hummus and baba ganoush which are hard to mess up. They both felt like they had just been taken out of a freezer, they were chunky and very cold. The baba ganoush had a weird tone and smell to it so we didn&#39;t eat it, and the hummus had a weird chunky consistency and was half frozen as well. The pita bread that we ordered to go with it was equally bad. Dry, tasted like cardboard, I could have bought a better pita bread at the corner store. It&#39;s hard to mess up mediterranean food as long as you use fresh ingredients, but this place didn&#39;t do a single thing right. They also forgot our salad, but I didn&#39;t bother to call about it seeing the quality of their other food. \\n\\nOnly pro is that I didn&#39;t get food poisoning.', u'Got sick after eating their food truck burger.\\n\\nStay away!']}\n"
     ]
    },
    {
     "name": "stderr",
     "output_type": "stream",
     "text": [
      "[Parallel(n_jobs=-1)]: Done   3 out of   3 | elapsed:   26.0s finished\n"
     ]
    }
   ],
   "source": [
    "fp1, fn1 = split_and_test(reviews, grid_search1)"
   ]
  },
  {
   "cell_type": "code",
   "execution_count": 32,
   "metadata": {
    "collapsed": false
   },
   "outputs": [
    {
     "name": "stdout",
     "output_type": "stream",
     "text": [
      "Fitting 3 folds for each of 1 candidates, totalling 3 fits\n",
      "CPU times: user 18.9 s, sys: 472 ms, total: 19.4 s\n",
      "Wall time: 46.2 s\n",
      "Best score: 0.891\n",
      "ROC_AUC SCORE :: 0.886525554982\n",
      "True positive :: 0.448028673835\n",
      "False negative :: 0.0860215053763\n",
      "False positive :: 0.111111111111\n",
      "True negative :: 0.354838709677\n",
      "FP / TP :: 0.248\n",
      "FN / TN :: 0.242424242424\n",
      "CPU times: user 4.12 s, sys: 58.9 ms, total: 4.18 s\n",
      "Wall time: 4.26 s\n"
     ]
    },
    {
     "name": "stderr",
     "output_type": "stream",
     "text": [
      "[Parallel(n_jobs=-1)]: Done   3 out of   3 | elapsed:   26.6s finished\n"
     ]
    }
   ],
   "source": [
    "fp2, fn2 = split_and_test(reviews, grid_search2)"
   ]
  },
  {
   "cell_type": "code",
   "execution_count": 68,
   "metadata": {
    "collapsed": false
   },
   "outputs": [
    {
     "name": "stdout",
     "output_type": "stream",
     "text": [
      "Fitting 3 folds for each of 1 candidates, totalling 3 fits\n",
      "CPU times: user 8.77 s, sys: 299 ms, total: 9.07 s\n",
      "Wall time: 10.7 s\n",
      "Best score: 0.890\n",
      "ROC_AUC SCORE :: 0.887816210635\n",
      "True positive :: 0.451612903226\n",
      "False negative :: 0.0824372759857\n",
      "False positive :: 0.114695340502\n",
      "True negative :: 0.351254480287\n",
      "FP / TP :: 0.253968253968\n",
      "FN / TN :: 0.234693877551\n",
      "CPU times: user 210 ms, sys: 6.15 ms, total: 216 ms\n",
      "Wall time: 227 ms\n"
     ]
    },
    {
     "name": "stderr",
     "output_type": "stream",
     "text": [
      "[Parallel(n_jobs=1)]: Done   3 out of   3 | elapsed:    7.3s finished\n"
     ]
    }
   ],
   "source": [
    "param_grid_temp = {\n",
    "    'count__ngram_range': [(1, 3)],\n",
    "    'count__max_df' : [ .95],\n",
    "    'count__stop_words': [None],\n",
    "    'count__lowercase' : [True],\n",
    "    'count__max_features': [None],\n",
    "    'tfidf__use_idf' : [True],\n",
    "    'tfidf__norm': [('l2')],\n",
    "    'log__C': [100],\n",
    "    'log__dual' : [True],\n",
    "    'log__fit_intercept': [True],\n",
    "    'log__penalty': ['l2'],\n",
    "    'log__intercept_scaling':[.01],\n",
    "    'log__random_state': [57],\n",
    "    'log__solver': ['liblinear']\n",
    "}\n",
    "grid_search_sick = GridSearchCV(sick, \n",
    "                           param_grid_temp,\n",
    "                           scoring=my_roc_auc_scorer,\n",
    "                           n_jobs=1, verbose=1)\n",
    "fp_sick, fn_sick = split_and_test(reviews, grid_search_sick)"
   ]
  },
  {
   "cell_type": "code",
   "execution_count": 62,
   "metadata": {
    "collapsed": false
   },
   "outputs": [
    {
     "name": "stdout",
     "output_type": "stream",
     "text": [
      "set([])\n",
      "set([])\n"
     ]
    }
   ],
   "source": [
    "# transform_doc_1 has no change\n",
    "print set(fp_sick['X']) - set(fp1['X'])\n",
    "print set(fp1['X']) - set(fp_sick['X'])"
   ]
  },
  {
   "cell_type": "code",
   "execution_count": 63,
   "metadata": {
    "collapsed": false
   },
   "outputs": [
    {
     "name": "stdout",
     "output_type": "stream",
     "text": [
      "set([u\"Gross.\\n\\nJust ordered fish tacos and my boyfriend a fish burrito. The fish was old and smelly so we took it out and just ate it veggie. Hopefully we won't get sick tonight...\"])\n",
      "set([])\n",
      "Old prob ::  0.564806287835\n",
      "New prob ::  0.47147320544\n"
     ]
    }
   ],
   "source": [
    "# transform_doc_2 improves false positive rate by one review\n",
    "print set(fp_sick['X']) - set(fp2['X'])\n",
    "print set(fp2['X']) - set(fp_sick['X'])\n",
    "print 'Old prob :: ', fp_sick['y'][fp_sick['X'].index(list(set(fp_sick['X']) - set(fp2['X']))[0])]\n",
    "print 'New prob :: ', grid_search2.best_estimator_.predict_proba(set(fp_sick['X']) - set(fp2['X']))[0][1]"
   ]
  },
  {
   "cell_type": "code",
   "execution_count": 72,
   "metadata": {
    "collapsed": false
   },
   "outputs": [
    {
     "name": "stdout",
     "output_type": "stream",
     "text": [
      "set([])\n",
      "set([u\"While there was a line of 4 customers, I saw the staff jokingly do nothing in front of my eyes while there was nothing left to do other than put the food into the boxes. This went on for 10 minutes. There were customers who didn't even have their orders taken.\\n\\nOn top of that they got multiple orders wrong, and there were only 4 customers on line! They had 4 people behind the counter. It's mind boggling how incompetent they were.\\n\\nOn top of the bad service, I puked up my lunch. It was gross and disgusting. \\n\\nI should've known better. If the service was that terrible then how do I know that the food is fresh, not passed the expiration date, how do I know that the cooks washed their hands.\\n\\nI don't. \\n\\nDon't go here. You'll get food poisoning.\", u\"The first thing I noticed when going here for lunch was the rap music that was blasting. This isn't a club/bar, it's a restaurant. I won't be going back just so I don't have to listen to that all through my lunch. \\n\\nThai iced tea, probably the best I've had and tom yum soup was decent, but Pad thai was not good, couldn't bring myself to finish it. Lacking in flavor all around.  The worst part was a few minutes after I left this place I felt sick to my stomach for a few hours. Wouldn't recommend this place.\"])\n",
      "New probs ::  0.486100277885 0.476961553429\n",
      "Old probs ::  [ 0.53096416  0.57360615]\n"
     ]
    }
   ],
   "source": [
    "# transform_doc_1 deproves false negative rate by two reviews\n",
    "print set(fn_sick['X']) - set(fn1['X'])\n",
    "print set(fn1['X']) - set(fn_sick['X'])\n",
    "print 'New probs :: ', fn1['y'][fn1['X'].index(list(set(fn1['X']) - set(fn_sick['X']))[0])], fn1['y'][fn1['X'].index(list(set(fn1['X']) - set(fn_sick['X']))[1])]\n",
    "print 'Old probs :: ', grid_search_sick.best_estimator_.predict_proba(set(fn1['X']) - set(fn_sick['X']))[:,1]"
   ]
  },
  {
   "cell_type": "code",
   "execution_count": 74,
   "metadata": {
    "collapsed": false
   },
   "outputs": [
    {
     "name": "stdout",
     "output_type": "stream",
     "text": [
      "set([])\n",
      "set([u\"The first thing I noticed when going here for lunch was the rap music that was blasting. This isn't a club/bar, it's a restaurant. I won't be going back just so I don't have to listen to that all through my lunch. \\n\\nThai iced tea, probably the best I've had and tom yum soup was decent, but Pad thai was not good, couldn't bring myself to finish it. Lacking in flavor all around.  The worst part was a few minutes after I left this place I felt sick to my stomach for a few hours. Wouldn't recommend this place.\"])\n",
      "Old prob ::  0.573606147071\n",
      "New prob ::  0.472581011559\n"
     ]
    }
   ],
   "source": [
    "# transform_doc_2 deproves false negative rate by one review\n",
    "print set(fn_sick['X']) - set(fn2['X'])\n",
    "print set(fn2['X']) - set(fn_sick['X'])\n",
    "print 'Old prob :: ', grid_search_sick.best_estimator_.predict_proba(set(fn2['X']) - set(fn_sick['X']))[0][1]\n",
    "print 'New prob :: ', fn2['y'][fn2['X'].index(list(set(fn2['X']) - set(fn_sick['X']))[0])]"
   ]
  },
  {
   "cell_type": "code",
   "execution_count": null,
   "metadata": {
    "collapsed": true
   },
   "outputs": [],
   "source": []
  }
 ],
 "metadata": {
  "kernelspec": {
   "display_name": "Python 2",
   "language": "python",
   "name": "python2"
  },
  "language_info": {
   "codemirror_mode": {
    "name": "ipython",
    "version": 2
   },
   "file_extension": ".py",
   "mimetype": "text/x-python",
   "name": "python",
   "nbconvert_exporter": "python",
   "pygments_lexer": "ipython2",
   "version": "2.7.9"
  }
 },
 "nbformat": 4,
 "nbformat_minor": 0
}
