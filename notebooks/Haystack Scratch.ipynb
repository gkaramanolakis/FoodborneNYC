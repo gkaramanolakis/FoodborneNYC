{
 "cells": [
  {
   "cell_type": "markdown",
   "metadata": {},
   "source": [
    "# Testing out some logging "
   ]
  },
  {
   "cell_type": "code",
   "execution_count": 25,
   "metadata": {
    "collapsed": true
   },
   "outputs": [],
   "source": [
    "import logging\n",
    "import sys\n",
    "config = {'logging_dir':'.'}\n",
    "def get_logger(appname=None, level='WARNING'):\n",
    "    \"\"\" Provides a system-level logger, accessible from any module.\n",
    "\n",
    "        Correct function signature is get_logger(__name__).\n",
    "        This will log from whatever module it was called in.\n",
    "\n",
    "        If appname is None, the root logger will be returned.\n",
    "    \"\"\"\n",
    "    logging.basicConfig(level=level)\n",
    "    logger = logging.getLogger(appname)\n",
    "    format = logging.Formatter(\"%(asctime)s - %(name)s - %(levelname)s - %(message)s\")\n",
    "    # log to std out\n",
    "    stream_handler = logging.StreamHandler(sys.stdout)\n",
    "    stream_handler.setFormatter(format)\n",
    "    logger.addHandler(stream_handler)\n",
    "    # log to the configured logfile dir\n",
    "    file_handler = logging.handlers.RotatingFileHandler('{}/{}.log'.format(config['logging_dir'], 'app'),\n",
    "                                               maxBytes=1e9,\n",
    "                                               backupCount=5)\n",
    "    file_handler.setFormatter(format)\n",
    "    logger.addHandler(file_handler)\n",
    "    return logger"
   ]
  },
  {
   "cell_type": "code",
   "execution_count": 26,
   "metadata": {
    "collapsed": false
   },
   "outputs": [],
   "source": [
    "logger = get_logger()"
   ]
  },
  {
   "cell_type": "code",
   "execution_count": 27,
   "metadata": {
    "collapsed": false
   },
   "outputs": [
    {
     "name": "stderr",
     "output_type": "stream",
     "text": [
      "CRITICAL:root:fuck\n"
     ]
    },
    {
     "name": "stdout",
     "output_type": "stream",
     "text": [
      "2016-09-15 11:14:10,468 - root - CRITICAL - fuck\n",
      "2016-09-15 11:14:10,468 - root - CRITICAL - fuck\n",
      "2016-09-15 11:14:10,468 - root - CRITICAL - fuck\n",
      "2016-09-15 11:14:10,468 - root - CRITICAL - fuck\n",
      "2016-09-15 11:14:10,468 - root - CRITICAL - fuck\n"
     ]
    }
   ],
   "source": [
    "logger.critical('fuck')"
   ]
  },
  {
   "cell_type": "code",
   "execution_count": 17,
   "metadata": {
    "collapsed": false
   },
   "outputs": [
    {
     "name": "stderr",
     "output_type": "stream",
     "text": [
      "INFO:root:shouldn't print\n"
     ]
    },
    {
     "name": "stdout",
     "output_type": "stream",
     "text": [
      "2016-09-15 10:58:34,871 - root - INFO - shouldn't print\n",
      "2016-09-15 10:58:34,871 - root - INFO - shouldn't print\n"
     ]
    }
   ],
   "source": [
    "logger.info(\"shouldn't print\")"
   ]
  },
  {
   "cell_type": "code",
   "execution_count": 18,
   "metadata": {
    "collapsed": false
   },
   "outputs": [
    {
     "name": "stderr",
     "output_type": "stream",
     "text": [
      "WARNING:root:should print\n"
     ]
    },
    {
     "name": "stdout",
     "output_type": "stream",
     "text": [
      "2016-09-15 10:58:35,216 - root - WARNING - should print\n",
      "2016-09-15 10:58:35,216 - root - WARNING - should print\n"
     ]
    }
   ],
   "source": [
    "logger.warning(\"should print\")"
   ]
  },
  {
   "cell_type": "code",
   "execution_count": 19,
   "metadata": {
    "collapsed": false
   },
   "outputs": [],
   "source": [
    "logger.setLevel('INFO')"
   ]
  },
  {
   "cell_type": "code",
   "execution_count": 20,
   "metadata": {
    "collapsed": false
   },
   "outputs": [
    {
     "name": "stderr",
     "output_type": "stream",
     "text": [
      "INFO:root:yo!\n"
     ]
    },
    {
     "name": "stdout",
     "output_type": "stream",
     "text": [
      "2016-09-15 10:58:36,511 - root - INFO - yo!\n",
      "2016-09-15 10:58:36,511 - root - INFO - yo!\n"
     ]
    }
   ],
   "source": [
    "logger.info('yo!')"
   ]
  },
  {
   "cell_type": "markdown",
   "metadata": {},
   "source": [
    "# Yelp ETL"
   ]
  },
  {
   "cell_type": "code",
   "execution_count": 1,
   "metadata": {
    "collapsed": false
   },
   "outputs": [],
   "source": [
    "from json import loads\n",
    "import pandas as pd\n",
    "from datetime import datetime\n",
    "from os import path\n",
    "from haystack.util.conversion import xstr"
   ]
  },
  {
   "cell_type": "code",
   "execution_count": 2,
   "metadata": {
    "collapsed": false
   },
   "outputs": [],
   "source": [
    "fname = '../haystack/sources/yelpfiles/yelp_businesses.json'"
   ]
  },
  {
   "cell_type": "code",
   "execution_count": 3,
   "metadata": {
    "collapsed": false
   },
   "outputs": [],
   "source": [
    "def yelp_business_dict(business_dict):\n",
    "    return OrderedDict([\n",
    "            ('business_id',xstr(business_dict['id'], encoding='utf8')),\n",
    "            ('name',xstr(business_dict['name'], encoding='utf8')),\n",
    "            ('phone',xstr(business_dict['phone'], encoding='utf8')),\n",
    "            ('rating',business_dict['rating']),\n",
    "            ('url',xstr(business_dict['url'], encoding='utf8')),\n",
    "            ('business_url',xstr(business_dict['business_url'], encoding='utf8')),\n",
    "            ('_last_updated',int(datetime.strptime(business_dict['time_updated'], \"%Y-%m-%dT%H:%M:%S\")\n",
    "                                        .strftime('%s'))),\n",
    "            ('is_closed',bool(business_dict['is_closed']))\n",
    "            ])\n",
    "        \n",
    "\n",
    "def yelp_location_dict(location_dict):\n",
    "    location = OrderedDict([\n",
    "                ('latitude',location_dict['coordinate']['latitude']),\n",
    "                ('longitude',location_dict['coordinate']['longitude']),\n",
    "                ('line1',xstr(location_dict['address'][0], encoding='utf8')),\n",
    "                ('line2',xstr(location_dict['address'][1], encoding='utf8')),\n",
    "                ('line3',xstr(location_dict['address'][2], encoding='utf8')),\n",
    "                ('city',xstr(location_dict['city'], encoding='utf8')),\n",
    "                ('country',xstr(location_dict['country'], encoding='utf8')),\n",
    "                ('postal_code',xstr(location_dict['postal_code'], encoding='utf8')),\n",
    "                ('state',xstr(location_dict['state'], encoding='utf8'))\n",
    "            ])\n",
    "    if location['latitude'] is not None:\n",
    "        location['bbox_width'] = 0\n",
    "        location['bbox_height'] = 0\n",
    "    else:\n",
    "        location['bbox_width'] = None\n",
    "        location['bbox_height'] = None\n",
    "    location['_identifier'] = xstr(location_identifier(location), encoding='utf8')\n",
    "    return OrderedDict(location)\n",
    "    \n",
    "def yelp_review_dict(review_dict):\n",
    "    # there is a corner case where a review['text] field\n",
    "    # will end in a '\\' which causes an escape of the \n",
    "    # quote around the cell in the csv table\n",
    "    # when Cypher does LOAD CSV.\n",
    "    # to fix this we just replace '\\' with '/'\n",
    "    return OrderedDict([\n",
    "        ('text',xstr(review_dict['text'].replace('\\\\', '/'), encoding='utf8')),\n",
    "        ('rating',review_dict['rating']),\n",
    "        ('_authored_date',int(datetime.strptime(review_dict['created'], '%Y-%m-%d')\n",
    "                                     .strftime('%s'))),\n",
    "        ('review_id',xstr(review_dict['id'], encoding='utf8'))\n",
    "    ])\n",
    "\n",
    "def yelp_category_dict(category_dict):\n",
    "    return OrderedDict([\n",
    "            ('alias', xstr(category_dict['alias'], encoding='utf8')),\n",
    "            ('title', xstr(category_dict['title'], encoding='utf8'))\n",
    "        ])\n",
    "\n",
    "def yelp_user_dict(user_dict):\n",
    "    photo_url = user_dict['photo_url'] if 'photo_url' in user_dict else ''\n",
    "    return OrderedDict([\n",
    "            ('name', xstr(user_dict['name'], encoding='utf8')),\n",
    "            ('photo_url', xstr(photo_url, encoding='utf8'))\n",
    "        ])"
   ]
  },
  {
   "cell_type": "code",
   "execution_count": null,
   "metadata": {
    "collapsed": false
   },
   "outputs": [],
   "source": []
  },
  {
   "cell_type": "code",
   "execution_count": 4,
   "metadata": {
    "collapsed": false
   },
   "outputs": [],
   "source": [
    "from haystack.data_models.sources import location_identifier\n",
    "from haystack.config import yelp_download_config as yelp_config"
   ]
  },
  {
   "cell_type": "code",
   "execution_count": 5,
   "metadata": {
    "collapsed": false
   },
   "outputs": [],
   "source": [
    "open('yelp_single.json', 'w').write(open(fname, 'rb').next())"
   ]
  },
  {
   "cell_type": "code",
   "execution_count": 6,
   "metadata": {
    "collapsed": true
   },
   "outputs": [],
   "source": [
    "import logging\n",
    "logger = logging.getLogger()\n",
    "logger.setLevel('INFO')"
   ]
  },
  {
   "cell_type": "code",
   "execution_count": 7,
   "metadata": {
    "collapsed": false
   },
   "outputs": [],
   "source": [
    "from haystack.util.timing import sec_to_hms\n",
    "from time import time\n",
    "from collections import OrderedDict\n",
    "from io import open\n",
    "import csv"
   ]
  },
  {
   "cell_type": "code",
   "execution_count": 12,
   "metadata": {
    "collapsed": false
   },
   "outputs": [
    {
     "name": "stdout",
     "output_type": "stream",
     "text": [
      "\n"
     ]
    }
   ],
   "source": [
    "def yelp_feed_to_graph_csv(filename):\n",
    "    num_businesses = sum(1 for line in open(filename, 'rb'))\n",
    "    logger.info('Writing out all yelp data to csv for ETL')\n",
    "    logger.info('{} total businesses... this usually takes about 10 minutes'.format(num_businesses))\n",
    "    start = time()\n",
    "    \n",
    "    # open csv file handles\n",
    "    prefix = yelp_config['neo_data_dir']\n",
    "    locations_file = open(path.join(prefix, 'locations.csv'), 'wb')\n",
    "    businesses_file = open(path.join(prefix, 'businesses.csv'), 'wb')\n",
    "    categories_file = open(path.join(prefix, 'categories.csv'), 'wb')\n",
    "    categories_businesses_file = open(path.join(prefix, 'categories_businesses.csv'), 'wb')\n",
    "    reviews_file = open(path.join(prefix, 'reviews.csv'), 'wb')\n",
    "    users_file = open(path.join(prefix, 'users.csv'), 'wb')\n",
    "    \n",
    "    # create the csv writers\n",
    "    locations_writer = csv.writer(locations_file, quoting=csv.QUOTE_MINIMAL, doublequote=True)\n",
    "    businesses_writer = csv.writer(businesses_file, quoting=csv.QUOTE_MINIMAL, doublequote=True)\n",
    "    categories_writer = csv.writer(categories_file, quoting=csv.QUOTE_MINIMAL, doublequote=True)\n",
    "    categories_businesses_writer = csv.writer(categories_businesses_file, quoting=csv.QUOTE_MINIMAL, doublequote=True)\n",
    "    reviews_writer = csv.writer(reviews_file, quoting=csv.QUOTE_MINIMAL, doublequote=True)\n",
    "    users_writer = csv.writer(users_file, quoting=csv.QUOTE_MINIMAL, doublequote=True)\n",
    "    \n",
    "    # iterate over the data and write it to file online \n",
    "    with open(filename, 'rb') as datafile:\n",
    "        # these must be cached as they can have duplicates\n",
    "        locations = {}\n",
    "        categories ={}\n",
    "        num_users = 0\n",
    "        \n",
    "        for i, line in enumerate(datafile):\n",
    "            try:\n",
    "                og_business_dict = loads(line)\n",
    "            except ValueError:\n",
    "                logger.warning(\"Broken JSON Element. Skipping...\")\n",
    "                continue\n",
    "            \n",
    "            created = int(datetime.now().strftime('%s'))\n",
    "            #logger.info(\"Syncing business {}\".format(i))\n",
    "            # create the location\n",
    "            location_dict = yelp_location_dict(og_business_dict['location'])\n",
    "            location_dict['_created'] = created\n",
    "            location_dict['_modified'] = created\n",
    "            locations[location_dict['_identifier']] = location_dict\n",
    "            \n",
    "            # create the business node\n",
    "            business_dict = yelp_business_dict(og_business_dict)\n",
    "            business_dict['location_id'] = location_dict['_identifier']\n",
    "            business_dict['_created'] = created\n",
    "            business_dict['_modified'] = created\n",
    "            if i == 0:\n",
    "                businesses_writer.writerow(business_dict.keys())\n",
    "            businesses_writer.writerow(business_dict.values())\n",
    "            \n",
    "            # create the categories\n",
    "            for j, category_dict in enumerate(og_business_dict['categories']):\n",
    "                category_dict = yelp_category_dict(category_dict)\n",
    "                category_dict['_created'] = created\n",
    "                category_dict['_modified'] = created\n",
    "                categories[category_dict['alias']] = category_dict\n",
    "                cat_biz_dict = OrderedDict({'business_id':business_dict['business_id'],\n",
    "                                'alias':category_dict['alias']})\n",
    "                if i == 0:\n",
    "                    categories_businesses_writer.writerow(cat_biz_dict.keys())\n",
    "                categories_businesses_writer.writerow(cat_biz_dict.values())\n",
    "                \n",
    "            l = len(og_business_dict['reviews'])\n",
    "            for j, review_dict in enumerate(og_business_dict['reviews']):\n",
    "                # print out a detailed status update\n",
    "                time_sofar = time() - start\n",
    "                h,m,s = sec_to_hms(time_sofar)\n",
    "                print '\\r Business: {0}/{1} Review: {2:>4}/{3:>4} - {4:.0f}:{5:.0f}:{6:.0f} so far'.format(\n",
    "                         i+1, num_businesses, j+1, l, h,m,s),\n",
    "                \n",
    "                # create the user\n",
    "                user_dict = yelp_user_dict(review_dict['user'])\n",
    "                user_dict['id'] = num_users\n",
    "                user_dict['_created'] = created\n",
    "                user_dict['_modified'] = created\n",
    "                num_users += 1\n",
    "                if i == 0:\n",
    "                    users_writer.writerow(user_dict.keys())\n",
    "                users_writer.writerow(user_dict.values())\n",
    "                \n",
    "                # create the review\n",
    "                review_dict = yelp_review_dict(review_dict)\n",
    "                review_dict['business_id'] = business_dict['business_id']\n",
    "                review_dict['user_id'] = user_dict['id']\n",
    "                review_dict['_created'] = created\n",
    "                review_dict['_modified'] = created\n",
    "                if i == 0:\n",
    "                    reviews_writer.writerow(review_dict.keys())\n",
    "                reviews_writer.writerow(review_dict.values())\n",
    "        \n",
    "        # write out the locations\n",
    "        for i, location_dict in enumerate(locations.values()):\n",
    "            if i == 0:\n",
    "                locations_writer.writerow(location_dict.keys())\n",
    "            locations_writer.writerow(location_dict.values()) \n",
    "            \n",
    "        # write out the categories\n",
    "        for i, category_dict in enumerate(categories.values()):\n",
    "            if i == 0:\n",
    "                categories_writer.writerow(category_dict.keys())\n",
    "            categories_writer.writerow(category_dict.values()) \n",
    "        \n",
    "        # close up file handles\n",
    "        locations_file.close()\n",
    "        businesses_file.close()\n",
    "        categories_file.close()\n",
    "        categories_businesses_file.close()\n",
    "        users_file.close()\n",
    "        reviews_file.close()\n",
    "        \n",
    "        logger.info(\"Successfully wrote all data to csv\")"
   ]
  },
  {
   "cell_type": "code",
   "execution_count": 13,
   "metadata": {
    "collapsed": false
   },
   "outputs": [
    {
     "name": "stderr",
     "output_type": "stream",
     "text": [
      "INFO:root:Writing out all yelp data to csv for ETL\n",
      "INFO:root:39006 total businesses... this usually takes about 10 minutes\n"
     ]
    },
    {
     "name": "stdout",
     "output_type": "stream",
     "text": [
      " Business: 39006/39006 Review:  367/ 424 - 0:6:6 so far "
     ]
    },
    {
     "name": "stderr",
     "output_type": "stream",
     "text": [
      "INFO:root:Successfully wrote all data to csv\n"
     ]
    },
    {
     "name": "stdout",
     "output_type": "stream",
     "text": [
      "\r",
      " Business: 39006/39006 Review:  368/ 424 - 0:6:6 so far \r",
      " Business: 39006/39006 Review:  369/ 424 - 0:6:6 so far \r",
      " Business: 39006/39006 Review:  370/ 424 - 0:6:6 so far \r",
      " Business: 39006/39006 Review:  371/ 424 - 0:6:6 so far \r",
      " Business: 39006/39006 Review:  372/ 424 - 0:6:6 so far \r",
      " Business: 39006/39006 Review:  373/ 424 - 0:6:6 so far \r",
      " Business: 39006/39006 Review:  374/ 424 - 0:6:6 so far \r",
      " Business: 39006/39006 Review:  375/ 424 - 0:6:6 so far \r",
      " Business: 39006/39006 Review:  376/ 424 - 0:6:6 so far \r",
      " Business: 39006/39006 Review:  377/ 424 - 0:6:6 so far \r",
      " Business: 39006/39006 Review:  378/ 424 - 0:6:6 so far \r",
      " Business: 39006/39006 Review:  379/ 424 - 0:6:6 so far \r",
      " Business: 39006/39006 Review:  380/ 424 - 0:6:6 so far \r",
      " Business: 39006/39006 Review:  381/ 424 - 0:6:6 so far \r",
      " Business: 39006/39006 Review:  382/ 424 - 0:6:6 so far \r",
      " Business: 39006/39006 Review:  383/ 424 - 0:6:6 so far \r",
      " Business: 39006/39006 Review:  384/ 424 - 0:6:6 so far \r",
      " Business: 39006/39006 Review:  385/ 424 - 0:6:6 so far \r",
      " Business: 39006/39006 Review:  386/ 424 - 0:6:6 so far \r",
      " Business: 39006/39006 Review:  387/ 424 - 0:6:6 so far \r",
      " Business: 39006/39006 Review:  388/ 424 - 0:6:6 so far \r",
      " Business: 39006/39006 Review:  389/ 424 - 0:6:6 so far \r",
      " Business: 39006/39006 Review:  390/ 424 - 0:6:6 so far \r",
      " Business: 39006/39006 Review:  391/ 424 - 0:6:6 so far \r",
      " Business: 39006/39006 Review:  392/ 424 - 0:6:6 so far \r",
      " Business: 39006/39006 Review:  393/ 424 - 0:6:6 so far \r",
      " Business: 39006/39006 Review:  394/ 424 - 0:6:6 so far \r",
      " Business: 39006/39006 Review:  395/ 424 - 0:6:6 so far \r",
      " Business: 39006/39006 Review:  396/ 424 - 0:6:6 so far \r",
      " Business: 39006/39006 Review:  397/ 424 - 0:6:6 so far \r",
      " Business: 39006/39006 Review:  398/ 424 - 0:6:6 so far \r",
      " Business: 39006/39006 Review:  399/ 424 - 0:6:6 so far \r",
      " Business: 39006/39006 Review:  400/ 424 - 0:6:6 so far \r",
      " Business: 39006/39006 Review:  401/ 424 - 0:6:6 so far \r",
      " Business: 39006/39006 Review:  402/ 424 - 0:6:6 so far \r",
      " Business: 39006/39006 Review:  403/ 424 - 0:6:6 so far \r",
      " Business: 39006/39006 Review:  404/ 424 - 0:6:6 so far \r",
      " Business: 39006/39006 Review:  405/ 424 - 0:6:6 so far \r",
      " Business: 39006/39006 Review:  406/ 424 - 0:6:6 so far \r",
      " Business: 39006/39006 Review:  407/ 424 - 0:6:6 so far \r",
      " Business: 39006/39006 Review:  408/ 424 - 0:6:6 so far \r",
      " Business: 39006/39006 Review:  409/ 424 - 0:6:6 so far \r",
      " Business: 39006/39006 Review:  410/ 424 - 0:6:6 so far \r",
      " Business: 39006/39006 Review:  411/ 424 - 0:6:6 so far \r",
      " Business: 39006/39006 Review:  412/ 424 - 0:6:6 so far \r",
      " Business: 39006/39006 Review:  413/ 424 - 0:6:6 so far \r",
      " Business: 39006/39006 Review:  414/ 424 - 0:6:6 so far \r",
      " Business: 39006/39006 Review:  415/ 424 - 0:6:6 so far \r",
      " Business: 39006/39006 Review:  416/ 424 - 0:6:6 so far \r",
      " Business: 39006/39006 Review:  417/ 424 - 0:6:6 so far \r",
      " Business: 39006/39006 Review:  418/ 424 - 0:6:6 so far \r",
      " Business: 39006/39006 Review:  419/ 424 - 0:6:6 so far \r",
      " Business: 39006/39006 Review:  420/ 424 - 0:6:6 so far \r",
      " Business: 39006/39006 Review:  421/ 424 - 0:6:6 so far \r",
      " Business: 39006/39006 Review:  422/ 424 - 0:6:6 so far \r",
      " Business: 39006/39006 Review:  423/ 424 - 0:6:6 so far \r",
      " Business: 39006/39006 Review:  424/ 424 - 0:6:6 so far\n"
     ]
    }
   ],
   "source": [
    "yelp_feed_to_graph_csv('../haystack/sources/yelpfiles/yelp_businesses.json')"
   ]
  },
  {
   "cell_type": "code",
   "execution_count": null,
   "metadata": {
    "collapsed": false
   },
   "outputs": [],
   "source": [
    "!cat /Users/thomaseffland/neo4j_data/import/businesses.csv"
   ]
  },
  {
   "cell_type": "code",
   "execution_count": 16,
   "metadata": {
    "collapsed": false
   },
   "outputs": [],
   "source": [
    "num_lines = sum(1 for line in open('../haystack/sources/yelpfiles/yelp_businesses.json', 'rb'))"
   ]
  },
  {
   "cell_type": "code",
   "execution_count": 17,
   "metadata": {
    "collapsed": false
   },
   "outputs": [
    {
     "name": "stdout",
     "output_type": "stream",
     "text": [
      "39006\n"
     ]
    }
   ],
   "source": [
    "print num_lines"
   ]
  },
  {
   "cell_type": "code",
   "execution_count": 14,
   "metadata": {
    "collapsed": true
   },
   "outputs": [],
   "source": [
    "from haystack.data_models.base import db"
   ]
  },
  {
   "cell_type": "code",
   "execution_count": 15,
   "metadata": {
    "collapsed": false
   },
   "outputs": [],
   "source": [
    "def create_node_string(filename, labels, fields):\n",
    "    labels_string = ':'.join(labels)\n",
    "    fields_string = ''\n",
    "    for field in fields:\n",
    "        fields_string += '{}: row.{},'.format(field, field)\n",
    "    fields_string = fields_string[:-1] # drop trailing ','\n",
    "    return \"\"\"\n",
    "    USING PERIODIC COMMIT\n",
    "    LOAD CSV WITH HEADERS FROM \"file:///{0}\" AS row\n",
    "    CREATE (:{1} {{{2}}});\"\"\".format(filename, labels_string, fields_string)\n",
    "\n",
    "def create_edge_string(filename, e1, e2, edge_label):\n",
    "    return \"\"\"\n",
    "    USING PERIODIC COMMIT\n",
    "    LOAD CSV WITH HEADERS FROM \"file:///{0}\" AS row\n",
    "    MATCH (e1:{e1[label]} {{{e1[index_name]}: row.{e1[col_name]}}})\n",
    "    MATCH (e2:{e2[label]} {{{e2[index_name]}: row.{e2[col_name]}}})\n",
    "    MERGE (e1)-[:{edge_label}]->(e2);\"\"\".format(filename, e1=e1, e2=e2, edge_label=edge_label)\n",
    "\n",
    "def cypher_bulk_create():\n",
    "    # create the location nodes\n",
    "    locations_statement = create_node_string('locations.csv',\n",
    "                                          ['Location'],\n",
    "                                          ['_created',\n",
    "                                           '_modified',\n",
    "                                           'latitude',\n",
    "                                           'longitude',\n",
    "                                           'line1',\n",
    "                                           'line2',\n",
    "                                           'line3',\n",
    "                                           'city',\n",
    "                                           'state',\n",
    "                                           'postal_code',\n",
    "                                           'country',\n",
    "                                           'bbox_height',\n",
    "                                           'bbox_width',\n",
    "                                           '_identifier'\n",
    "                                          ])\n",
    "    db.run(locations_statement)\n",
    "    \n",
    "    # create the business nodes\n",
    "    business_statement = create_node_string('businesses.csv',\n",
    "                                         ['YelpBusiness'],\n",
    "                                         ['_created',\n",
    "                                          '_modified',\n",
    "                                          'business_id',\n",
    "                                          'name',\n",
    "                                          'phone',\n",
    "                                          'rating',\n",
    "                                          'url',\n",
    "                                          'business_url',\n",
    "                                          '_last_updated',\n",
    "                                          'is_closed'\n",
    "                                         ])\n",
    "    db.run(business_statement)\n",
    "    \n",
    "    # create the reviews\n",
    "    reviews_statement = create_node_string('reviews.csv',\n",
    "                                         ['Document', 'YelpReview'],\n",
    "                                         ['_created',\n",
    "                                          '_modified',\n",
    "                                          'text',\n",
    "                                          'rating',\n",
    "                                          'review_id',\n",
    "                                          '_authored_date'\n",
    "                                         ])\n",
    "    db.run(reviews_statement)\n",
    "    \n",
    "    # create the categories\n",
    "    categories_statement = create_node_string('categories.csv',\n",
    "                                            ['YelpCategory'],\n",
    "                                            ['_created',\n",
    "                                             '_modified',\n",
    "                                             'alias',\n",
    "                                             'title'\n",
    "                                            ])\n",
    "    db.run(categories_statement)\n",
    "    \n",
    "    # create the users\n",
    "    users_statement = create_node_string('users.csv',\n",
    "                                        ['YelpUser'],\n",
    "                                        ['_created',\n",
    "                                         '_modified',\n",
    "                                         'id',\n",
    "                                         'name',\n",
    "                                         'photo_url'])\n",
    "    db.run(users_statement)\n",
    "    \n",
    "    # create indicies for each node type\n",
    "    db.run(\"CREATE INDEX ON :Location(_identifier);\")\n",
    "    db.run(\"CREATE INDEX ON :YelpBusiness(business_id);\")\n",
    "    db.run(\"CREATE INDEX ON :YelpCategory(alias);\")\n",
    "    db.run(\"CREATE INDEX ON :YelpReview(review_id);\")\n",
    "    db.run(\"CREATE INDEX ON :YelpUser(id);\")\n",
    "\n",
    "    \n",
    "    # create business->location relations\n",
    "    businesses_locations_statement = create_edge_string('businesses.csv',\n",
    "                                                      {'label':'YelpBusiness',\n",
    "                                                       'index_name':'business_id',\n",
    "                                                       'col_name':'business_id'},\n",
    "                                                      {'label':'Location',\n",
    "                                                       'index_name':'_identifier',\n",
    "                                                       'col_name':'location_id'},\n",
    "                                                      'LOCATED_AT')\n",
    "    db.run(businesses_locations_statement)\n",
    "    \n",
    "    # create business->category relations\n",
    "    categories_businesses_statement = create_edge_string('categories_businesses.csv',\n",
    "                                                         {'label':'YelpBusiness',\n",
    "                                                          'index_name':'business_id',\n",
    "                                                          'col_name':'business_id'},\n",
    "                                                         {'label':'YelpCategroy',\n",
    "                                                          'index_name':'alias',\n",
    "                                                          'col_name':'alias'},\n",
    "                                                         'HAS_CATEGORY')\n",
    "    db.run(categories_businesses_statement)\n",
    "    \n",
    "    # create the review->business relations\n",
    "    reviews_businesses_statement = create_edge_string('reviews.csv',\n",
    "                                                     {'label':'YelpReview',\n",
    "                                                      'index_name':'review_id',\n",
    "                                                      'col_name':'review_id'},\n",
    "                                                     {'label':'YelpBusiness',\n",
    "                                                      'index_name':'business_id',\n",
    "                                                      'col_name':'business_id'},\n",
    "                                                     'IS_REVIEW_OF')\n",
    "    db.run(reviews_businesses_statement)\n",
    "    \n",
    "    # create the user->review relations\n",
    "    users_reviews_statement = create_edge_string('reviews.csv',\n",
    "                                                 {'label':'YelpUser',\n",
    "                                                  'index_name':'id',\n",
    "                                                  'col_name':'user_id'},\n",
    "                                                 {'label':'YelpReview',\n",
    "                                                  'index_name':'review_id',\n",
    "                                                  'col_name':'review_id'},\n",
    "                                                 'AUTHORED')\n",
    "    db.run(users_reviews_statement)\n",
    "    logger.info('Yelp Data Bulk Insert Completed!')\n",
    "    "
   ]
  },
  {
   "cell_type": "code",
   "execution_count": 16,
   "metadata": {
    "collapsed": false,
    "scrolled": false
   },
   "outputs": [
    {
     "name": "stderr",
     "output_type": "stream",
     "text": [
      "INFO:neo4j.bolt:~~ [CONNECT] ('localhost', 7687)\n",
      "INFO:neo4j.bolt:C: [HANDSHAKE] 0x6060B017 [1, 0, 0, 0]\n",
      "INFO:neo4j.bolt:S: [HANDSHAKE] 1\n",
      "INFO:neo4j.bolt:C: INIT u'py2neo/3.1.2' {'credentials': 'fbnyc', 'scheme': 'basic', 'principal': 'neo4j'}\n",
      "INFO:neo4j.bolt:S: SUCCESS {}\n",
      "INFO:neo4j.bolt:C: RUN u'\\n    USING PERIODIC COMMIT\\n    LOAD CSV WITH HEADERS FROM \"file:///locations.csv\" AS row\\n    CREATE (:Location {_created: row._created,_modified: row._modified,latitude: row.latitude,longitude: row.longitude,line1: row.line1,line2: row.line2,line3: row.line3,city: row.city,state: row.state,postal_code: row.postal_code,country: row.country,bbox_height: row.bbox_height,bbox_width: row.bbox_width,_identifier: row._identifier});' {}\n",
      "INFO:neo4j.bolt:C: PULL_ALL \n",
      "INFO:neo4j.bolt:S: SUCCESS {u'fields': []}\n",
      "INFO:neo4j.bolt:S: SUCCESS {u'type': u'w', u'stats': {u'labels-added': 35820, u'nodes-created': 35820, u'properties-set': 318203}}\n",
      "INFO:neo4j.bolt:C: RUN u'\\n    USING PERIODIC COMMIT\\n    LOAD CSV WITH HEADERS FROM \"file:///businesses.csv\" AS row\\n    CREATE (:YelpBusiness {_created: row._created,_modified: row._modified,business_id: row.business_id,name: row.name,phone: row.phone,rating: row.rating,url: row.url,business_url: row.business_url,_last_updated: row._last_updated,is_closed: row.is_closed});' {}\n",
      "INFO:neo4j.bolt:C: PULL_ALL \n",
      "INFO:neo4j.bolt:S: SUCCESS {u'fields': []}\n",
      "INFO:neo4j.bolt:S: SUCCESS {u'type': u'w', u'stats': {u'labels-added': 39006, u'nodes-created': 39006, u'properties-set': 366914}}\n",
      "INFO:neo4j.bolt:C: RUN u'\\n    USING PERIODIC COMMIT\\n    LOAD CSV WITH HEADERS FROM \"file:///reviews.csv\" AS row\\n    CREATE (:Document:YelpReview {_created: row._created,_modified: row._modified,text: row.text,rating: row.rating,review_id: row.review_id,_authored_date: row._authored_date});' {}\n",
      "INFO:neo4j.bolt:C: PULL_ALL \n",
      "INFO:neo4j.bolt:S: SUCCESS {u'fields': []}\n",
      "INFO:neo4j.bolt:S: SUCCESS {u'type': u'w', u'stats': {u'labels-added': 5927162, u'nodes-created': 2963581, u'properties-set': 17781486}}\n",
      "INFO:neo4j.bolt:C: RUN u'\\n    USING PERIODIC COMMIT\\n    LOAD CSV WITH HEADERS FROM \"file:///categories.csv\" AS row\\n    CREATE (:YelpCategory {_created: row._created,_modified: row._modified,alias: row.alias,title: row.title});' {}\n",
      "INFO:neo4j.bolt:C: PULL_ALL \n",
      "INFO:neo4j.bolt:S: SUCCESS {u'fields': []}\n",
      "INFO:neo4j.bolt:S: SUCCESS {u'type': u'w', u'stats': {u'labels-added': 374, u'nodes-created': 374, u'properties-set': 1496}}\n",
      "INFO:neo4j.bolt:C: RUN u'\\n    USING PERIODIC COMMIT\\n    LOAD CSV WITH HEADERS FROM \"file:///users.csv\" AS row\\n    CREATE (:YelpUser {_created: row._created,_modified: row._modified,id: row.id,name: row.name,photo_url: row.photo_url});' {}\n",
      "INFO:neo4j.bolt:C: PULL_ALL \n",
      "INFO:neo4j.bolt:S: SUCCESS {u'fields': []}\n",
      "INFO:neo4j.bolt:S: SUCCESS {u'type': u'w', u'stats': {u'labels-added': 2963581, u'nodes-created': 2963581, u'properties-set': 14264159}}\n",
      "INFO:neo4j.bolt:C: RUN u'CREATE INDEX ON :Location(_identifier);' {}\n",
      "INFO:neo4j.bolt:C: PULL_ALL \n",
      "INFO:neo4j.bolt:S: SUCCESS {u'fields': []}\n",
      "INFO:neo4j.bolt:S: SUCCESS {u'type': u's'}\n",
      "INFO:neo4j.bolt:C: RUN u'CREATE INDEX ON :YelpBusiness(business_id);' {}\n",
      "INFO:neo4j.bolt:C: PULL_ALL \n",
      "INFO:neo4j.bolt:S: SUCCESS {u'fields': []}\n",
      "INFO:neo4j.bolt:S: SUCCESS {u'type': u's'}\n",
      "INFO:neo4j.bolt:C: RUN u'CREATE INDEX ON :YelpCategory(alias);' {}\n",
      "INFO:neo4j.bolt:C: PULL_ALL \n",
      "INFO:neo4j.bolt:S: SUCCESS {u'fields': []}\n",
      "INFO:neo4j.bolt:S: SUCCESS {u'type': u's'}\n",
      "INFO:neo4j.bolt:C: RUN u'CREATE INDEX ON :YelpReview(review_id);' {}\n",
      "INFO:neo4j.bolt:C: PULL_ALL \n",
      "INFO:neo4j.bolt:S: SUCCESS {u'fields': []}\n",
      "INFO:neo4j.bolt:S: SUCCESS {u'type': u's'}\n",
      "INFO:neo4j.bolt:C: RUN u'CREATE INDEX ON :YelpUser(id);' {}\n",
      "INFO:neo4j.bolt:C: PULL_ALL \n",
      "INFO:neo4j.bolt:S: SUCCESS {u'fields': []}\n",
      "INFO:neo4j.bolt:S: SUCCESS {u'type': u's'}\n",
      "INFO:neo4j.bolt:C: RUN u'\\n    USING PERIODIC COMMIT\\n    LOAD CSV WITH HEADERS FROM \"file:///businesses.csv\" AS row\\n    MATCH (e1:YelpBusiness {business_id: row.business_id})\\n    MATCH (e2:Location {_identifier: row.location_id})\\n    MERGE (e1)-[:LOCATED_AT]->(e2);' {}\n",
      "INFO:neo4j.bolt:C: PULL_ALL \n",
      "INFO:neo4j.bolt:S: SUCCESS {u'fields': []}\n",
      "INFO:neo4j.bolt:S: SUCCESS {u'type': u'w', u'stats': {u'relationships-created': 39006}}\n",
      "INFO:neo4j.bolt:C: RUN u'\\n    USING PERIODIC COMMIT\\n    LOAD CSV WITH HEADERS FROM \"file:///categories_businesses.csv\" AS row\\n    MATCH (e1:YelpBusiness {business_id: row.business_id})\\n    MATCH (e2:YelpCategroy {alias: row.alias})\\n    MERGE (e1)-[:HAS_CATEGORY]->(e2);' {}\n",
      "INFO:neo4j.bolt:C: PULL_ALL \n",
      "INFO:neo4j.bolt:S: SUCCESS {u'fields': []}\n",
      "INFO:neo4j.bolt:S: SUCCESS {u'type': u'w'}\n",
      "INFO:neo4j.bolt:C: RUN u'\\n    USING PERIODIC COMMIT\\n    LOAD CSV WITH HEADERS FROM \"file:///reviews.csv\" AS row\\n    MATCH (e1:YelpReview {review_id: row.review_id})\\n    MATCH (e2:YelpBusiness {business_id: row.business_id})\\n    MERGE (e1)-[:IS_REVIEW_OF]->(e2);' {}\n",
      "INFO:neo4j.bolt:C: PULL_ALL \n"
     ]
    },
    {
     "ename": "KeyboardInterrupt",
     "evalue": "",
     "output_type": "error",
     "traceback": [
      "\u001b[0;31m---------------------------------------------------------------------------\u001b[0m",
      "\u001b[0;31mKeyboardInterrupt\u001b[0m                         Traceback (most recent call last)",
      "\u001b[0;32m<ipython-input-16-9eff8aeadb79>\u001b[0m in \u001b[0;36m<module>\u001b[0;34m()\u001b[0m\n\u001b[1;32m      1\u001b[0m \u001b[0mstart\u001b[0m \u001b[0;34m=\u001b[0m \u001b[0mtime\u001b[0m\u001b[0;34m(\u001b[0m\u001b[0;34m)\u001b[0m\u001b[0;34m\u001b[0m\u001b[0m\n\u001b[0;32m----> 2\u001b[0;31m \u001b[0mcypher_bulk_create\u001b[0m\u001b[0;34m(\u001b[0m\u001b[0;34m)\u001b[0m\u001b[0;34m\u001b[0m\u001b[0m\n\u001b[0m\u001b[1;32m      3\u001b[0m \u001b[0mtotal\u001b[0m \u001b[0;34m=\u001b[0m \u001b[0mtime\u001b[0m\u001b[0;34m(\u001b[0m\u001b[0;34m)\u001b[0m \u001b[0;34m-\u001b[0m \u001b[0mstart\u001b[0m\u001b[0;34m\u001b[0m\u001b[0m\n\u001b[1;32m      4\u001b[0m \u001b[0;32mprint\u001b[0m \u001b[0mtotal\u001b[0m\u001b[0;34m\u001b[0m\u001b[0m\n",
      "\u001b[0;32m<ipython-input-15-952623feb8c0>\u001b[0m in \u001b[0;36mcypher_bulk_create\u001b[0;34m()\u001b[0m\n\u001b[1;32m    126\u001b[0m                                                       'col_name':'business_id'},\n\u001b[1;32m    127\u001b[0m                                                      'IS_REVIEW_OF')\n\u001b[0;32m--> 128\u001b[0;31m     \u001b[0mdb\u001b[0m\u001b[0;34m.\u001b[0m\u001b[0mrun\u001b[0m\u001b[0;34m(\u001b[0m\u001b[0mreviews_businesses_statement\u001b[0m\u001b[0;34m)\u001b[0m\u001b[0;34m\u001b[0m\u001b[0m\n\u001b[0m\u001b[1;32m    129\u001b[0m \u001b[0;34m\u001b[0m\u001b[0m\n\u001b[1;32m    130\u001b[0m     \u001b[0;31m# create the user->review relations\u001b[0m\u001b[0;34m\u001b[0m\u001b[0;34m\u001b[0m\u001b[0m\n",
      "\u001b[0;32m/Users/thomaseffland/.virtualenvs/health/lib/python2.7/site-packages/py2neo-3.1.2-py2.7.egg/py2neo/database/__init__.pyc\u001b[0m in \u001b[0;36mrun\u001b[0;34m(self, statement, parameters, **kwparameters)\u001b[0m\n\u001b[1;32m    729\u001b[0m         \u001b[0;34m:\u001b[0m\u001b[0;32mreturn\u001b[0m\u001b[0;34m:\u001b[0m\u001b[0;34m\u001b[0m\u001b[0m\n\u001b[1;32m    730\u001b[0m         \"\"\"\n\u001b[0;32m--> 731\u001b[0;31m         \u001b[0;32mreturn\u001b[0m \u001b[0mself\u001b[0m\u001b[0;34m.\u001b[0m\u001b[0mbegin\u001b[0m\u001b[0;34m(\u001b[0m\u001b[0mautocommit\u001b[0m\u001b[0;34m=\u001b[0m\u001b[0mTrue\u001b[0m\u001b[0;34m)\u001b[0m\u001b[0;34m.\u001b[0m\u001b[0mrun\u001b[0m\u001b[0;34m(\u001b[0m\u001b[0mstatement\u001b[0m\u001b[0;34m,\u001b[0m \u001b[0mparameters\u001b[0m\u001b[0;34m,\u001b[0m \u001b[0;34m**\u001b[0m\u001b[0mkwparameters\u001b[0m\u001b[0;34m)\u001b[0m\u001b[0;34m\u001b[0m\u001b[0m\n\u001b[0m\u001b[1;32m    732\u001b[0m \u001b[0;34m\u001b[0m\u001b[0m\n\u001b[1;32m    733\u001b[0m     \u001b[0;32mdef\u001b[0m \u001b[0mseparate\u001b[0m\u001b[0;34m(\u001b[0m\u001b[0mself\u001b[0m\u001b[0;34m,\u001b[0m \u001b[0msubgraph\u001b[0m\u001b[0;34m)\u001b[0m\u001b[0;34m:\u001b[0m\u001b[0;34m\u001b[0m\u001b[0m\n",
      "\u001b[0;32m/Users/thomaseffland/.virtualenvs/health/lib/python2.7/site-packages/py2neo-3.1.2-py2.7.egg/py2neo/database/__init__.pyc\u001b[0m in \u001b[0;36mrun\u001b[0;34m(self, statement, parameters, **kwparameters)\u001b[0m\n\u001b[1;32m   1275\u001b[0m         \u001b[0mself\u001b[0m\u001b[0;34m.\u001b[0m\u001b[0msources\u001b[0m\u001b[0;34m.\u001b[0m\u001b[0mappend\u001b[0m\u001b[0;34m(\u001b[0m\u001b[0msource\u001b[0m\u001b[0;34m)\u001b[0m\u001b[0;34m\u001b[0m\u001b[0m\n\u001b[1;32m   1276\u001b[0m         \u001b[0;32mif\u001b[0m \u001b[0mself\u001b[0m\u001b[0;34m.\u001b[0m\u001b[0mautocommit\u001b[0m\u001b[0;34m:\u001b[0m\u001b[0;34m\u001b[0m\u001b[0m\n\u001b[0;32m-> 1277\u001b[0;31m             \u001b[0mself\u001b[0m\u001b[0;34m.\u001b[0m\u001b[0mfinish\u001b[0m\u001b[0;34m(\u001b[0m\u001b[0;34m)\u001b[0m\u001b[0;34m\u001b[0m\u001b[0m\n\u001b[0m\u001b[1;32m   1278\u001b[0m         \u001b[0;32mreturn\u001b[0m \u001b[0mCursor\u001b[0m\u001b[0;34m(\u001b[0m\u001b[0msource\u001b[0m\u001b[0;34m)\u001b[0m\u001b[0;34m\u001b[0m\u001b[0m\n\u001b[1;32m   1279\u001b[0m \u001b[0;34m\u001b[0m\u001b[0m\n",
      "\u001b[0;32m/Users/thomaseffland/.virtualenvs/health/lib/python2.7/site-packages/py2neo-3.1.2-py2.7.egg/py2neo/database/__init__.pyc\u001b[0m in \u001b[0;36mfinish\u001b[0;34m(self)\u001b[0m\n\u001b[1;32m   1294\u001b[0m \u001b[0;34m\u001b[0m\u001b[0m\n\u001b[1;32m   1295\u001b[0m     \u001b[0;32mdef\u001b[0m \u001b[0mfinish\u001b[0m\u001b[0;34m(\u001b[0m\u001b[0mself\u001b[0m\u001b[0;34m)\u001b[0m\u001b[0;34m:\u001b[0m\u001b[0;34m\u001b[0m\u001b[0m\n\u001b[0;32m-> 1296\u001b[0;31m         \u001b[0mself\u001b[0m\u001b[0;34m.\u001b[0m\u001b[0m_sync\u001b[0m\u001b[0;34m(\u001b[0m\u001b[0;34m)\u001b[0m\u001b[0;34m\u001b[0m\u001b[0m\n\u001b[0m\u001b[1;32m   1297\u001b[0m         \u001b[0mTransaction\u001b[0m\u001b[0;34m.\u001b[0m\u001b[0mfinish\u001b[0m\u001b[0;34m(\u001b[0m\u001b[0mself\u001b[0m\u001b[0;34m)\u001b[0m\u001b[0;34m\u001b[0m\u001b[0m\n\u001b[1;32m   1298\u001b[0m         \u001b[0mself\u001b[0m\u001b[0;34m.\u001b[0m\u001b[0msession\u001b[0m\u001b[0;34m.\u001b[0m\u001b[0mclose\u001b[0m\u001b[0;34m(\u001b[0m\u001b[0;34m)\u001b[0m\u001b[0;34m\u001b[0m\u001b[0m\n",
      "\u001b[0;32m/Users/thomaseffland/.virtualenvs/health/lib/python2.7/site-packages/py2neo-3.1.2-py2.7.egg/py2neo/database/__init__.pyc\u001b[0m in \u001b[0;36m_sync\u001b[0;34m(self)\u001b[0m\n\u001b[1;32m   1284\u001b[0m             \u001b[0msource\u001b[0m \u001b[0;34m=\u001b[0m \u001b[0mself\u001b[0m\u001b[0;34m.\u001b[0m\u001b[0msources\u001b[0m\u001b[0;34m.\u001b[0m\u001b[0mpop\u001b[0m\u001b[0;34m(\u001b[0m\u001b[0;36m0\u001b[0m\u001b[0;34m)\u001b[0m\u001b[0;34m\u001b[0m\u001b[0m\n\u001b[1;32m   1285\u001b[0m             \u001b[0;32mwhile\u001b[0m \u001b[0;32mnot\u001b[0m \u001b[0msource\u001b[0m\u001b[0;34m.\u001b[0m\u001b[0mloaded\u001b[0m\u001b[0;34m:\u001b[0m\u001b[0;34m\u001b[0m\u001b[0m\n\u001b[0;32m-> 1286\u001b[0;31m                 \u001b[0mconnection\u001b[0m\u001b[0;34m.\u001b[0m\u001b[0mfetch\u001b[0m\u001b[0;34m(\u001b[0m\u001b[0;34m)\u001b[0m\u001b[0;34m\u001b[0m\u001b[0m\n\u001b[0m\u001b[1;32m   1287\u001b[0m \u001b[0;34m\u001b[0m\u001b[0m\n\u001b[1;32m   1288\u001b[0m     \u001b[0;32mdef\u001b[0m \u001b[0m_post\u001b[0m\u001b[0;34m(\u001b[0m\u001b[0mself\u001b[0m\u001b[0;34m,\u001b[0m \u001b[0mcommit\u001b[0m\u001b[0;34m=\u001b[0m\u001b[0mFalse\u001b[0m\u001b[0;34m)\u001b[0m\u001b[0;34m:\u001b[0m\u001b[0;34m\u001b[0m\u001b[0m\n",
      "\u001b[0;32m/Users/thomaseffland/.virtualenvs/health/lib/python2.7/site-packages/py2neo-3.1.2-py2.7.egg/py2neo/packages/neo4j/v1/bolt.pyc\u001b[0m in \u001b[0;36mfetch\u001b[0;34m(self)\u001b[0m\n\u001b[1;32m    320\u001b[0m         \u001b[0munpack\u001b[0m \u001b[0;34m=\u001b[0m \u001b[0mUnpacker\u001b[0m\u001b[0;34m(\u001b[0m\u001b[0mraw\u001b[0m\u001b[0;34m)\u001b[0m\u001b[0;34m.\u001b[0m\u001b[0munpack\u001b[0m\u001b[0;34m\u001b[0m\u001b[0m\n\u001b[1;32m    321\u001b[0m         \u001b[0;32mtry\u001b[0m\u001b[0;34m:\u001b[0m\u001b[0;34m\u001b[0m\u001b[0m\n\u001b[0;32m--> 322\u001b[0;31m             \u001b[0mraw\u001b[0m\u001b[0;34m.\u001b[0m\u001b[0mwritelines\u001b[0m\u001b[0;34m(\u001b[0m\u001b[0mself\u001b[0m\u001b[0;34m.\u001b[0m\u001b[0mchannel\u001b[0m\u001b[0;34m.\u001b[0m\u001b[0mchunk_reader\u001b[0m\u001b[0;34m(\u001b[0m\u001b[0;34m)\u001b[0m\u001b[0;34m)\u001b[0m\u001b[0;34m\u001b[0m\u001b[0m\n\u001b[0m\u001b[1;32m    323\u001b[0m         \u001b[0;32mexcept\u001b[0m \u001b[0mProtocolError\u001b[0m\u001b[0;34m:\u001b[0m\u001b[0;34m\u001b[0m\u001b[0m\n\u001b[1;32m    324\u001b[0m             \u001b[0mself\u001b[0m\u001b[0;34m.\u001b[0m\u001b[0mdefunct\u001b[0m \u001b[0;34m=\u001b[0m \u001b[0mTrue\u001b[0m\u001b[0;34m\u001b[0m\u001b[0m\n",
      "\u001b[0;32m/Users/thomaseffland/.virtualenvs/health/lib/python2.7/site-packages/py2neo-3.1.2-py2.7.egg/py2neo/packages/neo4j/v1/bolt.pyc\u001b[0m in \u001b[0;36mchunk_reader\u001b[0;34m(self)\u001b[0m\n\u001b[1;32m    171\u001b[0m         \u001b[0mchunk_size\u001b[0m \u001b[0;34m=\u001b[0m \u001b[0;34m-\u001b[0m\u001b[0;36m1\u001b[0m\u001b[0;34m\u001b[0m\u001b[0m\n\u001b[1;32m    172\u001b[0m         \u001b[0;32mwhile\u001b[0m \u001b[0mchunk_size\u001b[0m \u001b[0;34m!=\u001b[0m \u001b[0;36m0\u001b[0m\u001b[0;34m:\u001b[0m\u001b[0;34m\u001b[0m\u001b[0m\n\u001b[0;32m--> 173\u001b[0;31m             \u001b[0mchunk_header\u001b[0m \u001b[0;34m=\u001b[0m \u001b[0mself\u001b[0m\u001b[0;34m.\u001b[0m\u001b[0m_recv\u001b[0m\u001b[0;34m(\u001b[0m\u001b[0;36m2\u001b[0m\u001b[0;34m)\u001b[0m\u001b[0;34m\u001b[0m\u001b[0m\n\u001b[0m\u001b[1;32m    174\u001b[0m             \u001b[0mchunk_size\u001b[0m\u001b[0;34m,\u001b[0m \u001b[0;34m=\u001b[0m \u001b[0mstruct_unpack_from\u001b[0m\u001b[0;34m(\u001b[0m\u001b[0;34m\">H\"\u001b[0m\u001b[0;34m,\u001b[0m \u001b[0mchunk_header\u001b[0m\u001b[0;34m)\u001b[0m\u001b[0;34m\u001b[0m\u001b[0m\n\u001b[1;32m    175\u001b[0m             \u001b[0;32mif\u001b[0m \u001b[0mchunk_size\u001b[0m \u001b[0;34m>\u001b[0m \u001b[0;36m0\u001b[0m\u001b[0;34m:\u001b[0m\u001b[0;34m\u001b[0m\u001b[0m\n",
      "\u001b[0;32m/Users/thomaseffland/.virtualenvs/health/lib/python2.7/site-packages/py2neo-3.1.2-py2.7.egg/py2neo/packages/neo4j/v1/bolt.pyc\u001b[0m in \u001b[0;36m_recv\u001b[0;34m(self, size)\u001b[0m\n\u001b[1;32m    149\u001b[0m         \u001b[0;32mwhile\u001b[0m \u001b[0mremaining\u001b[0m \u001b[0;34m>\u001b[0m \u001b[0;36m0\u001b[0m\u001b[0;34m:\u001b[0m\u001b[0;34m\u001b[0m\u001b[0m\n\u001b[1;32m    150\u001b[0m             \u001b[0;31m# Read up to the required amount remaining\u001b[0m\u001b[0;34m\u001b[0m\u001b[0;34m\u001b[0m\u001b[0m\n\u001b[0;32m--> 151\u001b[0;31m             \u001b[0mb\u001b[0m \u001b[0;34m=\u001b[0m \u001b[0mself\u001b[0m\u001b[0;34m.\u001b[0m\u001b[0msocket\u001b[0m\u001b[0;34m.\u001b[0m\u001b[0mrecv\u001b[0m\u001b[0;34m(\u001b[0m\u001b[0;36m8192\u001b[0m\u001b[0;34m)\u001b[0m\u001b[0;34m\u001b[0m\u001b[0m\n\u001b[0m\u001b[1;32m    152\u001b[0m             \u001b[0;32mif\u001b[0m \u001b[0mb\u001b[0m\u001b[0;34m:\u001b[0m\u001b[0;34m\u001b[0m\u001b[0m\n\u001b[1;32m    153\u001b[0m                 \u001b[0;32mif\u001b[0m \u001b[0m__debug__\u001b[0m\u001b[0;34m:\u001b[0m \u001b[0mlog_debug\u001b[0m\u001b[0;34m(\u001b[0m\u001b[0;34m\"S: %s\"\u001b[0m\u001b[0;34m,\u001b[0m \u001b[0;34m\":\"\u001b[0m\u001b[0;34m.\u001b[0m\u001b[0mjoin\u001b[0m\u001b[0;34m(\u001b[0m\u001b[0mmap\u001b[0m\u001b[0;34m(\u001b[0m\u001b[0mhex2\u001b[0m\u001b[0;34m,\u001b[0m \u001b[0mb\u001b[0m\u001b[0;34m)\u001b[0m\u001b[0;34m)\u001b[0m\u001b[0;34m)\u001b[0m\u001b[0;34m\u001b[0m\u001b[0m\n",
      "\u001b[0;31mKeyboardInterrupt\u001b[0m: "
     ]
    }
   ],
   "source": [
    "start = time()\n",
    "cypher_bulk_create()\n",
    "total = time() - start\n",
    "print total"
   ]
  },
  {
   "cell_type": "code",
   "execution_count": 124,
   "metadata": {
    "collapsed": false
   },
   "outputs": [
    {
     "name": "stdout",
     "output_type": "stream",
     "text": [
      "http://localhost:7474/db/data/transaction\n"
     ]
    }
   ],
   "source": [
    "print db."
   ]
  },
  {
   "cell_type": "code",
   "execution_count": 37,
   "metadata": {
    "collapsed": false
   },
   "outputs": [
    {
     "name": "stdout",
     "output_type": "stream",
     "text": [
      "latitude,longitude,line1,line2,line3,city,country,postal_code,state,bbox_width,bbox_height,_identifier,_created,_modified\r\n",
      "40.72061,-73.84451,107-16 71st Avenue,,,Forest Hills,US,11375,NY,0.0,0.0,107-16 71st Avenue |  |  | Forest Hills | NY | 11375 | 0 | 0,1474352437.0,1474352437.0\r\n"
     ]
    }
   ],
   "source": [
    "cat /Users/thomaseffland/neo4j_data/import/locations.csv"
   ]
  },
  {
   "cell_type": "code",
   "execution_count": 11,
   "metadata": {
    "collapsed": false
   },
   "outputs": [
    {
     "name": "stdout",
     "output_type": "stream",
     "text": [
      "1423026000,1474381511,1474381511,gvWzAiMrFm9AgfSN2I8Miw,3,-IykNeuM4IP_c3QxDuB_GQ,\"T'. See debug.log for more details, reference 978ede58-da87-43f3-ac84-12b503537811.\r\n",
      "2016-09-20 16:27:03.242+0000 ERROR [o.n.b.v.r.i.ErrorReporter] Client triggered an unexpected error [UnknownError]: At /Users/thomaseffland/neo4j_data/import/reviews.csv:53127 -  there's a field starting with a quote and whereas it ends that quote there seems to be characters in that field after that ending quote. That isn't supported. This is what I read: 'It has definitely gone downhill. I am not sure if the old chef is still there, but clearly someone inside the kitchen does not know how to cook food.\r\n",
      "\r\n",
      "The first dish I ordered was the fried prawns with fried sweet condense milk. The shrimp wasn't too bad, but the fried sweet condense milk was cold inside. I informed them that it was cold and they quickly reheated it. I thought it was nice of them to quickly try and rectify the situation. But it came out burnt. :-\\\r\n",
      "\r\n",
      "The second dish I had problems with was the Fish Maw Soup. What I disliked wasn't about the quality of food, but more of the service. I had a party of 14 people and requested portions large enough that can feed the entire group with possible refills. The waiter was confident about their large size and was very insistent that it was sufficent enough. When the soup came out and was distributed evenly into 14 bowls, it was half full. :-\\\r\n",
      "\r\n",
      "The third dish was the Sticky Rice with Crabs for a whopping $85. It was decent until I bit into shards of scattered shells. I have never encountered so many small pieces of wandering shells in my rice before. It's like picking needles out of the haystack. :-\\\r\n",
      "\r\n",
      "Overall -- I felt cheated. My teeth hurts. :-\",2840796\r\n",
      "1421038800,1474381508,1474381508,5f3M0k7mTjrKoQFJW-PFzg,3,-IygCr86HZ1gZLJHpXpZuw,Good food and beer selection. Just wish there weren't so many kids in a BEER garden. The place even has special high chairs for them. When did it become okay for babies to be in bars?,11091\r\n",
      "--\r\n",
      "1423026000,1474381511,1474381511,gvWzAiMrFm9AgfSN2I8Miw,3,-IykNeuM4IP_c3QxDuB_GQ,\"T', reference 978ede58-da87-43f3-ac84-12b503537811. At /Users/thomaseffland/neo4j_data/import/reviews.csv:53127 -  there's a field starting with a quote and whereas it ends that quote there seems to be characters in that field after that ending quote. That isn't supported. This is what I read: 'It has definitely gone downhill. I am not sure if the old chef is still there, but clearly someone inside the kitchen does not know how to cook food.\r\n",
      "\r\n",
      "The first dish I ordered was the fried prawns with fried sweet condense milk. The shrimp wasn't too bad, but the fried sweet condense milk was cold inside. I informed them that it was cold and they quickly reheated it. I thought it was nice of them to quickly try and rectify the situation. But it came out burnt. :-\\\r\n",
      "\r\n",
      "The second dish I had problems with was the Fish Maw Soup. What I disliked wasn't about the quality of food, but more of the service. I had a party of 14 people and requested portions large enough that can feed the entire group with possible refills. The waiter was confident about their large size and was very insistent that it was sufficent enough. When the soup came out and was distributed evenly into 14 bowls, it was half full. :-\\\r\n",
      "\r\n",
      "The third dish was the Sticky Rice with Crabs for a whopping $85. It was decent until I bit into shards of scattered shells. I have never encountered so many small pieces of wandering shells in my rice before. It's like picking needles out of the haystack. :-\\\r\n",
      "\r\n",
      "Overall -- I felt cheated. My teeth hurts. :-\",2840796\r\n",
      "1421038800,1474381508,1474381508,5f3M0k7mTjrKoQFJW-PFzg,3,-IygCr86HZ1gZLJHpXpZuw,Good food and beer selection. Just wish there weren't so many kids in a BEER garden. The place even has special high chairs for them. When did it become okay for babies to be in bars?,11091\r\n",
      "1423026000,1474381511,1474381511,gvWzAiMrFm9AgfSN2I8Miw,3,-IykNeuM4IP_c3QxDuB_GQ,\"T'\r\n",
      "--\r\n",
      "1423026000,1474381511,1474381511,gvWzAiMrFm9AgfSN2I8Miw,3,-IykNeuM4IP_c3QxDuB_GQ,\"T'. See debug.log for more details, reference 978ede58-da87-43f3-ac84-12b503537811.\r\n",
      "2016-09-20 16:27:03.265+0000 ERROR [o.n.b.v.r.i.ErrorReporter] Client triggered an unexpected error [UnknownError]: At /Users/thomaseffland/neo4j_data/import/reviews.csv:53127 -  there's a field starting with a quote and whereas it ends that quote there seems to be characters in that field after that ending quote. That isn't supported. This is what I read: 'It has definitely gone downhill. I am not sure if the old chef is still there, but clearly someone inside the kitchen does not know how to cook food.\r\n",
      "\r\n",
      "The first dish I ordered was the fried prawns with fried sweet condense milk. The shrimp wasn't too bad, but the fried sweet condense milk was cold inside. I informed them that it was cold and they quickly reheated it. I thought it was nice of them to quickly try and rectify the situation. But it came out burnt. :-\\\r\n",
      "\r\n",
      "The second dish I had problems with was the Fish Maw Soup. What I disliked wasn't about the quality of food, but more of the service. I had a party of 14 people and requested portions large enough that can feed the entire group with possible refills. The waiter was confident about their large size and was very insistent that it was sufficent enough. When the soup came out and was distributed evenly into 14 bowls, it was half full. :-\\\r\n",
      "\r\n",
      "The third dish was the Sticky Rice with Crabs for a whopping $85. It was decent until I bit into shards of scattered shells. I have never encountered so many small pieces of wandering shells in my rice before. It's like picking needles out of the haystack. :-\\\r\n",
      "\r\n",
      "Overall -- I felt cheated. My teeth hurts. :-\",2840796\r\n",
      "1421038800,1474381508,1474381508,5f3M0k7mTjrKoQFJW-PFzg,3,-IygCr86HZ1gZLJHpXpZuw,Good food and beer selection. Just wish there weren't so many kids in a BEER garden. The place even has special high chairs for them. When did it become okay for babies to be in bars?,11091\r\n",
      "--\r\n",
      "1423026000,1474381511,1474381511,gvWzAiMrFm9AgfSN2I8Miw,3,-IykNeuM4IP_c3QxDuB_GQ,\"T', reference 978ede58-da87-43f3-ac84-12b503537811. At /Users/thomaseffland/neo4j_data/import/reviews.csv:53127 -  there's a field starting with a quote and whereas it ends that quote there seems to be characters in that field after that ending quote. That isn't supported. This is what I read: 'It has definitely gone downhill. I am not sure if the old chef is still there, but clearly someone inside the kitchen does not know how to cook food.\r\n",
      "\r\n",
      "The first dish I ordered was the fried prawns with fried sweet condense milk. The shrimp wasn't too bad, but the fried sweet condense milk was cold inside. I informed them that it was cold and they quickly reheated it. I thought it was nice of them to quickly try and rectify the situation. But it came out burnt. :-\\\r\n",
      "\r\n",
      "The second dish I had problems with was the Fish Maw Soup. What I disliked wasn't about the quality of food, but more of the service. I had a party of 14 people and requested portions large enough that can feed the entire group with possible refills. The waiter was confident about their large size and was very insistent that it was sufficent enough. When the soup came out and was distributed evenly into 14 bowls, it was half full. :-\\\r\n",
      "\r\n",
      "The third dish was the Sticky Rice with Crabs for a whopping $85. It was decent until I bit into shards of scattered shells. I have never encountered so many small pieces of wandering shells in my rice before. It's like picking needles out of the haystack. :-\\\r\n",
      "\r\n",
      "Overall -- I felt cheated. My teeth hurts. :-\",2840796\r\n",
      "1421038800,1474381508,1474381508,5f3M0k7mTjrKoQFJW-PFzg,3,-IygCr86HZ1gZLJHpXpZuw,Good food and beer selection. Just wish there weren't so many kids in a BEER garden. The place even has special high chairs for them. When did it become okay for babies to be in bars?,11091\r\n",
      "1423026000,1474381511,1474381511,gvWzAiMrFm9AgfSN2I8Miw,3,-IykNeuM4IP_c3QxDuB_GQ,\"T'\r\n"
     ]
    }
   ],
   "source": [
    "!grep -A 10 \"978ede58-da87-43f3-ac84-12b503537811\" /Users/thomaseffland/neo4j_data/logs/debug.log"
   ]
  },
  {
   "cell_type": "code",
   "execution_count": 66,
   "metadata": {
    "collapsed": false
   },
   "outputs": [
    {
     "name": "stdout",
     "output_type": "stream",
     "text": [
      "1470196800,1474381824,1474381824,lgzOZ1Z8fHOx6WS9e2QV8A,1,-IyW3XwNWEbvpHzh5FXvOw,\"It has definitely gone downhill. I am not sure if the old chef is still there, but clearly someone inside the kitchen does not know how to cook food.\r\n",
      "\r\n",
      "The first dish I ordered was the fried prawns with fried sweet condense milk. The shrimp wasn't too bad, but the fried sweet condense milk was cold inside. I informed them that it was cold and they quickly reheated it. I thought it was nice of them to quickly try and rectify the situation. But it came out burnt. :-\\\r\n",
      "\r\n",
      "The second dish I had problems with was the Fish Maw Soup. What I disliked wasn't about the quality of food, but more of the service. I had a party of 14 people and requested portions large enough that can feed the entire group with possible refills. The waiter was confident about their large size and was very insistent that it was sufficent enough. When the soup came out and was distributed evenly into 14 bowls, it was half full. :-\\\r\n",
      "\r\n",
      "The third dish was the Sticky Rice with Crabs for a whopping $85. It was decent until I bit into shards of scattered shells. I have never encountered so many small pieces of wandering shells in my rice before. It's like picking needles out of the haystack. :-\\\r\n",
      "\r\n",
      "Overall -- I felt cheated. My teeth hurts. :-\\\",2840796\r\n",
      "1421038800,1474381508,1474381508,5f3M0k7mTjrKoQFJW-PFzg,3,-IygCr86HZ1gZLJHpXpZuw,Good food and beer selection. Just wish there weren't so many kids in a BEER garden. The place even has special high chairs for them. When did it become okay for babies to be in bars?,11091\r\n",
      "1423026000,1474381511,1474381511,gvWzAiMrFm9AgfSN2I8Miw,3,-IykNeuM4IP_c3QxDuB_GQ,\"This used to be a favourite of ours, great for Friday happy hours.\r\n",
      "\r\n",
      "Recently the bar staff changed out and are a little snooty, unless you're a flirty guy.\r\n",
      "The hostesses and servers are lovely though.\r\n",
      "\r\n",
      "\r\n",
      "The apps were why we came but they're getting a little mass produced now. They come out really fast but at the detriment to quality and freshness.\",36606\r\n",
      "1208923200,1474381839,1474381839,RrYu2qflS9MkK8U8kwbBXg,4,-IymuQ5XN0JzCKGNItSG_A,\"Start spreading the news.. I'm leaving today... I want to be a part of it NY, NY.. \r\n",
      "These vagabond shoes, are longing to stray right through the very heart of it - NY, NY \r\n",
      "I want to wake up in the city that never sleeps.... Sing it Frank!!\r\n",
      "\r\n"
     ]
    }
   ],
   "source": [
    "!grep -A 20 \"It has definitely gone downhill. I am not sure if the old chef is still there, but clearly someone inside the kitchen does not know how to cook food.\" /Users/thomaseffland/neo4j_data/import/reviews.csv"
   ]
  },
  {
   "cell_type": "code",
   "execution_count": 26,
   "metadata": {
    "collapsed": false
   },
   "outputs": [
    {
     "data": {
      "text/plain": [
       "'a'"
      ]
     },
     "execution_count": 26,
     "metadata": {},
     "output_type": "execute_result"
    }
   ],
   "source": [
    "'a'.encode('utf8')"
   ]
  },
  {
   "cell_type": "code",
   "execution_count": null,
   "metadata": {
    "collapsed": true
   },
   "outputs": [],
   "source": []
  }
 ],
 "metadata": {
  "kernelspec": {
   "display_name": "Python 2",
   "language": "python",
   "name": "python2"
  },
  "language_info": {
   "codemirror_mode": {
    "name": "ipython",
    "version": 2
   },
   "file_extension": ".py",
   "mimetype": "text/x-python",
   "name": "python",
   "nbconvert_exporter": "python",
   "pygments_lexer": "ipython2",
   "version": "2.7.10"
  }
 },
 "nbformat": 4,
 "nbformat_minor": 0
}
